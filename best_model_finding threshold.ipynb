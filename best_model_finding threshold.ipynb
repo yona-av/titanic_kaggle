{
 "cells": [
  {
   "cell_type": "code",
   "execution_count": 1,
   "id": "04730771",
   "metadata": {},
   "outputs": [],
   "source": [
    "# import packages \n",
    "import numpy as np \n",
    "import pandas as pd\n",
    "import matplotlib.pyplot as plt\n",
    "import os \n",
    "import sys\n",
    "import seaborn as sns\n",
    "import scipy as sp\n",
    "import scipy.stats as stats\n",
    "from scipy.stats import norm\n",
    "import xgboost\n",
    "%matplotlib inline\n",
    "\n",
    "\n",
    "# import pre-processing modules \n",
    "from scipy import stats\n",
    "from sklearn.model_selection import train_test_split\n",
    "from sklearn.preprocessing import StandardScaler\n",
    "from sklearn.feature_selection import SelectFromModel \n",
    "from sklearn.compose import make_column_selector as selector\n",
    "from sklearn.preprocessing import OneHotEncoder, StandardScaler\n",
    "from sklearn.compose import ColumnTransformer\n",
    "from sklearn.pipeline import make_pipeline\n",
    "\n",
    "\n",
    "# import classifiers\n",
    "# scale robust\n",
    "from sklearn.ensemble import RandomForestClassifier\n",
    "from sklearn.linear_model import LogisticRegression\n",
    "from sklearn.naive_bayes import GaussianNB\n",
    "from sklearn.ensemble import AdaBoostClassifier\n",
    "from sklearn.ensemble import GradientBoostingClassifier\n",
    "from xgboost import XGBClassifier\n",
    "\n",
    "# scale sensitive\n",
    "from sklearn.linear_model import SGDClassifier\n",
    "from sklearn.svm import SVC\n",
    "from sklearn.neighbors import KNeighborsClassifier\n",
    "from sklearn.svm import LinearSVC\n",
    "\n",
    "# import evaluation modules\n",
    "from sklearn.model_selection import GridSearchCV\n",
    "from sklearn.model_selection import cross_val_score, cross_val_predict\n",
    "from sklearn.metrics import accuracy_score, confusion_matrix, precision_recall_fscore_support, classification_report\n",
    "from sklearn.metrics import  RocCurveDisplay, roc_auc_score, auc, roc_curve, PrecisionRecallDisplay, precision_recall_curve"
   ]
  },
  {
   "cell_type": "code",
   "execution_count": 2,
   "id": "d38ac8c8",
   "metadata": {},
   "outputs": [],
   "source": [
    "test_set = pd.read_csv(r\"C:/Users/Yehonatan/PycharmProject/DS/projects/titanic/ignore/test.csv\")\n",
    "train_set = pd.read_csv(r\"C:/Users/Yehonatan/PycharmProject/DS/projects/titanic/ignore/train.csv\")\n",
    "\n",
    "df_original = pd.concat([train_set,test_set], axis=0, ignore_index=True )\n",
    "df_train = (train_set.copy()).rename(columns=str.lower)\n",
    "df_test = (test_set.copy()).rename(columns=str.lower)\n",
    "\n",
    "df = (df_original.copy()).rename(columns=str.lower)\n"
   ]
  },
  {
   "cell_type": "code",
   "execution_count": 3,
   "id": "de9059f6",
   "metadata": {},
   "outputs": [],
   "source": [
    "# parse title and fam name from df \n",
    "def parse_name(df):\n",
    "    last_name = df['name'].apply(lambda x : x.split(', ')[0])\n",
    "    temp = df['name'].apply(lambda x : x.split(', ')[1])\n",
    "    title = temp.apply(lambda x : x.split('.')[0])\n",
    "    return title, last_name\n",
    "\n",
    "def cat_to_numeric(df):\n",
    "    cat_columns = df.select_dtypes(['object']).columns\n",
    "    df[cat_columns] = df[cat_columns].apply(lambda x: pd.factorize(x)[0])\n",
    "    return df \n",
    "\n",
    "def pvalue_filter(target_df, features_df, alpha): # returns a list of columns that are possible drop, p_val > alpha, corr, pval\n",
    "    features_columns_names = list(features_df)\n",
    "    target_column_name = list(target_df)\n",
    "    features_np = features_df.to_numpy()\n",
    "    target_np = target_df.to_numpy()\n",
    "    drop_index = []\n",
    "    p_val_list =[]\n",
    "    corr_list = []\n",
    "    \n",
    "    for i in range(len(features_columns_names)):\n",
    "        corr, p_val = sp.stats.pearsonr(features_np[:,i], target_np)\n",
    "        corr_list.append(round(corr,3))\n",
    "        if p_val > alpha:           # accept the null hypothesis, no statisitcal significance  \n",
    "            drop_index.append(i)\n",
    "            p_val_list.append(p_val)\n",
    "            \n",
    "    drop_col = [features_columns_names[i] for i in drop_index]\n",
    "    return drop_col, corr_list, p_val_list"
   ]
  },
  {
   "cell_type": "markdown",
   "id": "bd6b8464",
   "metadata": {},
   "source": [
    "## deal with age nans\n",
    "In this code section I fill in the Nan values in the age column in few ways:\n",
    "- Those with the title Master are less then 15 years so they get the mean age of those under 15 years.\n",
    "- Lone travelers I assume that they are older than 15. even though I miss the category of kids who travelled with a nany.   \n",
    "- One companion. I tried to to extract information through checking the companion's information \n",
    "- Hand fill values special cases "
   ]
  },
  {
   "cell_type": "code",
   "execution_count": 4,
   "id": "2df2426c",
   "metadata": {},
   "outputs": [
    {
     "name": "stdout",
     "output_type": "stream",
     "text": [
      "29.69911764705882\n"
     ]
    },
    {
     "data": {
      "text/plain": [
       "<AxesSubplot: xlabel='age', ylabel='Count'>"
      ]
     },
     "execution_count": 4,
     "metadata": {},
     "output_type": "execute_result"
    },
    {
     "data": {
      "image/png": "[encoded data removed]",
      "text/plain": [
       "<Figure size 640x480 with 1 Axes>"
      ]
     },
     "metadata": {},
     "output_type": "display_data"
    }
   ],
   "source": [
    "age = df_train[~df_train['age'].isna()]\n",
    "one_comp = age[age['parch'] == 0] \n",
    "one_comp = one_comp[one_comp['sibsp'] == 1]\n",
    "print(age['age'].mean())\n",
    "sns.histplot(data=one_comp, x=\"age\", binwidth=3 )"
   ]
  },
  {
   "cell_type": "code",
   "execution_count": 5,
   "id": "acc5daee",
   "metadata": {},
   "outputs": [
    {
     "name": "stdout",
     "output_type": "stream",
     "text": [
      "df  age nans 263\n"
     ]
    }
   ],
   "source": [
    "age_nan = df[df['age'].isna()]  \n",
    "print('df  age nans',df['age'].isna().sum())\n",
    "\n",
    "\n",
    "###### Deal with Masters  ############################################\n",
    "title, last_name = parse_name(age_nan)\n",
    "title = title[title == 'Master']\n",
    "master_index = title.index.to_numpy()\n",
    "\n",
    "df_young = df[df[\"age\"] < 15 ]\n",
    "child_mean = round(df_young['age'].mean(),2)\n",
    "       \n",
    "for i in master_index:\n",
    "    df.at[i,'age'] = child_mean \n",
    "\n",
    "age_nan = df[df['age'].isna()] # update age_nan\n",
    "\n",
    "####### Deal with lone passengers ############################################\n",
    "\n",
    "lone_pass = age_nan[age_nan['sibsp'] == 0]\n",
    "lone_pass = lone_pass[lone_pass['parch'] == 0] # passengers who travel alone and cant determine their age by relatives\n",
    "\n",
    "\n",
    "# calc mean by gender\n",
    "df_male = df[df['sex'] == 'male']\n",
    "df_female = df[df['sex'] == 'female']\n",
    "male_mean = round(df_male['age'].mean(),2)\n",
    "female_mean = round(df_female['age'].mean(),2)\n",
    "\n",
    "lone_pass_male = lone_pass[lone_pass['sex'] == 'male']\n",
    "lone_pass_female = lone_pass[lone_pass['sex'] == 'female']\n",
    "\n",
    "l_p_m_index = (lone_pass_male.index).to_numpy() #l_p_m - lone passenger male\n",
    "l_p_f_index = (lone_pass_female.index).to_numpy() #l_p_f - lone passenger female\n",
    "\n",
    "for m in l_p_m_index:\n",
    "    df.at[m,'age'] = male_mean\n",
    "\n",
    "for f in l_p_f_index:\n",
    "    df.at[f,'age'] = female_mean\n",
    "    \n",
    "age_nan = df[df['age'].isna()] # update age_nan\n",
    "\n",
    "\n",
    "\n",
    "########## ONE companion (sibling or spouse) ############################################################\n",
    "# If possible assign the age of the companion  \n",
    "age = df[~df['age'].isna()]\n",
    "one_comp = age[age['parch'] == 0] \n",
    "one_comp = one_comp[one_comp['sibsp'] == 1]\n",
    "one_comp_mean = age['age'].mean()\n",
    "\n",
    "one_comp_nan = age_nan[age_nan['parch'] == 0] \n",
    "one_comp_nan = one_comp_nan[one_comp_nan['sibsp'] == 1]\n",
    "title_ocn, last_name_ocn = parse_name(one_comp_nan)\n",
    "ocn_index = (title_ocn.index).to_numpy()\n",
    "\n",
    "one_comp = df[df['parch'] == 0] #some companions are both nan in age\n",
    "one_comp = one_comp[one_comp['sibsp'] == 1]\n",
    "\n",
    "title_oc, last_name_oc = parse_name(one_comp)\n",
    "oc_index = (title_oc.index).to_numpy()\n",
    "\n",
    "for l in range(len(one_comp_nan)):\n",
    "    for i in range(len(one_comp)):\n",
    "        \n",
    "        if (list(last_name_ocn)[l] == list(last_name_oc)[i] and ocn_index[l] != oc_index[i]): #ensures same last name and not same person\n",
    "            \n",
    "            # the case where the companion has an age \n",
    "            if df.at[oc_index[i],'age'] != float('nan'): \n",
    "                df.at[ocn_index[l],'age'] =  df.at[oc_index[i],'age'] \n",
    "            \n",
    "            # the case where both passengers age is Nan\n",
    "            if list(title_ocn)[l] == 'Mrs' : \n",
    "                df.at[ocn_index[l],'age'] = female_mean\n",
    "                df.at[oc_index[i],'age'] = male_mean\n",
    "            \n",
    "            if list(title_ocn)[l] == 'Miss': # she is a miss and I assume that travels with a sibling so get young average\n",
    "                df.at[ocn_index[l],'age'] = one_comp_mean\n",
    "                df.at[oc_index[i],'age'] = one_comp_mean\n",
    "            \n",
    "            if list(title_ocn)[l] == 'Mr' and list(title_oc)[i] != 'Mrs': # single Mr\n",
    "                df.at[ocn_index[l],'age'] = one_comp_mean\n",
    "                df.at[oc_index[i],'age'] = one_comp_mean\n",
    "\n",
    "\n",
    "age_nan = df[df['age'].isna()] # update the age_nan\n",
    "\n",
    "# notice there are only two famillies with 3 siblings travelling together I assume they are all young <15.\n",
    "three_siblings = age_nan[age_nan['parch'] == 0] \n",
    "three_siblings = three_siblings[three_siblings['sibsp'] == 2]\n",
    "index_temp = three_siblings.index.to_numpy()\n",
    "for i in index_temp:\n",
    "    df.at[i,'age'] = child_mean\n",
    "\n",
    "age_nan = df[df['age'].isna()] # update the age_nan\n",
    "\n",
    "########### deal with special cases age_Nans #######################################################\n",
    "  \n",
    "# sage family\n",
    "#parents\n",
    "df.at[1233, 'age'] = male_mean\n",
    "df.at[1256, 'age'] = female_mean\n",
    "#kids\n",
    "sages = df[df['ticket'] == 'CA. 2343']\n",
    "sages = sages[sages['age'].isna()]\n",
    "index_temp = sages.index.to_numpy()\n",
    "for i in index_temp:\n",
    "    df.at[i,'age'] = child_mean\n",
    "age_nan = df[df['age'].isna()] # update age_nan\n",
    "\n",
    "# lebfre family\n",
    "df.at[1023, 'age'] = female_mean\n",
    "lebfre = df[df['ticket'] == '4133']\n",
    "lebfre = lebfre[lebfre['age'].isna()]\n",
    "index_temp = lebfre.index.to_numpy()\n",
    "for i in index_temp:\n",
    "    df.at[i,'age'] = child_mean\n",
    "age_nan = df[df['age'].isna()] # update age_nan\n",
    "\n",
    "#jhonston family\n",
    "#parents\n",
    "df.at[783, 'age'] = male_mean\n",
    "df.at[924, 'age'] = female_mean\n",
    "df.at[888,'age'] = child_mean\n",
    "age_nan = df[df['age'].isna()] # update age_nan\n",
    "\n",
    "# others\n",
    "df.at[1024, 'age'] = male_mean # has no sibsp as I looked\n",
    "df.at[128, 'age'] = child_mean\n",
    "df.at[593, 'age'] = child_mean\n",
    "df.at[166, 'age'] = female_mean\n",
    "df.at[533, 'age'] = female_mean\n",
    "df.at[593, 'age'] = female_mean\n",
    "df.at[1116, 'age'] = female_mean\n",
    "df.at[140, 'age'] = female_mean\n",
    "age_nan = df[df['age'].isna()] # update age_nan\n"
   ]
  },
  {
   "cell_type": "code",
   "execution_count": 6,
   "id": "a4223954",
   "metadata": {},
   "outputs": [
    {
     "name": "stdout",
     "output_type": "stream",
     "text": [
      "df  cabin nans 1014\n",
      "df cabin nans updated 998\n",
      "df cabin nans updated 981\n",
      "df cabin nans updated 0\n"
     ]
    }
   ],
   "source": [
    "# deal with cabin nan by comparing the ticket number \n",
    "# small number of nans but I know for certain that they get the correct cabin\n",
    "cabin = df[~df['cabin'].isna()]\n",
    "cabin_nan =  df[df['cabin'].isna()]\n",
    "print('df  cabin nans',df['cabin'].isna().sum())\n",
    "\n",
    "for t in range(len(cabin['ticket'])):\n",
    "    for n in range(len(cabin_nan['ticket'])):\n",
    "        if cabin['ticket'].iloc[t] == cabin_nan['ticket'].iloc[n] :\n",
    "           \n",
    "            index = cabin['passengerid'].iloc[t] - 1    \n",
    "            index_nan = cabin_nan['passengerid'].iloc[n] - 1 \n",
    "            if index != index_nan:\n",
    "\n",
    "                # update the value of cabin_nan in the df\n",
    "                df.at[index_nan,'cabin'] = df.at[index,'cabin']\n",
    "\n",
    "\n",
    "\n",
    "cabin_nan =  df[df['cabin'].isna()] # update cabin_nan\n",
    "print('df cabin nans updated',len(cabin_nan))    \n",
    "\n",
    "\n",
    "# handle single men and single women in seconde and thied class \n",
    "\n",
    "s_t_class_cabin = cabin[cabin['pclass'] != 1] \n",
    "single_temp = s_t_class_cabin[s_t_class_cabin['sibsp'] == 0]\n",
    "single_cabin = single_temp[single_temp['parch'] == 0]\n",
    "\n",
    "s_t_class_cabin_female = single_cabin[single_cabin['sex'] == 'female'] # single 2 3 class female\n",
    "\n",
    "s_t_class_cabin_nan = cabin_nan[cabin_nan['pclass'] != 1]\n",
    "single_temp = s_t_class_cabin_nan[s_t_class_cabin_nan['sibsp'] == 0]\n",
    "single_cabin_nan = single_temp[single_temp['parch'] == 0]\n",
    "\n",
    "\n",
    "s_t_class_cabin_nan_female = single_cabin_nan[single_cabin_nan['sex'] == 'female']\n",
    "\n",
    "# deal with female. compare fare  \n",
    "#why separated - coz generlizing the cabin nan in male might be different   \n",
    "\n",
    "for t in range(len(s_t_class_cabin_female)):\n",
    "    for n in range(len(s_t_class_cabin_nan_female)):\n",
    "        if s_t_class_cabin_female['fare'].iloc[t] == s_t_class_cabin_nan_female['fare'].iloc[n] :\n",
    "            \n",
    "            pclass_cabin = s_t_class_cabin_female['pclass'].iloc[t]              \n",
    "            pclass_cabin_nan = s_t_class_cabin_nan_female['pclass'].iloc[n]\n",
    "            index = s_t_class_cabin_female['passengerid'].iloc[t] - 1    \n",
    "            index_nan = s_t_class_cabin_nan_female['passengerid'].iloc[n] - 1 \n",
    "            \n",
    "            if index != index_nan and pclass_cabin == pclass_cabin_nan : # make sure the deduction about cabin doesnt cross pclass\n",
    "\n",
    "                df.at[index_nan,'cabin'] = df.at[index,'cabin'] # update the value of cabin_nan in the df\n",
    "\n",
    "cabin_nan =  df[df['cabin'].isna()] \n",
    "print('df cabin nans updated',len(cabin_nan))    \n",
    "\n",
    "# deal with the rest \n",
    "\n",
    "for p in range(len(cabin_nan)):\n",
    "    \n",
    "    # third class\n",
    "    if cabin_nan['pclass'].iloc[p] == 3 and cabin_nan['sex'].iloc[p] == 'male':\n",
    "        index = cabin_nan['passengerid'].iloc[p] - 1\n",
    "        p = np.random.randint(low=1, high=101, size=1, dtype=int)[0]\n",
    "        if p <= 13:\n",
    "            df.at[index,'cabin'] = 'l'\n",
    "        elif p > 13:\n",
    "                df.at[index,'cabin'] = 'D'\n",
    "    \n",
    "    if cabin_nan['pclass'].iloc[p] == 3 and cabin_nan['sex'].iloc[p] == 'female':\n",
    "        index = cabin_nan['passengerid'].iloc[p] - 1\n",
    "        p = np.random.randint(low=1, high=101, size=1, dtype=int)[0]\n",
    "        if p < 50:\n",
    "            df.at[index,'cabin'] = 'l'\n",
    "        elif p >= 50:\n",
    "                df.at[index,'cabin'] = 'D'\n",
    "                \n",
    "    # second class\n",
    "    if cabin_nan['pclass'].iloc[p] == 2 and cabin_nan['sex'].iloc[p] == 'male':\n",
    "        index = cabin_nan['passengerid'].iloc[p] - 1\n",
    "        p = np.random.randint(low=1, high=101, size=1, dtype=int)[0]\n",
    "        if p <= 13:\n",
    "            df.at[index,'cabin'] = 'l'\n",
    "        elif p > 13:\n",
    "                df.at[index,'cabin'] = 'D'\n",
    "    \n",
    "    if cabin_nan['pclass'].iloc[p] == 2 and cabin_nan['sex'].iloc[p] == 'female':\n",
    "        index = cabin_nan['passengerid'].iloc[p] - 1\n",
    "        p = np.random.randint(low=1, high=101, size=1, dtype=int)[0]\n",
    "        if p <= 93:\n",
    "            df.at[index,'cabin'] = 'l'\n",
    "        elif p >= 93:\n",
    "                df.at[index,'cabin'] = 'D'\n",
    "                \n",
    "    # first class\n",
    "    if cabin_nan['pclass'].iloc[p] == 1 and cabin_nan['sex'].iloc[p] == 'male':\n",
    "        index = cabin_nan['passengerid'].iloc[p] - 1\n",
    "        p = np.random.randint(low=1, high=101, size=1, dtype=int)[0]\n",
    "        if p <= 22:\n",
    "            df.at[index,'cabin'] = 'l'\n",
    "        elif p > 22:\n",
    "                df.at[index,'cabin'] = 'D'\n",
    "    \n",
    "    if cabin_nan['pclass'].iloc[p] == 1 and cabin_nan['sex'].iloc[p] == 'female':\n",
    "        index = cabin_nan['passengerid'].iloc[p] - 1\n",
    "        df.at[index,'cabin'] = 'l'\n",
    "        \n",
    "        \n",
    "        \n",
    "cabin_nan =  df[df['cabin'].isna()] # update cabin_nan\n",
    "print('df cabin nans updated',len(cabin_nan)) "
   ]
  },
  {
   "cell_type": "markdown",
   "id": "8d36061d",
   "metadata": {},
   "source": [
    "## other nans"
   ]
  },
  {
   "cell_type": "code",
   "execution_count": 7,
   "id": "56607182",
   "metadata": {},
   "outputs": [],
   "source": [
    "\n",
    "# fill fare nan as the average of 3 class . \n",
    "\n",
    "t_class = df[df['pclass'] == 3]\n",
    "t_class_mean = t_class['fare'].mean()\n",
    "df.at[1043, 'fare'] = t_class_mean\n",
    "\n",
    "# fill nan embarked to be an class of itself\n",
    "df.at[61, 'embarked'] = 'M'\n",
    "df.at[829, 'embarked'] = 'M'\n",
    "\n"
   ]
  },
  {
   "cell_type": "code",
   "execution_count": 8,
   "id": "f53e4b34",
   "metadata": {},
   "outputs": [],
   "source": [
    "title, last_name = parse_name(df) # parse names and fill name as last name to categorize it \n",
    "df['name'] = last_name \n",
    "# df['cabin'] = df['cabin'].fillna(5) # all the nans in cabin are a caegory 5 \n",
    "df = cat_to_numeric(df)\n",
    "\n",
    "survived = df['survived']\n",
    "passenger_id = df['passengerid'].values\n"
   ]
  },
  {
   "cell_type": "code",
   "execution_count": 9,
   "id": "ec614e6e",
   "metadata": {},
   "outputs": [
    {
     "data": {
      "text/plain": [
       "survived       1.000000\n",
       "sex            0.543351\n",
       "cabin          0.294172\n",
       "fare           0.257307\n",
       "embarked       0.118026\n",
       "parch          0.081629\n",
       "name           0.017314\n",
       "passengerid   -0.005007\n",
       "sibsp         -0.035322\n",
       "ticket        -0.047298\n",
       "age           -0.070587\n",
       "pclass        -0.338481\n",
       "Name: survived, dtype: float64"
      ]
     },
     "execution_count": 9,
     "metadata": {},
     "output_type": "execute_result"
    }
   ],
   "source": [
    "corr_mat = df.corr()\n",
    "corr_mat['survived'].sort_values(ascending=False)"
   ]
  },
  {
   "cell_type": "code",
   "execution_count": 10,
   "id": "29623f24",
   "metadata": {},
   "outputs": [],
   "source": [
    "#df = df.drop(columns=['cabin', 'name', 'ticket']) # for now drop cabin"
   ]
  },
  {
   "cell_type": "code",
   "execution_count": 11,
   "id": "07d2659e",
   "metadata": {},
   "outputs": [],
   "source": [
    "df = df.drop(columns=['survived','passengerid','name', 'sibsp', 'ticket']) \n",
    "# 'name', 'sibsp', 'ticket' dropped those columns logic in unstandradized models file p value filter  "
   ]
  },
  {
   "cell_type": "markdown",
   "id": "850fcf0e",
   "metadata": {},
   "source": [
    "# scaling"
   ]
  },
  {
   "cell_type": "code",
   "execution_count": 12,
   "id": "c1389909",
   "metadata": {},
   "outputs": [],
   "source": [
    "\n",
    "numerical_columns_selector = selector(dtype_exclude=int)\n",
    "categorical_columns_selector = selector(dtype_include=int)\n",
    "\n",
    "numerical_columns = numerical_columns_selector(df)\n",
    "categorical_columns = categorical_columns_selector(df)"
   ]
  },
  {
   "cell_type": "code",
   "execution_count": 13,
   "id": "bf0d7d53",
   "metadata": {},
   "outputs": [
    {
     "name": "stdout",
     "output_type": "stream",
     "text": [
      "['age', 'fare']\n",
      "['pclass', 'sex', 'parch', 'cabin', 'embarked']\n"
     ]
    }
   ],
   "source": [
    "print(numerical_columns)\n",
    "print(categorical_columns)"
   ]
  },
  {
   "cell_type": "code",
   "execution_count": 14,
   "id": "2b7fb511",
   "metadata": {},
   "outputs": [],
   "source": [
    "categorical_preprocessor = OneHotEncoder(handle_unknown=\"ignore\")\n",
    "numerical_preprocessor = StandardScaler()"
   ]
  },
  {
   "cell_type": "code",
   "execution_count": 15,
   "id": "7d245683",
   "metadata": {},
   "outputs": [],
   "source": [
    "preprocessor = ColumnTransformer([\n",
    "    ('one-hot-encoder', categorical_preprocessor, categorical_columns),\n",
    "    ('standard_scaler', numerical_preprocessor, numerical_columns)])"
   ]
  },
  {
   "cell_type": "code",
   "execution_count": 16,
   "id": "93f5d896",
   "metadata": {},
   "outputs": [],
   "source": [
    "model = make_pipeline(preprocessor, SVC(kernel='rbf',probability= True) )"
   ]
  },
  {
   "cell_type": "code",
   "execution_count": 17,
   "id": "31bc9aaa",
   "metadata": {},
   "outputs": [],
   "source": [
    "# divide back into train test sets \n",
    "df_train = df.iloc[:890,:]\n",
    "df_test = df.iloc[891:,:]\n",
    "\n",
    "x_train = df_train\n",
    "y_train = survived.iloc[:890]\n",
    "\n",
    "\n",
    "x_test = df_test\n",
    "y_test = survived.iloc[891:]"
   ]
  },
  {
   "cell_type": "code",
   "execution_count": 18,
   "id": "4af8ddde",
   "metadata": {},
   "outputs": [],
   "source": [
    "model = model.fit(x_train, y_train)\n",
    "y_train_pred_temp= model.predict_proba(x_train)\n",
    "y_train_pred_temp= y_train_pred_temp[:,1]"
   ]
  },
  {
   "cell_type": "code",
   "execution_count": 19,
   "id": "d3267f31",
   "metadata": {},
   "outputs": [
    {
     "name": "stdout",
     "output_type": "stream",
     "text": [
      "[0.14777057 0.94572001 0.35886087 0.89699694 0.15148373 0.15093979\n",
      " 0.15155414 0.27565747 0.19456189 0.97004443 0.46839897 0.89698668\n",
      " 0.14766986 0.05666656 0.34225033 0.88891322 0.21582025 0.12939591\n",
      " 0.38144164 0.73914509 0.13332383 0.30060685 0.89853032 0.37255754\n",
      " 0.23439531 0.15229202 0.15152132 0.40273709 0.89694639 0.15119657\n",
      " 0.1219197  0.92282    0.8969965  0.15158904 0.15159464 0.15152257\n",
      " 0.13373866 0.1472197  0.33252757 0.89910474 0.39635446 0.90101251\n",
      " 0.13349901 0.97522233 0.90047615 0.15114705 0.14882818 0.89694915\n",
      " 0.41730771 0.3326953  0.13544537 0.09273505 0.94252328 0.9068115\n",
      " 0.1515598  0.47226857 0.89836012 0.14166669 0.89698728 0.1180481\n",
      " 0.18376255 0.94432601 0.1515313  0.21771235 0.15332207 0.5\n",
      " 0.9042327  0.14835084 0.19931305 0.14817744 0.14840067 0.13615526\n",
      " 0.1435862  0.15148647 0.17133908 0.13678089 0.07756863 0.0775426\n",
      " 0.81245642 0.37227596 0.14626692 0.14991061 0.89700305 0.15486788\n",
      " 0.89701198 0.55799943 0.1435099  0.15114705 0.89700042 0.1474841\n",
      " 0.07865276 0.14786948 0.15151168 0.07738811 0.10709255 0.15114705\n",
      " 0.15157933 0.6498209  0.89707293 0.1315252  0.55958757 0.15119657\n",
      " 0.33262839 0.07581142 0.15013628 0.14989057 0.34792865 0.15123585\n",
      " 0.14907736 0.89700086 0.15155275 0.72837348 0.14707073 0.53948826\n",
      " 0.83546585 0.14733717 0.14953775 0.12594662 0.20614408 0.15153421\n",
      " 0.1435862  0.15114705 0.10702204 0.90327832 0.14708301 0.31249225\n",
      " 0.15125293 0.14814774 0.89987687 0.1355195  0.12353931 0.14870331\n",
      " 0.42552371 0.9068115  0.13046333 0.15153763 0.89701754 0.16049761\n",
      " 0.15189379 0.32149507 0.40565738 0.5490713  0.35264989 0.21035134\n",
      " 0.1595459  0.23889508 0.14929709 0.15729074 0.19077857 0.15156326\n",
      " 0.15162083 0.89696897 0.11108512 0.06179591 0.15139022 0.07530085\n",
      " 0.89703609 0.1510045  0.15095728 0.1515901  0.04954839 0.90825783\n",
      " 0.14868718 0.1505419  0.23016498 0.16621093 0.90001416 0.151609\n",
      " 0.15153014 0.15932336 0.15155034 0.17811447 0.34839218 0.14733717\n",
      " 0.15153715 0.09399739 0.17881599 0.81587628 0.12917872 0.15244891\n",
      " 0.13658945 0.1150288  0.14777326 0.89696815 0.21749868 0.1764886\n",
      " 0.89637911 0.13245223 0.0361637  0.07481909 0.90805603 0.15159001\n",
      " 0.53990955 0.89700438 0.90813818 0.89706555 0.15125293 0.05141428\n",
      " 0.89694915 0.90145932 0.14919671 0.15160871 0.15204721 0.09537254\n",
      " 0.10260716 0.51470359 0.15082855 0.15001614 0.90005182 0.36661829\n",
      " 0.1482162  0.91056089 0.14777057 0.15153273 0.15166693 0.94305266\n",
      " 0.55890141 0.14560063 0.9534407  0.13028165 0.15345485 0.12864511\n",
      " 0.12029271 0.15119657 0.34660111 0.1459782  0.21909755 0.14819631\n",
      " 0.15819984 0.2355108  0.90811548 0.15055662 0.14785644 0.18282466\n",
      " 0.13371775 0.36566484 0.14793618 0.89770793 0.15371546 0.13271951\n",
      " 0.72837348 0.89401022 0.12979284 0.14788183 0.13494577 0.15157577\n",
      " 0.35641163 0.89697091 0.33552823 0.14885875 0.15141156 0.34316148\n",
      " 0.15161382 0.14924684 0.24267697 0.65047317 0.95373859 0.9265073\n",
      " 0.89705341 0.89696334 0.15125293 0.22581629 0.15161958 0.1516148\n",
      " 0.89694915 0.13810181 0.12783703 0.14812962 0.89708278 0.92207862\n",
      " 0.15387746 0.1541831  0.8963282  0.1725674  0.8969965  0.897056\n",
      " 0.480359   0.13681102 0.1329683  0.16180195 0.13065045 0.14990959\n",
      " 0.11010484 0.14846947 0.16742006 0.12334759 0.15054993 0.14720398\n",
      " 0.14692537 0.90205295 0.89698184 0.96684735 0.10760332 0.55299191\n",
      " 0.08566892 0.2444551  0.17172163 0.81566554 0.35409602 0.89698674\n",
      " 0.8969965  0.24576306 0.15847696 0.95823432 0.15114705 0.80849064\n",
      " 0.94062596 0.91979019 0.11286111 0.95603255 0.9563748  0.89695787\n",
      " 0.8968017  0.14989057 0.09937315 0.55775322 0.89867963 0.15004615\n",
      " 0.89704341 0.90673081 0.14777057 0.14924502 0.95721508 0.89804368\n",
      " 0.1515901  0.90619274 0.1065331  0.86463464 0.20814977 0.95404839\n",
      " 0.86352938 0.13488577 0.15876044 0.14179481 0.91228785 0.15119657\n",
      " 0.21308328 0.92714673 0.07514801 0.15157317 0.90763057 0.8966092\n",
      " 0.12843904 0.13046333 0.13725106 0.90145932 0.91021472 0.37045158\n",
      " 0.27468119 0.14249123 0.14627118 0.17027369 0.23155087 0.14308112\n",
      " 0.13374021 0.07935259 0.89698083 0.91040896 0.897019   0.897019\n",
      " 0.05648213 0.11482599 0.17156572 0.15160116 0.14937327 0.1512818\n",
      " 0.89704353 0.80852949 0.89694915 0.95954494 0.56106763 0.15154791\n",
      " 0.14846947 0.24975705 0.27914946 0.95330444 0.35008907 0.19348011\n",
      " 0.20623225 0.14877259 0.89701189 0.82907638 0.15178092 0.89851068\n",
      " 0.15119657 0.15457661 0.209757   0.91006411 0.15126234 0.96759215\n",
      " 0.55762867 0.14745914 0.14987726 0.94308264 0.4144604  0.14729082\n",
      " 0.37177696 0.14954053 0.18212209 0.89700053 0.14776688 0.14852666\n",
      " 0.34619491 0.14718864 0.3452676  0.13200222 0.12030284 0.80088434\n",
      " 0.14747883 0.2084249  0.07756863 0.15166679 0.93445708 0.13681102\n",
      " 0.13797726 0.55968693 0.90120389 0.899453   0.12917872 0.17562046\n",
      " 0.13349901 0.1644058  0.07868951 0.1590123  0.07805525 0.07768384\n",
      " 0.90526977 0.89065179 0.15125293 0.26740319 0.48495232 0.55864245\n",
      " 0.91693617 0.15250243 0.15154403 0.93100012 0.15153108 0.89705379\n",
      " 0.23745454 0.13107938 0.90062973 0.14623251 0.14812962 0.90489712\n",
      " 0.15112718 0.88533937 0.91251131 0.14840426 0.7499755  0.25891352\n",
      " 0.12883328 0.14874409 0.25931724 0.46016312 0.15114705 0.13905439\n",
      " 0.15160843 0.91709481 0.89694936 0.15125293 0.2687472  0.15179235\n",
      " 0.15148315 0.15157282 0.0775426  0.14910392 0.13681102 0.12748719\n",
      " 0.15126424 0.90036243 0.15141156 0.14907136 0.89784692 0.89793723\n",
      " 0.34841723 0.17739623 0.13200222 0.07887379 0.09024627 0.31518236\n",
      " 0.13235277 0.13681102 0.12273845 0.47977757 0.52794173 0.2084249\n",
      " 0.95077855 0.15152659 0.1510045  0.27750205 0.07747773 0.14798062\n",
      " 0.15154362 0.15157246 0.1472197  0.15048227 0.90054654 0.14961898\n",
      " 0.86492877 0.1476672  0.1505419  0.90177224 0.89695152 0.38912268\n",
      " 0.8970033  0.36087585 0.89706161 0.15144766 0.1463056  0.15250428\n",
      " 0.15224994 0.15114705 0.43134746 0.89704168 0.14788592 0.15162178\n",
      " 0.90748653 0.14736942 0.91502868 0.15178777 0.92650284 0.14720398\n",
      " 0.15152132 0.89703302 0.13373866 0.14202167 0.89694936 0.1586678\n",
      " 0.14776688 0.20460466 0.92797311 0.15152029 0.18526592 0.80784203\n",
      " 0.36964839 0.89780402 0.15154924 0.93273999 0.14969383 0.95479839\n",
      " 0.89697679 0.16326475 0.13634697 0.12829428 0.15164574 0.1304307\n",
      " 0.89065179 0.1155359  0.05028392 0.59137706 0.81072504 0.12441897\n",
      " 0.15121724 0.18376625 0.34972507 0.12799306 0.90112042 0.1978316\n",
      " 0.89698526 0.39918877 0.15125293 0.14621537 0.12821365 0.15114705\n",
      " 0.36584526 0.08223638 0.14863911 0.15151221 0.13373866 0.15179757\n",
      " 0.14874345 0.89704858 0.43138861 0.8969965  0.15345485 0.14211619\n",
      " 0.90925228 0.90795447 0.81251787 0.15178092 0.89715215 0.89700813\n",
      " 0.14885875 0.20578515 0.13322088 0.89695952 0.15080397 0.26276208\n",
      " 0.14707073 0.0775426  0.15159134 0.90874634 0.0758754  0.6092064\n",
      " 0.13707358 0.04838537 0.90987616 0.12620428 0.15152132 0.30088561\n",
      " 0.89732839 0.15119657 0.1516218  0.13798243 0.13472501 0.07520219\n",
      " 0.15105648 0.16588353 0.95708294 0.9230941  0.15164385 0.15148065\n",
      " 0.89401022 0.15125293 0.07508405 0.89700623 0.06445248 0.55285307\n",
      " 0.92634783 0.13066472 0.14620824 0.30164122 0.12205653 0.14740394\n",
      " 0.14073646 0.15154123 0.1515001  0.90905275 0.08228758 0.15126048\n",
      " 0.38342197 0.07832846 0.45667753 0.14936721 0.17056064 0.90489712\n",
      " 0.15178092 0.11800537 0.15725642 0.14790199 0.14786948 0.95954494\n",
      " 0.15795883 0.16662896 0.90036243 0.31306928 0.14863911 0.26429876\n",
      " 0.15131016 0.55199478 0.15119657 0.90299294 0.14686275 0.89694749\n",
      " 0.90273036 0.13880787 0.15119657 0.52591107 0.13453181 0.15157454\n",
      " 0.26776332 0.10516552 0.15158241 0.15097574 0.14779715 0.14611945\n",
      " 0.13046333 0.07758941 0.14029818 0.94106446 0.9076333  0.17439143\n",
      " 0.1595315  0.13002856 0.13681102 0.1499935  0.14770067 0.34092397\n",
      " 0.17541827 0.89707831 0.89706338 0.51739425 0.14649958 0.10187159\n",
      " 0.12199695 0.20020907 0.07964018 0.14622147 0.14996872 0.89703095\n",
      " 0.36628283 0.8928134  0.16662896 0.16124008 0.1268491  0.15105273\n",
      " 0.13798243 0.89699357 0.15167007 0.15151013 0.89699789 0.4324486\n",
      " 0.48392618 0.15650431 0.14864071 0.14075786 0.90412906 0.39620558\n",
      " 0.89702688 0.77023111 0.96099295 0.16756886 0.3674136  0.14991644\n",
      " 0.16675962 0.15156642 0.89699073 0.90121275 0.15144452 0.15192624\n",
      " 0.91658913 0.10767139 0.13394555 0.15166794 0.39191401 0.14705391\n",
      " 0.86687565 0.89699431 0.12551216 0.35638146 0.90094099 0.31727036\n",
      " 0.13681102 0.13453181 0.13453181 0.07811522 0.33588566 0.89698498\n",
      " 0.15119657 0.15119657 0.35385141 0.17259333 0.89754953 0.14271782\n",
      " 0.15148659 0.15159377 0.08827912 0.90656928 0.25017842 0.15073527\n",
      " 0.92705022 0.65243524 0.15163857 0.14729674 0.89704381 0.85833836\n",
      " 0.14993637 0.1595459  0.15179235 0.92937593 0.14969383 0.1444249\n",
      " 0.20263706 0.94216514 0.15383051 0.9131909  0.15160737 0.89198943\n",
      " 0.14748548 0.15168127 0.14647848 0.12784443 0.74326061 0.13374021\n",
      " 0.87976559 0.1500233  0.15626182 0.51298645 0.15125858 0.89696746\n",
      " 0.86435641 0.92199254 0.17415313 0.07030778 0.14861292 0.14847796\n",
      " 0.34391645 0.12075174 0.29471923 0.15251474 0.15125293 0.16441345\n",
      " 0.12232369 0.15274588 0.14805068 0.14240729 0.89703003 0.37236847\n",
      " 0.13494418 0.20522948 0.13394555 0.89744938 0.86113393 0.7221523\n",
      " 0.14973586 0.15152961 0.15158517 0.34354705 0.14240729 0.94316228\n",
      " 0.14862123 0.15153362 0.13644114 0.1770675  0.15124397 0.16545918\n",
      " 0.35173339 0.22573633 0.14026601 0.14332543 0.89705726 0.14885589\n",
      " 0.13349364 0.55054429 0.21069534 0.15162322 0.09692716 0.89702513\n",
      " 0.15125293 0.89702082 0.89420946 0.84853996 0.13373866 0.14732975\n",
      " 0.14937292 0.90758328 0.14665165 0.15114705 0.17133908 0.4800149\n",
      " 0.14779715 0.21397552 0.94673769 0.11918256 0.10626045 0.14244475\n",
      " 0.15160871 0.1173716  0.13051193 0.96705502 0.21003986 0.15152905\n",
      " 0.68678033 0.89702501 0.85846981 0.18209325 0.89982795 0.26094823\n",
      " 0.63636796 0.13373866 0.14517236 0.14245775 0.89958021 0.13658945\n",
      " 0.13218605 0.90941806 0.95263289 0.17371732 0.15071558 0.41788247\n",
      " 0.14861638 0.90116646 0.15513565 0.13047858 0.95316513 0.89696352\n",
      " 0.09443617 0.14863911 0.15119657 0.89701176 0.89700152 0.15190327\n",
      " 0.54520734 0.1296606  0.08418813 0.32273275 0.12864511 0.89704278\n",
      " 0.15292337 0.54522508]\n"
     ]
    }
   ],
   "source": [
    "print(y_train_pred_temp)"
   ]
  },
  {
   "cell_type": "markdown",
   "id": "92f3391a",
   "metadata": {},
   "source": [
    "# models"
   ]
  },
  {
   "cell_type": "code",
   "execution_count": 20,
   "id": "7637112d",
   "metadata": {},
   "outputs": [],
   "source": [
    "# # rf\n",
    "# clf = LogisticRegression(random_state=9, max_iter=500, solver = 'newton-cg') \n",
    "# clf = SGDClassifier(max_iter=1000, tol=1e-3)\n",
    "# clf = SVC(kernel='poly')\n",
    "# clf = KNeighborsClassifier()\n",
    "# clf = GradientBoostingClassifier(n_estimators=40, learning_rate=0.2,max_depth=2, random_state=0)\n",
    "# clf = LinearSVC(random_state=0, tol=1e-5)"
   ]
  },
  {
   "cell_type": "code",
   "execution_count": 21,
   "id": "cc8fcef7",
   "metadata": {},
   "outputs": [],
   "source": [
    "# precision, recall, f_1, support = precision_recall_fscore_support(y_train, y_train_pred, average='binary')\n",
    "# accuracy = accuracy_score(y_train, y_train_pred)\n",
    "# print('accuracy :', np.round(accuracy,3))\n",
    "# print('precision :', np.round(precision,3))\n",
    "# print('recall :', np.round(recall,3))\n",
    "# print('f_score :', np.round(f_1,3))"
   ]
  },
  {
   "cell_type": "code",
   "execution_count": 22,
   "id": "ee19c12d",
   "metadata": {},
   "outputs": [],
   "source": [
    "# cv_5_accuracy = cross_val_score(model, x_train , y_train, cv=5, scoring='accuracy')\n",
    "# cv_5_precision = cross_val_score(model, x_train , y_train, cv=5, scoring='precision')\n",
    "# cv_5_recall = cross_val_score(model, x_train , y_train, cv=5, scoring='recall')\n",
    "# cv_5_f1 = cross_val_score(model, x_train , y_train, cv=5, scoring='f1')\n",
    "\n",
    "# print('cv_avg_accuracy :', np.round(cv_5_accuracy.mean(),3))\n",
    "# print('cv_avg_precision', np.round(cv_5_precision.mean(),3))\n",
    "# print('cv_avg_recall', np.round(cv_5_recall.mean(),3))\n",
    "# print('cv_avg_fscore :', np.round(cv_5_f1.mean(),3))"
   ]
  },
  {
   "cell_type": "code",
   "execution_count": 23,
   "id": "549af6f9",
   "metadata": {},
   "outputs": [],
   "source": [
    "# y_pred = cross_val_predict(model, x_train, y_train, cv=5)\n",
    "# cnf_mx = confusion_matrix(y_train, y_pred)\n",
    "# print(cnf_mx)\n",
    "# print(classification_report(y_train, y_traipred))  "
   ]
  },
  {
   "cell_type": "code",
   "execution_count": 24,
   "id": "137128e4",
   "metadata": {},
   "outputs": [],
   "source": [
    "# y_pred = cross_val_predict(model, x_train, y_train, cv=3, method = 'decision_function')\n",
    "# precisions, recalls, thresholds_2 = precision_recall_curve(y_train, y_pred)\n",
    "# plt.plot(thresholds_2, precisions[:-1], 'b--', label='Precision')\n",
    "# plt.plot(thresholds_2, recalls[:-1], 'g-', label='Recall')\n",
    "# plt.xlabel('Threshold')\n",
    "# plt.legend(loc=('lower left'))\n",
    "# plt.xlim([-2,2])"
   ]
  },
  {
   "cell_type": "code",
   "execution_count": 25,
   "id": "45b1f63d",
   "metadata": {},
   "outputs": [],
   "source": [
    "# plt.plot(recalls[:-1], precisions[:-1], 'b--')\n",
    "# plt.xlabel('Recall')\n",
    "# plt.ylabel('Precision')\n"
   ]
  },
  {
   "cell_type": "code",
   "execution_count": 29,
   "id": "551c5e33",
   "metadata": {},
   "outputs": [],
   "source": [
    "fpr, tpr, thresholds = roc_curve(y_train, y_train_pred_temp)\n",
    "roc_auc = auc(fpr, tpr)\n",
    "#plt.plot(fpr, tpr, marker='.', label='svc') \n",
    "#plt.show()\n",
    "                                "
   ]
  },
  {
   "cell_type": "code",
   "execution_count": 30,
   "id": "5e2143a9",
   "metadata": {},
   "outputs": [],
   "source": [
    "accuracy_thr = []\n",
    "for threshold in thresholds :\n",
    "    y_train_pred = np.where(y_train_pred_temp > threshold ,1,0)\n",
    "    accuracy_thr.append(accuracy_score(y_train, y_train_pred))\n",
    "\n",
    "ix = np.argmax(accuracy_thr)\n",
    "best_threshold = thresholds[ix]\n"
   ]
  },
  {
   "cell_type": "code",
   "execution_count": 31,
   "id": "89798dd7",
   "metadata": {},
   "outputs": [],
   "source": [
    "# gmeans = np.sqrt(tpr * (1-fpr))\n",
    "# ix = np.argmax(gmeans)\n",
    "# best_threshold = thresholds[ix]\n",
    "# print('Best Threshold=%f, G-Mean=%.3f' % (thresholds[ix], gmeans[ix]))"
   ]
  },
  {
   "cell_type": "code",
   "execution_count": 32,
   "id": "02536339",
   "metadata": {},
   "outputs": [],
   "source": [
    "y_train_pred = np.where(y_train_pred_temp > best_threshold ,1,0)"
   ]
  },
  {
   "cell_type": "code",
   "execution_count": 36,
   "id": "24473625",
   "metadata": {},
   "outputs": [
    {
     "name": "stdout",
     "output_type": "stream",
     "text": [
      "[[487  61]\n",
      " [ 58 284]]\n",
      "              precision    recall  f1-score   support\n",
      "\n",
      "         0.0       0.89      0.89      0.89       548\n",
      "         1.0       0.82      0.83      0.83       342\n",
      "\n",
      "    accuracy                           0.87       890\n",
      "   macro avg       0.86      0.86      0.86       890\n",
      "weighted avg       0.87      0.87      0.87       890\n",
      "\n"
     ]
    }
   ],
   "source": [
    "cnf_mx = confusion_matrix(y_train, y_train_pred)\n",
    "print(cnf_mx)\n",
    "print(classification_report(y_train, y_train_pred))  "
   ]
  },
  {
   "cell_type": "markdown",
   "id": "6445bcab",
   "metadata": {},
   "source": [
    "# test"
   ]
  },
  {
   "cell_type": "code",
   "execution_count": 37,
   "id": "a8908a07",
   "metadata": {},
   "outputs": [],
   "source": [
    "y_test_pred_temp = model.predict_proba(x_test)\n",
    "y_test_pred_temp= y_test_pred_temp[:,1]"
   ]
  },
  {
   "cell_type": "code",
   "execution_count": 38,
   "id": "da16b39e",
   "metadata": {},
   "outputs": [],
   "source": [
    "y_test_pred = np.where(y_test_pred_temp > best_threshold ,1,0)\n",
    "y_test_pred = y_test_pred.astype(int)"
   ]
  },
  {
   "cell_type": "code",
   "execution_count": 39,
   "id": "ce499bd7",
   "metadata": {},
   "outputs": [
    {
     "name": "stdout",
     "output_type": "stream",
     "text": [
      "[0 1 0 0 0 0 1 0 1 0 0 0 1 0 1 1 0 0 1 1 0 0 1 0 1 0 1 0 0 1 0 0 0 0 1 0 1\n",
      " 1 0 0 0 0 0 1 1 0 0 0 1 0 0 0 1 1 0 0 0 0 0 1 0 0 0 1 1 1 1 0 1 1 1 0 1 1\n",
      " 1 0 0 1 0 1 1 1 0 0 0 0 1 1 1 1 1 0 1 0 0 0 1 0 1 0 1 0 0 0 1 0 0 0 0 0 0\n",
      " 1 1 1 1 0 0 1 0 1 1 0 1 0 0 0 0 1 0 0 0 0 0 0 0 0 0 0 1 0 0 1 1 0 0 0 0 0\n",
      " 0 0 1 0 0 0 0 0 1 1 0 0 1 1 1 0 0 0 0 0 1 1 0 0 0 0 0 1 1 0 1 1 0 0 1 0 1\n",
      " 0 1 0 0 0 0 0 0 0 1 0 1 1 0 1 1 1 0 1 0 0 1 0 1 0 0 0 0 1 0 0 1 1 1 0 1 0\n",
      " 1 0 1 1 0 1 0 0 0 1 0 0 1 0 0 0 1 1 1 1 0 0 0 1 1 0 1 1 1 0 0 0 0 0 0 0 1\n",
      " 0 0 0 1 1 0 0 0 0 1 0 0 0 1 1 0 1 0 0 0 0 1 1 1 1 1 0 0 1 0 0 0 1 0 0 0 0\n",
      " 1 1 0 0 0 0 0 0 1 1 1 1 0 1 0 0 0 1 1 1 0 0 0 0 0 1 0 0 1 0 1 0 0 0 1 0 0\n",
      " 1 0 1 0 0 0 1 0 0 0 1 0 1 0 1 0 1 1 0 0 0 1 0 1 0 0 1 0 1 1 0 1 0 0 1 1 0\n",
      " 0 1 0 0 1 1 1 0 0 0 0 0 1 1 0 1 0 0 0 0 1 1 0 0 0 1 0 1 0 0 1 0 1 0 1 1 0\n",
      " 0 1 1 1 1 1 0 1 0 0 1]\n"
     ]
    }
   ],
   "source": [
    "print(y_test_pred)"
   ]
  },
  {
   "cell_type": "code",
   "execution_count": 41,
   "id": "5af55a22",
   "metadata": {},
   "outputs": [],
   "source": [
    "\n",
    "submission_df = pd.DataFrame({'Passengerid': passenger_id[891:], 'Survived': y_test_pred})\n",
    "submission_df.to_csv('titanic_pred_32.csv', index = False)\n"
   ]
  },
  {
   "cell_type": "code",
   "execution_count": null,
   "id": "e0e353f7",
   "metadata": {},
   "outputs": [],
   "source": []
  }
 ],
 "metadata": {
  "kernelspec": {
   "display_name": "Python 3 (ipykernel)",
   "language": "python",
   "name": "python3"
  },
  "language_info": {
   "codemirror_mode": {
    "name": "ipython",
    "version": 3
   },
   "file_extension": ".py",
   "mimetype": "text/x-python",
   "name": "python",
   "nbconvert_exporter": "python",
   "pygments_lexer": "ipython3",
   "version": "3.8.10"
  }
 },
 "nbformat": 4,
 "nbformat_minor": 5
}
