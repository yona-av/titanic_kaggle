{
 "cells": [
  {
   "cell_type": "code",
   "execution_count": 63,
   "id": "04730771",
   "metadata": {},
   "outputs": [],
   "source": [
    "# import packages \n",
    "import numpy as np \n",
    "import pandas as pd\n",
    "import matplotlib.pyplot as plt\n",
    "import os \n",
    "import sys\n",
    "import seaborn as sns\n",
    "import scipy as sp\n",
    "import scipy.stats as stats\n",
    "from scipy.stats import norm\n",
    "import xgboost\n",
    "%matplotlib inline\n",
    "\n",
    "\n",
    "# import pre-processing modules \n",
    "from scipy import stats\n",
    "from sklearn.model_selection import train_test_split\n",
    "from sklearn.preprocessing import StandardScaler\n",
    "from sklearn.feature_selection import SelectFromModel \n",
    "from sklearn.compose import make_column_selector as selector\n",
    "from sklearn.preprocessing import OneHotEncoder, StandardScaler\n",
    "from sklearn.compose import ColumnTransformer\n",
    "from sklearn.pipeline import make_pipeline\n",
    "\n",
    "\n",
    "# import classifiers\n",
    "# scale robust\n",
    "from sklearn.ensemble import RandomForestClassifier\n",
    "from sklearn.linear_model import LogisticRegression\n",
    "from sklearn.naive_bayes import GaussianNB\n",
    "from sklearn.ensemble import AdaBoostClassifier\n",
    "from sklearn.ensemble import GradientBoostingClassifier\n",
    "from xgboost import XGBClassifier\n",
    "\n",
    "# scale sensitive\n",
    "from sklearn.linear_model import SGDClassifier\n",
    "from sklearn.svm import SVC\n",
    "from sklearn.neighbors import KNeighborsClassifier\n",
    "from sklearn.svm import LinearSVC\n",
    "\n",
    "# import evaluation modules\n",
    "from sklearn.model_selection import GridSearchCV\n",
    "from sklearn.model_selection import cross_val_score, cross_val_predict\n",
    "from sklearn.metrics import accuracy_score, confusion_matrix, precision_recall_fscore_support, classification_report\n",
    "from sklearn.metrics import  RocCurveDisplay, roc_auc_score, auc, roc_curve, PrecisionRecallDisplay, precision_recall_curve"
   ]
  },
  {
   "cell_type": "code",
   "execution_count": 64,
   "id": "d38ac8c8",
   "metadata": {},
   "outputs": [],
   "source": [
    "test_set = pd.read_csv(r\"C:/Users/Yehonatan/PycharmProject/DS/projects/titanic/ignore/test.csv\")\n",
    "train_set = pd.read_csv(r\"C:/Users/Yehonatan/PycharmProject/DS/projects/titanic/ignore/train.csv\")\n",
    "df_original = pd.concat([train_set,test_set], axis=0, ignore_index=True )\n",
    "\n",
    "df_train = (train_set.copy()).rename(columns=str.lower)\n",
    "df_test = (test_set.copy()).rename(columns=str.lower)\n",
    "\n",
    "df = (df_original.copy()).rename(columns=str.lower)\n"
   ]
  },
  {
   "cell_type": "code",
   "execution_count": 65,
   "id": "de9059f6",
   "metadata": {},
   "outputs": [],
   "source": [
    "# parse title and fam name from df \n",
    "def parse_name(df):\n",
    "    last_name = df['name'].apply(lambda x : x.split(', ')[0])\n",
    "    temp = df['name'].apply(lambda x : x.split(', ')[1])\n",
    "    title = temp.apply(lambda x : x.split('.')[0])\n",
    "    return title, last_name\n",
    "\n",
    "def cat_to_numeric(df):\n",
    "    cat_columns = df.select_dtypes(['object']).columns\n",
    "    df[cat_columns] = df[cat_columns].apply(lambda x: pd.factorize(x)[0])\n",
    "    return df \n",
    "\n",
    "def pvalue_filter(target_df, features_df, alpha): # returns a list of columns that are possible drop, p_val > alpha, corr, pval\n",
    "    features_columns_names = list(features_df)\n",
    "    target_column_name = list(target_df)\n",
    "    features_np = features_df.to_numpy()\n",
    "    target_np = target_df.to_numpy()\n",
    "    drop_index = []\n",
    "    p_val_list =[]\n",
    "    corr_list = []\n",
    "    \n",
    "    for i in range(len(features_columns_names)):\n",
    "        corr, p_val = sp.stats.pearsonr(features_np[:,i], target_np)\n",
    "        corr_list.append(round(corr,3))\n",
    "        if p_val > alpha:           # accept the null hypothesis, no statisitcal significance  \n",
    "            drop_index.append(i)\n",
    "            p_val_list.append(p_val)\n",
    "            \n",
    "    drop_col = [features_columns_names[i] for i in drop_index]\n",
    "    return drop_col, corr_list, p_val_list"
   ]
  },
  {
   "cell_type": "code",
   "execution_count": 66,
   "id": "ef288aee",
   "metadata": {},
   "outputs": [
    {
     "name": "stdout",
     "output_type": "stream",
     "text": [
      "df  age nans 263\n"
     ]
    }
   ],
   "source": [
    "# work on df nan and then concat with original df_train and sort by ID\n",
    "age_nan = df[df['age'].isna()]\n",
    "#age_nan.info()\n",
    "#age_nan = age_nan.sort_values(by=['sex'],ascending=True)\n",
    "#age_nan = age_nan.sort_values(by=['sibsp'],ascending=False).reset_index(drop=True)\n",
    "print('df  age nans',df['age'].isna().sum())\n",
    "\n"
   ]
  },
  {
   "cell_type": "markdown",
   "id": "bd6b8464",
   "metadata": {},
   "source": [
    "## deal with age nans"
   ]
  },
  {
   "cell_type": "code",
   "execution_count": 67,
   "id": "acc5daee",
   "metadata": {},
   "outputs": [],
   "source": [
    "###### Deal with masters  ############################################\n",
    "title, last_name = parse_name(age_nan)\n",
    "title = title[title == 'Master']\n",
    "master_index = title.index.to_numpy()\n",
    "\n",
    "df_young = df[df[\"age\"] < 15 ]\n",
    "child_mean = round(df_young['age'].mean(),2)\n",
    "       \n",
    "for i in master_index:\n",
    "    df.at[i,'age'] = child_mean \n",
    "\n",
    "age_nan = df[df['age'].isna()] # update the age_nan\n",
    "\n",
    "####### DEAL  with lone passengers ############################################\n",
    "\n",
    "l_p_t = age_nan[age_nan['sibsp'] == 0]\n",
    "lone_pass = l_p_t[l_p_t['parch'] == 0] # passengers who travel alone and cant determine their age by relatives\n",
    "#lone_pass\n",
    "\n",
    "# calc mean by gender\n",
    "df_male = df[df['sex'] == 'male']\n",
    "df_female = df[df['sex'] == 'female']\n",
    "male_mean = round(df_male['age'].mean(),2)\n",
    "female_mean = round(df_female['age'].mean(),2)\n",
    "\n",
    "lone_pass_male = lone_pass[lone_pass['sex'] == 'male']\n",
    "lone_pass_female = lone_pass[lone_pass['sex'] == 'female']\n",
    "\n",
    "l_p_m_index = (lone_pass_male.index).to_numpy()\n",
    "l_p_f_index = (lone_pass_female.index).to_numpy()\n",
    "\n",
    "for m in l_p_m_index:\n",
    "    df.at[m,'age'] = male_mean\n",
    "\n",
    "for f in l_p_f_index:\n",
    "    df.at[f,'age'] = female_mean\n",
    "    \n",
    "age_nan = df[df['age'].isna()] # update the age_nan\n",
    "\n",
    "\n",
    "\n",
    "########## ONE companion ############################################################\n",
    "# one companion in nan df # assign the age of the companion tot the nan \n",
    "one_comp_nan = age_nan[age_nan['parch'] == 0] \n",
    "one_comp_nan = one_comp_nan[one_comp_nan['sibsp'] == 1]\n",
    "title_ocn, last_name_ocn = parse_name(one_comp_nan)\n",
    "ocn_index = (title_ocn.index).to_numpy()\n",
    "\n",
    "\n",
    "one_comp = df[df['parch'] == 0] # one companion in general df may contain istself. but some companions are both nan in age\n",
    "one_comp = one_comp[one_comp['sibsp'] == 1]\n",
    "#one_comp = one_comp[~one_comp['age'].isna()]\n",
    "title_oc, last_name_oc = parse_name(one_comp)\n",
    "oc_index = (title_oc.index).to_numpy()\n",
    "\n",
    "for l in range(len(one_comp_nan)):\n",
    "    for i in range(len(one_comp)):\n",
    "        \n",
    "        if (list(last_name_ocn)[l] == list(last_name_oc)[i] and ocn_index[l] != oc_index[i]): #ensures same last name and not same person\n",
    "        \n",
    "            if df.at[oc_index[i],'age'] != float('nan'):\n",
    "                df.at[ocn_index[l],'age'] =  df.at[oc_index[i],'age'] \n",
    "            if list(title_ocn)[l] == 'Mrs' : # she and her husbnad are adults and get the adult average\n",
    "                df.at[ocn_index[l],'age'] = female_mean\n",
    "                df.at[oc_index[i],'age'] = male_mean\n",
    "            if list(title_ocn)[l] == 'Miss': # she is a miss and I assume that travels with a sibling so get young average\n",
    "                df.at[ocn_index[l],'age'] = child_mean\n",
    "                df.at[oc_index[i],'age'] = child_mean\n",
    "            if list(title_ocn)[l] == 'Mr' and list(title_oc)[i] != 'Mrs':\n",
    "                df.at[ocn_index[l],'age'] = child_mean\n",
    "                df.at[oc_index[i],'age'] = child_mean\n",
    "\n",
    "\n",
    "age_nan = df[df['age'].isna()] # update the age_nan\n",
    "\n",
    "# notice there are only two famillies with 3 siblings travelling together I assume they are all young <15.\n",
    "three_siblings = age_nan[age_nan['parch'] == 0] \n",
    "three_siblings = three_siblings[three_siblings['sibsp'] == 2]\n",
    "index_temp = three_siblings.index.to_numpy()\n",
    "for i in index_temp:\n",
    "    df.at[i,'age'] = child_mean\n",
    "\n",
    "age_nan = df[df['age'].isna()] # update the age_nan\n",
    "\n",
    "########### Hand fill age nans #######################################################\n",
    "\n",
    "\n",
    "# hand fill, thought it will be quicker than thinking about an algo  \n",
    "#parents\n",
    "df.at[1233, 'age'] = male_mean\n",
    "df.at[1256, 'age'] = female_mean\n",
    "#kids\n",
    "sages = df[df['ticket'] == 'CA. 2343']\n",
    "sages = sages[sages['age'].isna()]\n",
    "\n",
    "index_temp = sages.index.to_numpy()\n",
    "for i in index_temp:\n",
    "    df.at[i,'age'] = child_mean\n",
    "age_nan = df[df['age'].isna()] # update the age_nan\n",
    "\n",
    "df.at[1023, 'age'] = female_mean\n",
    "lebfre = df[df['ticket'] == '4133']\n",
    "lebfre = lebfre[lebfre['age'].isna()]\n",
    "index_temp = lebfre.index.to_numpy()\n",
    "for i in index_temp:\n",
    "    df.at[i,'age'] = child_mean\n",
    "age_nan = df[df['age'].isna()] # update the age_nan\n",
    "\n",
    "#jhonston\n",
    "#parents\n",
    "df.at[783, 'age'] = male_mean\n",
    "df.at[924, 'age'] = female_mean\n",
    "df.at[888,'age'] = child_mean\n",
    "age_nan = df[df['age'].isna()] # update the age_nan\n",
    "\n",
    "df.at[1024, 'age'] = male_mean # has no sibsp as I looked\n",
    "df.at[128, 'age'] = child_mean\n",
    "df.at[593, 'age'] = child_mean\n",
    "df.at[166, 'age'] = female_mean\n",
    "df.at[533, 'age'] = female_mean\n",
    "df.at[593, 'age'] = female_mean\n",
    "df.at[1116, 'age'] = female_mean\n",
    "df.at[140, 'age'] = female_mean\n",
    "age_nan = df[df['age'].isna()] # update the age_nan\n"
   ]
  },
  {
   "cell_type": "code",
   "execution_count": 68,
   "id": "a4223954",
   "metadata": {},
   "outputs": [
    {
     "name": "stdout",
     "output_type": "stream",
     "text": [
      "df  cabin nans 1014\n",
      "df cabin nans updated 998\n",
      "df cabin nans updated 981\n",
      "df cabin nans updated 0\n"
     ]
    }
   ],
   "source": [
    "# deal with cabin nan by comparing the ticket number \n",
    "# small number of nans but I know for certain that they get the correct cabin\n",
    "cabin = df[~df['cabin'].isna()]\n",
    "cabin_nan =  df[df['cabin'].isna()]\n",
    "print('df  cabin nans',df['cabin'].isna().sum())\n",
    "\n",
    "for t in range(len(cabin['ticket'])):\n",
    "    for n in range(len(cabin_nan['ticket'])):\n",
    "        if cabin['ticket'].iloc[t] == cabin_nan['ticket'].iloc[n] :\n",
    "           \n",
    "            index = cabin['passengerid'].iloc[t] - 1    \n",
    "            index_nan = cabin_nan['passengerid'].iloc[n] - 1 \n",
    "            if index != index_nan:\n",
    "\n",
    "                # update the value of cabin_nan in the df\n",
    "                df.at[index_nan,'cabin'] = df.at[index,'cabin']\n",
    "\n",
    "\n",
    "\n",
    "cabin_nan =  df[df['cabin'].isna()] # update cabin_nan\n",
    "print('df cabin nans updated',len(cabin_nan))    \n",
    "\n",
    "\n",
    "# handle single men and single women in seconde and thied class \n",
    "\n",
    "s_t_class_cabin = cabin[cabin['pclass'] != 1] \n",
    "single_temp = s_t_class_cabin[s_t_class_cabin['sibsp'] == 0]\n",
    "single_cabin = single_temp[single_temp['parch'] == 0]\n",
    "\n",
    "s_t_class_cabin_female = single_cabin[single_cabin['sex'] == 'female'] # single 2 3 class female\n",
    "\n",
    "s_t_class_cabin_nan = cabin_nan[cabin_nan['pclass'] != 1]\n",
    "single_temp = s_t_class_cabin_nan[s_t_class_cabin_nan['sibsp'] == 0]\n",
    "single_cabin_nan = single_temp[single_temp['parch'] == 0]\n",
    "\n",
    "\n",
    "s_t_class_cabin_nan_female = single_cabin_nan[single_cabin_nan['sex'] == 'female']\n",
    "\n",
    "# deal with female. compare fare  \n",
    "#why separated - coz generlizing the cabin nan in male might be different   \n",
    "\n",
    "for t in range(len(s_t_class_cabin_female)):\n",
    "    for n in range(len(s_t_class_cabin_nan_female)):\n",
    "        if s_t_class_cabin_female['fare'].iloc[t] == s_t_class_cabin_nan_female['fare'].iloc[n] :\n",
    "            \n",
    "            pclass_cabin = s_t_class_cabin_female['pclass'].iloc[t]              \n",
    "            pclass_cabin_nan = s_t_class_cabin_nan_female['pclass'].iloc[n]\n",
    "            index = s_t_class_cabin_female['passengerid'].iloc[t] - 1    \n",
    "            index_nan = s_t_class_cabin_nan_female['passengerid'].iloc[n] - 1 \n",
    "            \n",
    "            if index != index_nan and pclass_cabin == pclass_cabin_nan : # make sure the deduction about cabin doesnt cross pclass\n",
    "\n",
    "                df.at[index_nan,'cabin'] = df.at[index,'cabin'] # update the value of cabin_nan in the df\n",
    "\n",
    "cabin_nan =  df[df['cabin'].isna()] \n",
    "print('df cabin nans updated',len(cabin_nan))    \n",
    "\n",
    "# deal with the rest \n",
    "\n",
    "for p in range(len(cabin_nan)):\n",
    "   \n",
    "    # third class\n",
    "    if cabin_nan['pclass'].iloc[p] == 3 and cabin_nan['sex'].iloc[p] == 'male':\n",
    "        index = cabin_nan['passengerid'].iloc[p] - 1\n",
    "        p = np.random.randint(low=1, high=101, size=1, dtype=int)[0]\n",
    "        if p <= 13:\n",
    "            df.at[index,'cabin'] = 'l'\n",
    "        elif p > 13:\n",
    "                df.at[index,'cabin'] = 'D'\n",
    "    \n",
    "    if cabin_nan['pclass'].iloc[p] == 3 and cabin_nan['sex'].iloc[p] == 'female':\n",
    "        index = cabin_nan['passengerid'].iloc[p] - 1\n",
    "        p = np.random.randint(low=1, high=101, size=1, dtype=int)[0]\n",
    "        if p < 50:\n",
    "            df.at[index,'cabin'] = 'l'\n",
    "        elif p >= 50:\n",
    "                df.at[index,'cabin'] = 'D'\n",
    "                \n",
    "    # second class\n",
    "    if cabin_nan['pclass'].iloc[p] == 2 and cabin_nan['sex'].iloc[p] == 'male':\n",
    "        index = cabin_nan['passengerid'].iloc[p] - 1\n",
    "        p = np.random.randint(low=1, high=101, size=1, dtype=int)[0]\n",
    "        if p <= 13:\n",
    "            df.at[index,'cabin'] = 'l'\n",
    "        elif p > 13:\n",
    "                df.at[index,'cabin'] = 'D'\n",
    "    \n",
    "    if cabin_nan['pclass'].iloc[p] == 2 and cabin_nan['sex'].iloc[p] == 'female':\n",
    "        index = cabin_nan['passengerid'].iloc[p] - 1\n",
    "        p = np.random.randint(low=1, high=101, size=1, dtype=int)[0]\n",
    "        if p <= 93:\n",
    "            df.at[index,'cabin'] = 'l'\n",
    "        elif p >= 93:\n",
    "                df.at[index,'cabin'] = 'D'\n",
    "                \n",
    "    # first class\n",
    "    if cabin_nan['pclass'].iloc[p] == 1 and cabin_nan['sex'].iloc[p] == 'male':\n",
    "        index = cabin_nan['passengerid'].iloc[p] - 1\n",
    "        p = np.random.randint(low=1, high=101, size=1, dtype=int)[0]\n",
    "        if p <= 22:\n",
    "            df.at[index,'cabin'] = 'l'\n",
    "        elif p > 22:\n",
    "                df.at[index,'cabin'] = 'D'\n",
    "    \n",
    "    if cabin_nan['pclass'].iloc[p] == 1 and cabin_nan['sex'].iloc[p] == 'female':\n",
    "        index = cabin_nan['passengerid'].iloc[p] - 1\n",
    "        df.at[index,'cabin'] = 'l'\n",
    "        \n",
    "        \n",
    "        \n",
    "cabin_nan =  df[df['cabin'].isna()] # update cabin_nan\n",
    "print('df cabin nans updated',len(cabin_nan)) "
   ]
  },
  {
   "cell_type": "markdown",
   "id": "8d36061d",
   "metadata": {},
   "source": [
    "## other nans"
   ]
  },
  {
   "cell_type": "code",
   "execution_count": 69,
   "id": "56607182",
   "metadata": {},
   "outputs": [],
   "source": [
    "\n",
    "# fill fare nan as the average of 3 class . \n",
    "\n",
    "t_class = df[df['pclass'] == 3]\n",
    "t_class_mean = t_class['fare'].mean()\n",
    "df.at[1043, 'fare'] = t_class_mean\n",
    "\n",
    "# fill nan embarked to be an class of itself\n",
    "df.at[61, 'embarked'] = 'M'\n",
    "df.at[829, 'embarked'] = 'M'\n",
    "\n"
   ]
  },
  {
   "cell_type": "code",
   "execution_count": 70,
   "id": "f53e4b34",
   "metadata": {},
   "outputs": [],
   "source": [
    "title, last_name = parse_name(df) # parse names and fill name as last name to categorize it \n",
    "df['name'] = last_name \n",
    "# df['cabin'] = df['cabin'].fillna(5) # all the nans in cabin are a caegory 5 \n",
    "df = cat_to_numeric(df)\n",
    "\n",
    "survived = df['survived']\n",
    "passenger_id = df['passengerid'].values\n"
   ]
  },
  {
   "cell_type": "code",
   "execution_count": 71,
   "id": "ec614e6e",
   "metadata": {},
   "outputs": [
    {
     "data": {
      "text/plain": [
       "survived       1.000000\n",
       "sex            0.543351\n",
       "cabin          0.293315\n",
       "fare           0.257307\n",
       "embarked       0.118026\n",
       "parch          0.081629\n",
       "name           0.017314\n",
       "passengerid   -0.005007\n",
       "sibsp         -0.035322\n",
       "ticket        -0.047298\n",
       "age           -0.066088\n",
       "pclass        -0.338481\n",
       "Name: survived, dtype: float64"
      ]
     },
     "execution_count": 71,
     "metadata": {},
     "output_type": "execute_result"
    }
   ],
   "source": [
    "corr_mat = df.corr()\n",
    "corr_mat['survived'].sort_values(ascending=False)"
   ]
  },
  {
   "cell_type": "code",
   "execution_count": 72,
   "id": "29623f24",
   "metadata": {},
   "outputs": [],
   "source": [
    "#df = df.drop(columns=['cabin', 'name', 'ticket']) # for now drop cabin"
   ]
  },
  {
   "cell_type": "code",
   "execution_count": 73,
   "id": "07d2659e",
   "metadata": {},
   "outputs": [],
   "source": [
    "df = df.drop(columns=['survived','passengerid','name', 'sibsp', 'ticket']) \n",
    "# 'name', 'sibsp', 'ticket' dropped those columns logic in unstandradized models file p value filter  "
   ]
  },
  {
   "cell_type": "markdown",
   "id": "850fcf0e",
   "metadata": {},
   "source": [
    "# scaling"
   ]
  },
  {
   "cell_type": "code",
   "execution_count": 74,
   "id": "c1389909",
   "metadata": {},
   "outputs": [],
   "source": [
    "\n",
    "numerical_columns_selector = selector(dtype_exclude=int)\n",
    "categorical_columns_selector = selector(dtype_include=int)\n",
    "\n",
    "numerical_columns = numerical_columns_selector(df)\n",
    "categorical_columns = categorical_columns_selector(df)"
   ]
  },
  {
   "cell_type": "code",
   "execution_count": 75,
   "id": "bf0d7d53",
   "metadata": {},
   "outputs": [
    {
     "name": "stdout",
     "output_type": "stream",
     "text": [
      "['age', 'fare']\n",
      "['pclass', 'sex', 'parch', 'cabin', 'embarked']\n"
     ]
    }
   ],
   "source": [
    "print(numerical_columns)\n",
    "print(categorical_columns)"
   ]
  },
  {
   "cell_type": "code",
   "execution_count": 76,
   "id": "2b7fb511",
   "metadata": {},
   "outputs": [],
   "source": [
    "categorical_preprocessor = OneHotEncoder(handle_unknown=\"ignore\")\n",
    "numerical_preprocessor = StandardScaler()"
   ]
  },
  {
   "cell_type": "code",
   "execution_count": 77,
   "id": "7d245683",
   "metadata": {},
   "outputs": [],
   "source": [
    "preprocessor = ColumnTransformer([\n",
    "    ('one-hot-encoder', categorical_preprocessor, categorical_columns),\n",
    "    ('standard_scaler', numerical_preprocessor, numerical_columns)])"
   ]
  },
  {
   "cell_type": "code",
   "execution_count": 78,
   "id": "93f5d896",
   "metadata": {},
   "outputs": [],
   "source": [
    "model = make_pipeline(preprocessor, SVC(kernel='rbf', random_state=9) )"
   ]
  },
  {
   "cell_type": "code",
   "execution_count": 79,
   "id": "31bc9aaa",
   "metadata": {},
   "outputs": [],
   "source": [
    "# divide back into train test sets \n",
    "df_train = df.iloc[:890,:]\n",
    "df_test = df.iloc[891:,:]\n",
    "\n",
    "x_train = df_train\n",
    "y_train = survived.iloc[:890]\n",
    "\n",
    "\n",
    "x_test = df_test\n",
    "y_test = survived.iloc[891:]"
   ]
  },
  {
   "cell_type": "code",
   "execution_count": 80,
   "id": "4af8ddde",
   "metadata": {},
   "outputs": [],
   "source": [
    "model = model.fit(x_train, y_train)\n",
    "y_train_pred = model.predict(x_train)"
   ]
  },
  {
   "cell_type": "markdown",
   "id": "92f3391a",
   "metadata": {},
   "source": [
    "# models"
   ]
  },
  {
   "cell_type": "code",
   "execution_count": 81,
   "id": "7637112d",
   "metadata": {},
   "outputs": [],
   "source": [
    "# # rf\n",
    "# clf = LogisticRegression(random_state=9, max_iter=500, solver = 'newton-cg') \n",
    "# clf = SGDClassifier(max_iter=1000, tol=1e-3)\n",
    "# clf = SVC(kernel='poly')\n",
    "# clf = KNeighborsClassifier()\n",
    "# clf = GradientBoostingClassifier(n_estimators=40, learning_rate=0.2,max_depth=2, random_state=0)\n",
    "# clf = LinearSVC(random_state=0, tol=1e-5)"
   ]
  },
  {
   "cell_type": "code",
   "execution_count": 82,
   "id": "cc8fcef7",
   "metadata": {},
   "outputs": [
    {
     "name": "stdout",
     "output_type": "stream",
     "text": [
      "accuracy : 0.84\n",
      "precision : 0.91\n",
      "recall : 0.649\n",
      "f_score : 0.758\n"
     ]
    }
   ],
   "source": [
    "precision, recall, f_1, support = precision_recall_fscore_support(y_train, y_train_pred, average='binary')\n",
    "accuracy = accuracy_score(y_train, y_train_pred)\n",
    "print('accuracy :', np.round(accuracy,3))\n",
    "print('precision :', np.round(precision,3))\n",
    "print('recall :', np.round(recall,3))\n",
    "print('f_score :', np.round(f_1,3))"
   ]
  },
  {
   "cell_type": "code",
   "execution_count": 83,
   "id": "ee19c12d",
   "metadata": {},
   "outputs": [
    {
     "name": "stdout",
     "output_type": "stream",
     "text": [
      "cv_avg_accuracy : 0.813\n",
      "cv_avg_precision 0.841\n",
      "cv_avg_recall 0.638\n",
      "cv_avg_fscore : 0.724\n"
     ]
    }
   ],
   "source": [
    "cv_5_accuracy = cross_val_score(model, x_train , y_train, cv=5, scoring='accuracy')\n",
    "cv_5_precision = cross_val_score(model, x_train , y_train, cv=5, scoring='precision')\n",
    "cv_5_recall = cross_val_score(model, x_train , y_train, cv=5, scoring='recall')\n",
    "cv_5_f1 = cross_val_score(model, x_train , y_train, cv=5, scoring='f1')\n",
    "\n",
    "print('cv_avg_accuracy :', np.round(cv_5_accuracy.mean(),3))\n",
    "print('cv_avg_precision', np.round(cv_5_precision.mean(),3))\n",
    "print('cv_avg_recall', np.round(cv_5_recall.mean(),3))\n",
    "print('cv_avg_fscore :', np.round(cv_5_f1.mean(),3))"
   ]
  },
  {
   "cell_type": "code",
   "execution_count": 84,
   "id": "e9085f07",
   "metadata": {},
   "outputs": [
    {
     "data": {
      "text/plain": [
       "{'memory': None,\n",
       " 'steps': [('columntransformer',\n",
       "   ColumnTransformer(transformers=[('one-hot-encoder',\n",
       "                                    OneHotEncoder(handle_unknown='ignore'),\n",
       "                                    ['pclass', 'sex', 'parch', 'cabin',\n",
       "                                     'embarked']),\n",
       "                                   ('standard_scaler', StandardScaler(),\n",
       "                                    ['age', 'fare'])])),\n",
       "  ('svc', SVC(random_state=9))],\n",
       " 'verbose': False,\n",
       " 'columntransformer': ColumnTransformer(transformers=[('one-hot-encoder',\n",
       "                                  OneHotEncoder(handle_unknown='ignore'),\n",
       "                                  ['pclass', 'sex', 'parch', 'cabin',\n",
       "                                   'embarked']),\n",
       "                                 ('standard_scaler', StandardScaler(),\n",
       "                                  ['age', 'fare'])]),\n",
       " 'svc': SVC(random_state=9),\n",
       " 'columntransformer__n_jobs': None,\n",
       " 'columntransformer__remainder': 'drop',\n",
       " 'columntransformer__sparse_threshold': 0.3,\n",
       " 'columntransformer__transformer_weights': None,\n",
       " 'columntransformer__transformers': [('one-hot-encoder',\n",
       "   OneHotEncoder(handle_unknown='ignore'),\n",
       "   ['pclass', 'sex', 'parch', 'cabin', 'embarked']),\n",
       "  ('standard_scaler', StandardScaler(), ['age', 'fare'])],\n",
       " 'columntransformer__verbose': False,\n",
       " 'columntransformer__verbose_feature_names_out': True,\n",
       " 'columntransformer__one-hot-encoder': OneHotEncoder(handle_unknown='ignore'),\n",
       " 'columntransformer__standard_scaler': StandardScaler(),\n",
       " 'columntransformer__one-hot-encoder__categories': 'auto',\n",
       " 'columntransformer__one-hot-encoder__drop': None,\n",
       " 'columntransformer__one-hot-encoder__dtype': numpy.float64,\n",
       " 'columntransformer__one-hot-encoder__handle_unknown': 'ignore',\n",
       " 'columntransformer__one-hot-encoder__max_categories': None,\n",
       " 'columntransformer__one-hot-encoder__min_frequency': None,\n",
       " 'columntransformer__one-hot-encoder__sparse': True,\n",
       " 'columntransformer__standard_scaler__copy': True,\n",
       " 'columntransformer__standard_scaler__with_mean': True,\n",
       " 'columntransformer__standard_scaler__with_std': True,\n",
       " 'svc__C': 1.0,\n",
       " 'svc__break_ties': False,\n",
       " 'svc__cache_size': 200,\n",
       " 'svc__class_weight': None,\n",
       " 'svc__coef0': 0.0,\n",
       " 'svc__decision_function_shape': 'ovr',\n",
       " 'svc__degree': 3,\n",
       " 'svc__gamma': 'scale',\n",
       " 'svc__kernel': 'rbf',\n",
       " 'svc__max_iter': -1,\n",
       " 'svc__probability': False,\n",
       " 'svc__random_state': 9,\n",
       " 'svc__shrinking': True,\n",
       " 'svc__tol': 0.001,\n",
       " 'svc__verbose': False}"
      ]
     },
     "execution_count": 84,
     "metadata": {},
     "output_type": "execute_result"
    }
   ],
   "source": [
    "model.get_params()\n"
   ]
  },
  {
   "cell_type": "code",
   "execution_count": 87,
   "id": "229f9468",
   "metadata": {},
   "outputs": [],
   "source": [
    "params = {\n",
    "    'kernel' : ['linear', 'poly', 'rbf'],\n",
    "    'gamma' : ['scale', 'auto'],\n",
    "    'decision_function_shape' : ['ovo', 'ovr'],\n",
    "    'tol' : [0.1, 0.001, 0.001, 0.0001, 0.00001]\n",
    "}\n",
    "\n",
    "grid_search = GridSearchCV(estimator = model, param_grid = params, scoring = 'f1', cv = 5, verbose = 0)"
   ]
  },
  {
   "cell_type": "code",
   "execution_count": 88,
   "id": "4997f501",
   "metadata": {},
   "outputs": [
    {
     "ename": "ValueError",
     "evalue": "Invalid parameter 'gamma' for estimator Pipeline(steps=[('columntransformer',\n                 ColumnTransformer(transformers=[('one-hot-encoder',\n                                                  OneHotEncoder(handle_unknown='ignore'),\n                                                  ['pclass', 'sex', 'parch',\n                                                   'cabin', 'embarked']),\n                                                 ('standard_scaler',\n                                                  StandardScaler(),\n                                                  ['age', 'fare'])])),\n                ('svc', SVC(random_state=9))]). Valid parameters are: ['memory', 'steps', 'verbose'].",
     "output_type": "error",
     "traceback": [
      "\u001b[1;31m---------------------------------------------------------------------------\u001b[0m",
      "\u001b[1;31mValueError\u001b[0m                                Traceback (most recent call last)",
      "Cell \u001b[1;32mIn [88], line 1\u001b[0m\n\u001b[1;32m----> 1\u001b[0m \u001b[43mgrid_search\u001b[49m\u001b[38;5;241;43m.\u001b[39;49m\u001b[43mfit\u001b[49m\u001b[43m(\u001b[49m\u001b[43mx_train\u001b[49m\u001b[43m,\u001b[49m\u001b[43m \u001b[49m\u001b[43my_train\u001b[49m\u001b[43m)\u001b[49m\n\u001b[0;32m      2\u001b[0m \u001b[38;5;28mprint\u001b[39m(\u001b[38;5;124m'\u001b[39m\u001b[38;5;124mbest parameters : \u001b[39m\u001b[38;5;124m'\u001b[39m, grid_search\u001b[38;5;241m.\u001b[39mbest_params_)\n\u001b[0;32m      3\u001b[0m \u001b[38;5;28mprint\u001b[39m(\u001b[38;5;124m'\u001b[39m\u001b[38;5;124mbest score for the parameters :\u001b[39m\u001b[38;5;124m'\u001b[39m, np\u001b[38;5;241m.\u001b[39mround(grid_search\u001b[38;5;241m.\u001b[39mbest_score_,\u001b[38;5;241m3\u001b[39m))\n",
      "File \u001b[1;32mc:\\users\\yehonatan\\pycharmproject\\ds\\lib\\site-packages\\sklearn\\model_selection\\_search.py:875\u001b[0m, in \u001b[0;36mBaseSearchCV.fit\u001b[1;34m(self, X, y, groups, **fit_params)\u001b[0m\n\u001b[0;32m    869\u001b[0m     results \u001b[38;5;241m=\u001b[39m \u001b[38;5;28mself\u001b[39m\u001b[38;5;241m.\u001b[39m_format_results(\n\u001b[0;32m    870\u001b[0m         all_candidate_params, n_splits, all_out, all_more_results\n\u001b[0;32m    871\u001b[0m     )\n\u001b[0;32m    873\u001b[0m     \u001b[38;5;28;01mreturn\u001b[39;00m results\n\u001b[1;32m--> 875\u001b[0m \u001b[38;5;28;43mself\u001b[39;49m\u001b[38;5;241;43m.\u001b[39;49m\u001b[43m_run_search\u001b[49m\u001b[43m(\u001b[49m\u001b[43mevaluate_candidates\u001b[49m\u001b[43m)\u001b[49m\n\u001b[0;32m    877\u001b[0m \u001b[38;5;66;03m# multimetric is determined here because in the case of a callable\u001b[39;00m\n\u001b[0;32m    878\u001b[0m \u001b[38;5;66;03m# self.scoring the return type is only known after calling\u001b[39;00m\n\u001b[0;32m    879\u001b[0m first_test_score \u001b[38;5;241m=\u001b[39m all_out[\u001b[38;5;241m0\u001b[39m][\u001b[38;5;124m\"\u001b[39m\u001b[38;5;124mtest_scores\u001b[39m\u001b[38;5;124m\"\u001b[39m]\n",
      "File \u001b[1;32mc:\\users\\yehonatan\\pycharmproject\\ds\\lib\\site-packages\\sklearn\\model_selection\\_search.py:1379\u001b[0m, in \u001b[0;36mGridSearchCV._run_search\u001b[1;34m(self, evaluate_candidates)\u001b[0m\n\u001b[0;32m   1377\u001b[0m \u001b[38;5;28;01mdef\u001b[39;00m \u001b[38;5;21m_run_search\u001b[39m(\u001b[38;5;28mself\u001b[39m, evaluate_candidates):\n\u001b[0;32m   1378\u001b[0m     \u001b[38;5;124;03m\"\"\"Search all candidates in param_grid\"\"\"\u001b[39;00m\n\u001b[1;32m-> 1379\u001b[0m     \u001b[43mevaluate_candidates\u001b[49m\u001b[43m(\u001b[49m\u001b[43mParameterGrid\u001b[49m\u001b[43m(\u001b[49m\u001b[38;5;28;43mself\u001b[39;49m\u001b[38;5;241;43m.\u001b[39;49m\u001b[43mparam_grid\u001b[49m\u001b[43m)\u001b[49m\u001b[43m)\u001b[49m\n",
      "File \u001b[1;32mc:\\users\\yehonatan\\pycharmproject\\ds\\lib\\site-packages\\sklearn\\model_selection\\_search.py:822\u001b[0m, in \u001b[0;36mBaseSearchCV.fit.<locals>.evaluate_candidates\u001b[1;34m(candidate_params, cv, more_results)\u001b[0m\n\u001b[0;32m    814\u001b[0m \u001b[38;5;28;01mif\u001b[39;00m \u001b[38;5;28mself\u001b[39m\u001b[38;5;241m.\u001b[39mverbose \u001b[38;5;241m>\u001b[39m \u001b[38;5;241m0\u001b[39m:\n\u001b[0;32m    815\u001b[0m     \u001b[38;5;28mprint\u001b[39m(\n\u001b[0;32m    816\u001b[0m         \u001b[38;5;124m\"\u001b[39m\u001b[38;5;124mFitting \u001b[39m\u001b[38;5;132;01m{0}\u001b[39;00m\u001b[38;5;124m folds for each of \u001b[39m\u001b[38;5;132;01m{1}\u001b[39;00m\u001b[38;5;124m candidates,\u001b[39m\u001b[38;5;124m\"\u001b[39m\n\u001b[0;32m    817\u001b[0m         \u001b[38;5;124m\"\u001b[39m\u001b[38;5;124m totalling \u001b[39m\u001b[38;5;132;01m{2}\u001b[39;00m\u001b[38;5;124m fits\u001b[39m\u001b[38;5;124m\"\u001b[39m\u001b[38;5;241m.\u001b[39mformat(\n\u001b[0;32m    818\u001b[0m             n_splits, n_candidates, n_candidates \u001b[38;5;241m*\u001b[39m n_splits\n\u001b[0;32m    819\u001b[0m         )\n\u001b[0;32m    820\u001b[0m     )\n\u001b[1;32m--> 822\u001b[0m out \u001b[38;5;241m=\u001b[39m \u001b[43mparallel\u001b[49m\u001b[43m(\u001b[49m\n\u001b[0;32m    823\u001b[0m \u001b[43m    \u001b[49m\u001b[43mdelayed\u001b[49m\u001b[43m(\u001b[49m\u001b[43m_fit_and_score\u001b[49m\u001b[43m)\u001b[49m\u001b[43m(\u001b[49m\n\u001b[0;32m    824\u001b[0m \u001b[43m        \u001b[49m\u001b[43mclone\u001b[49m\u001b[43m(\u001b[49m\u001b[43mbase_estimator\u001b[49m\u001b[43m)\u001b[49m\u001b[43m,\u001b[49m\n\u001b[0;32m    825\u001b[0m \u001b[43m        \u001b[49m\u001b[43mX\u001b[49m\u001b[43m,\u001b[49m\n\u001b[0;32m    826\u001b[0m \u001b[43m        \u001b[49m\u001b[43my\u001b[49m\u001b[43m,\u001b[49m\n\u001b[0;32m    827\u001b[0m \u001b[43m        \u001b[49m\u001b[43mtrain\u001b[49m\u001b[38;5;241;43m=\u001b[39;49m\u001b[43mtrain\u001b[49m\u001b[43m,\u001b[49m\n\u001b[0;32m    828\u001b[0m \u001b[43m        \u001b[49m\u001b[43mtest\u001b[49m\u001b[38;5;241;43m=\u001b[39;49m\u001b[43mtest\u001b[49m\u001b[43m,\u001b[49m\n\u001b[0;32m    829\u001b[0m \u001b[43m        \u001b[49m\u001b[43mparameters\u001b[49m\u001b[38;5;241;43m=\u001b[39;49m\u001b[43mparameters\u001b[49m\u001b[43m,\u001b[49m\n\u001b[0;32m    830\u001b[0m \u001b[43m        \u001b[49m\u001b[43msplit_progress\u001b[49m\u001b[38;5;241;43m=\u001b[39;49m\u001b[43m(\u001b[49m\u001b[43msplit_idx\u001b[49m\u001b[43m,\u001b[49m\u001b[43m \u001b[49m\u001b[43mn_splits\u001b[49m\u001b[43m)\u001b[49m\u001b[43m,\u001b[49m\n\u001b[0;32m    831\u001b[0m \u001b[43m        \u001b[49m\u001b[43mcandidate_progress\u001b[49m\u001b[38;5;241;43m=\u001b[39;49m\u001b[43m(\u001b[49m\u001b[43mcand_idx\u001b[49m\u001b[43m,\u001b[49m\u001b[43m \u001b[49m\u001b[43mn_candidates\u001b[49m\u001b[43m)\u001b[49m\u001b[43m,\u001b[49m\n\u001b[0;32m    832\u001b[0m \u001b[43m        \u001b[49m\u001b[38;5;241;43m*\u001b[39;49m\u001b[38;5;241;43m*\u001b[39;49m\u001b[43mfit_and_score_kwargs\u001b[49m\u001b[43m,\u001b[49m\n\u001b[0;32m    833\u001b[0m \u001b[43m    \u001b[49m\u001b[43m)\u001b[49m\n\u001b[0;32m    834\u001b[0m \u001b[43m    \u001b[49m\u001b[38;5;28;43;01mfor\u001b[39;49;00m\u001b[43m \u001b[49m\u001b[43m(\u001b[49m\u001b[43mcand_idx\u001b[49m\u001b[43m,\u001b[49m\u001b[43m \u001b[49m\u001b[43mparameters\u001b[49m\u001b[43m)\u001b[49m\u001b[43m,\u001b[49m\u001b[43m \u001b[49m\u001b[43m(\u001b[49m\u001b[43msplit_idx\u001b[49m\u001b[43m,\u001b[49m\u001b[43m \u001b[49m\u001b[43m(\u001b[49m\u001b[43mtrain\u001b[49m\u001b[43m,\u001b[49m\u001b[43m \u001b[49m\u001b[43mtest\u001b[49m\u001b[43m)\u001b[49m\u001b[43m)\u001b[49m\u001b[43m \u001b[49m\u001b[38;5;129;43;01min\u001b[39;49;00m\u001b[43m \u001b[49m\u001b[43mproduct\u001b[49m\u001b[43m(\u001b[49m\n\u001b[0;32m    835\u001b[0m \u001b[43m        \u001b[49m\u001b[38;5;28;43menumerate\u001b[39;49m\u001b[43m(\u001b[49m\u001b[43mcandidate_params\u001b[49m\u001b[43m)\u001b[49m\u001b[43m,\u001b[49m\u001b[43m \u001b[49m\u001b[38;5;28;43menumerate\u001b[39;49m\u001b[43m(\u001b[49m\u001b[43mcv\u001b[49m\u001b[38;5;241;43m.\u001b[39;49m\u001b[43msplit\u001b[49m\u001b[43m(\u001b[49m\u001b[43mX\u001b[49m\u001b[43m,\u001b[49m\u001b[43m \u001b[49m\u001b[43my\u001b[49m\u001b[43m,\u001b[49m\u001b[43m \u001b[49m\u001b[43mgroups\u001b[49m\u001b[43m)\u001b[49m\u001b[43m)\u001b[49m\n\u001b[0;32m    836\u001b[0m \u001b[43m    \u001b[49m\u001b[43m)\u001b[49m\n\u001b[0;32m    837\u001b[0m \u001b[43m\u001b[49m\u001b[43m)\u001b[49m\n\u001b[0;32m    839\u001b[0m \u001b[38;5;28;01mif\u001b[39;00m \u001b[38;5;28mlen\u001b[39m(out) \u001b[38;5;241m<\u001b[39m \u001b[38;5;241m1\u001b[39m:\n\u001b[0;32m    840\u001b[0m     \u001b[38;5;28;01mraise\u001b[39;00m \u001b[38;5;167;01mValueError\u001b[39;00m(\n\u001b[0;32m    841\u001b[0m         \u001b[38;5;124m\"\u001b[39m\u001b[38;5;124mNo fits were performed. \u001b[39m\u001b[38;5;124m\"\u001b[39m\n\u001b[0;32m    842\u001b[0m         \u001b[38;5;124m\"\u001b[39m\u001b[38;5;124mWas the CV iterator empty? \u001b[39m\u001b[38;5;124m\"\u001b[39m\n\u001b[0;32m    843\u001b[0m         \u001b[38;5;124m\"\u001b[39m\u001b[38;5;124mWere there no candidates?\u001b[39m\u001b[38;5;124m\"\u001b[39m\n\u001b[0;32m    844\u001b[0m     )\n",
      "File \u001b[1;32mc:\\users\\yehonatan\\pycharmproject\\ds\\lib\\site-packages\\joblib\\parallel.py:1085\u001b[0m, in \u001b[0;36mParallel.__call__\u001b[1;34m(self, iterable)\u001b[0m\n\u001b[0;32m   1076\u001b[0m \u001b[38;5;28;01mtry\u001b[39;00m:\n\u001b[0;32m   1077\u001b[0m     \u001b[38;5;66;03m# Only set self._iterating to True if at least a batch\u001b[39;00m\n\u001b[0;32m   1078\u001b[0m     \u001b[38;5;66;03m# was dispatched. In particular this covers the edge\u001b[39;00m\n\u001b[1;32m   (...)\u001b[0m\n\u001b[0;32m   1082\u001b[0m     \u001b[38;5;66;03m# was very quick and its callback already dispatched all the\u001b[39;00m\n\u001b[0;32m   1083\u001b[0m     \u001b[38;5;66;03m# remaining jobs.\u001b[39;00m\n\u001b[0;32m   1084\u001b[0m     \u001b[38;5;28mself\u001b[39m\u001b[38;5;241m.\u001b[39m_iterating \u001b[38;5;241m=\u001b[39m \u001b[38;5;28;01mFalse\u001b[39;00m\n\u001b[1;32m-> 1085\u001b[0m     \u001b[38;5;28;01mif\u001b[39;00m \u001b[38;5;28;43mself\u001b[39;49m\u001b[38;5;241;43m.\u001b[39;49m\u001b[43mdispatch_one_batch\u001b[49m\u001b[43m(\u001b[49m\u001b[43miterator\u001b[49m\u001b[43m)\u001b[49m:\n\u001b[0;32m   1086\u001b[0m         \u001b[38;5;28mself\u001b[39m\u001b[38;5;241m.\u001b[39m_iterating \u001b[38;5;241m=\u001b[39m \u001b[38;5;28mself\u001b[39m\u001b[38;5;241m.\u001b[39m_original_iterator \u001b[38;5;129;01mis\u001b[39;00m \u001b[38;5;129;01mnot\u001b[39;00m \u001b[38;5;28;01mNone\u001b[39;00m\n\u001b[0;32m   1088\u001b[0m     \u001b[38;5;28;01mwhile\u001b[39;00m \u001b[38;5;28mself\u001b[39m\u001b[38;5;241m.\u001b[39mdispatch_one_batch(iterator):\n",
      "File \u001b[1;32mc:\\users\\yehonatan\\pycharmproject\\ds\\lib\\site-packages\\joblib\\parallel.py:901\u001b[0m, in \u001b[0;36mParallel.dispatch_one_batch\u001b[1;34m(self, iterator)\u001b[0m\n\u001b[0;32m    899\u001b[0m     \u001b[38;5;28;01mreturn\u001b[39;00m \u001b[38;5;28;01mFalse\u001b[39;00m\n\u001b[0;32m    900\u001b[0m \u001b[38;5;28;01melse\u001b[39;00m:\n\u001b[1;32m--> 901\u001b[0m     \u001b[38;5;28;43mself\u001b[39;49m\u001b[38;5;241;43m.\u001b[39;49m\u001b[43m_dispatch\u001b[49m\u001b[43m(\u001b[49m\u001b[43mtasks\u001b[49m\u001b[43m)\u001b[49m\n\u001b[0;32m    902\u001b[0m     \u001b[38;5;28;01mreturn\u001b[39;00m \u001b[38;5;28;01mTrue\u001b[39;00m\n",
      "File \u001b[1;32mc:\\users\\yehonatan\\pycharmproject\\ds\\lib\\site-packages\\joblib\\parallel.py:819\u001b[0m, in \u001b[0;36mParallel._dispatch\u001b[1;34m(self, batch)\u001b[0m\n\u001b[0;32m    817\u001b[0m \u001b[38;5;28;01mwith\u001b[39;00m \u001b[38;5;28mself\u001b[39m\u001b[38;5;241m.\u001b[39m_lock:\n\u001b[0;32m    818\u001b[0m     job_idx \u001b[38;5;241m=\u001b[39m \u001b[38;5;28mlen\u001b[39m(\u001b[38;5;28mself\u001b[39m\u001b[38;5;241m.\u001b[39m_jobs)\n\u001b[1;32m--> 819\u001b[0m     job \u001b[38;5;241m=\u001b[39m \u001b[38;5;28;43mself\u001b[39;49m\u001b[38;5;241;43m.\u001b[39;49m\u001b[43m_backend\u001b[49m\u001b[38;5;241;43m.\u001b[39;49m\u001b[43mapply_async\u001b[49m\u001b[43m(\u001b[49m\u001b[43mbatch\u001b[49m\u001b[43m,\u001b[49m\u001b[43m \u001b[49m\u001b[43mcallback\u001b[49m\u001b[38;5;241;43m=\u001b[39;49m\u001b[43mcb\u001b[49m\u001b[43m)\u001b[49m\n\u001b[0;32m    820\u001b[0m     \u001b[38;5;66;03m# A job can complete so quickly than its callback is\u001b[39;00m\n\u001b[0;32m    821\u001b[0m     \u001b[38;5;66;03m# called before we get here, causing self._jobs to\u001b[39;00m\n\u001b[0;32m    822\u001b[0m     \u001b[38;5;66;03m# grow. To ensure correct results ordering, .insert is\u001b[39;00m\n\u001b[0;32m    823\u001b[0m     \u001b[38;5;66;03m# used (rather than .append) in the following line\u001b[39;00m\n\u001b[0;32m    824\u001b[0m     \u001b[38;5;28mself\u001b[39m\u001b[38;5;241m.\u001b[39m_jobs\u001b[38;5;241m.\u001b[39minsert(job_idx, job)\n",
      "File \u001b[1;32mc:\\users\\yehonatan\\pycharmproject\\ds\\lib\\site-packages\\joblib\\_parallel_backends.py:208\u001b[0m, in \u001b[0;36mSequentialBackend.apply_async\u001b[1;34m(self, func, callback)\u001b[0m\n\u001b[0;32m    206\u001b[0m \u001b[38;5;28;01mdef\u001b[39;00m \u001b[38;5;21mapply_async\u001b[39m(\u001b[38;5;28mself\u001b[39m, func, callback\u001b[38;5;241m=\u001b[39m\u001b[38;5;28;01mNone\u001b[39;00m):\n\u001b[0;32m    207\u001b[0m     \u001b[38;5;124;03m\"\"\"Schedule a func to be run\"\"\"\u001b[39;00m\n\u001b[1;32m--> 208\u001b[0m     result \u001b[38;5;241m=\u001b[39m \u001b[43mImmediateResult\u001b[49m\u001b[43m(\u001b[49m\u001b[43mfunc\u001b[49m\u001b[43m)\u001b[49m\n\u001b[0;32m    209\u001b[0m     \u001b[38;5;28;01mif\u001b[39;00m callback:\n\u001b[0;32m    210\u001b[0m         callback(result)\n",
      "File \u001b[1;32mc:\\users\\yehonatan\\pycharmproject\\ds\\lib\\site-packages\\joblib\\_parallel_backends.py:597\u001b[0m, in \u001b[0;36mImmediateResult.__init__\u001b[1;34m(self, batch)\u001b[0m\n\u001b[0;32m    594\u001b[0m \u001b[38;5;28;01mdef\u001b[39;00m \u001b[38;5;21m__init__\u001b[39m(\u001b[38;5;28mself\u001b[39m, batch):\n\u001b[0;32m    595\u001b[0m     \u001b[38;5;66;03m# Don't delay the application, to avoid keeping the input\u001b[39;00m\n\u001b[0;32m    596\u001b[0m     \u001b[38;5;66;03m# arguments in memory\u001b[39;00m\n\u001b[1;32m--> 597\u001b[0m     \u001b[38;5;28mself\u001b[39m\u001b[38;5;241m.\u001b[39mresults \u001b[38;5;241m=\u001b[39m \u001b[43mbatch\u001b[49m\u001b[43m(\u001b[49m\u001b[43m)\u001b[49m\n",
      "File \u001b[1;32mc:\\users\\yehonatan\\pycharmproject\\ds\\lib\\site-packages\\joblib\\parallel.py:288\u001b[0m, in \u001b[0;36mBatchedCalls.__call__\u001b[1;34m(self)\u001b[0m\n\u001b[0;32m    284\u001b[0m \u001b[38;5;28;01mdef\u001b[39;00m \u001b[38;5;21m__call__\u001b[39m(\u001b[38;5;28mself\u001b[39m):\n\u001b[0;32m    285\u001b[0m     \u001b[38;5;66;03m# Set the default nested backend to self._backend but do not set the\u001b[39;00m\n\u001b[0;32m    286\u001b[0m     \u001b[38;5;66;03m# change the default number of processes to -1\u001b[39;00m\n\u001b[0;32m    287\u001b[0m     \u001b[38;5;28;01mwith\u001b[39;00m parallel_backend(\u001b[38;5;28mself\u001b[39m\u001b[38;5;241m.\u001b[39m_backend, n_jobs\u001b[38;5;241m=\u001b[39m\u001b[38;5;28mself\u001b[39m\u001b[38;5;241m.\u001b[39m_n_jobs):\n\u001b[1;32m--> 288\u001b[0m         \u001b[38;5;28;01mreturn\u001b[39;00m [func(\u001b[38;5;241m*\u001b[39margs, \u001b[38;5;241m*\u001b[39m\u001b[38;5;241m*\u001b[39mkwargs)\n\u001b[0;32m    289\u001b[0m                 \u001b[38;5;28;01mfor\u001b[39;00m func, args, kwargs \u001b[38;5;129;01min\u001b[39;00m \u001b[38;5;28mself\u001b[39m\u001b[38;5;241m.\u001b[39mitems]\n",
      "File \u001b[1;32mc:\\users\\yehonatan\\pycharmproject\\ds\\lib\\site-packages\\joblib\\parallel.py:288\u001b[0m, in \u001b[0;36m<listcomp>\u001b[1;34m(.0)\u001b[0m\n\u001b[0;32m    284\u001b[0m \u001b[38;5;28;01mdef\u001b[39;00m \u001b[38;5;21m__call__\u001b[39m(\u001b[38;5;28mself\u001b[39m):\n\u001b[0;32m    285\u001b[0m     \u001b[38;5;66;03m# Set the default nested backend to self._backend but do not set the\u001b[39;00m\n\u001b[0;32m    286\u001b[0m     \u001b[38;5;66;03m# change the default number of processes to -1\u001b[39;00m\n\u001b[0;32m    287\u001b[0m     \u001b[38;5;28;01mwith\u001b[39;00m parallel_backend(\u001b[38;5;28mself\u001b[39m\u001b[38;5;241m.\u001b[39m_backend, n_jobs\u001b[38;5;241m=\u001b[39m\u001b[38;5;28mself\u001b[39m\u001b[38;5;241m.\u001b[39m_n_jobs):\n\u001b[1;32m--> 288\u001b[0m         \u001b[38;5;28;01mreturn\u001b[39;00m [\u001b[43mfunc\u001b[49m\u001b[43m(\u001b[49m\u001b[38;5;241;43m*\u001b[39;49m\u001b[43margs\u001b[49m\u001b[43m,\u001b[49m\u001b[43m \u001b[49m\u001b[38;5;241;43m*\u001b[39;49m\u001b[38;5;241;43m*\u001b[39;49m\u001b[43mkwargs\u001b[49m\u001b[43m)\u001b[49m\n\u001b[0;32m    289\u001b[0m                 \u001b[38;5;28;01mfor\u001b[39;00m func, args, kwargs \u001b[38;5;129;01min\u001b[39;00m \u001b[38;5;28mself\u001b[39m\u001b[38;5;241m.\u001b[39mitems]\n",
      "File \u001b[1;32mc:\\users\\yehonatan\\pycharmproject\\ds\\lib\\site-packages\\sklearn\\utils\\fixes.py:117\u001b[0m, in \u001b[0;36m_FuncWrapper.__call__\u001b[1;34m(self, *args, **kwargs)\u001b[0m\n\u001b[0;32m    115\u001b[0m \u001b[38;5;28;01mdef\u001b[39;00m \u001b[38;5;21m__call__\u001b[39m(\u001b[38;5;28mself\u001b[39m, \u001b[38;5;241m*\u001b[39margs, \u001b[38;5;241m*\u001b[39m\u001b[38;5;241m*\u001b[39mkwargs):\n\u001b[0;32m    116\u001b[0m     \u001b[38;5;28;01mwith\u001b[39;00m config_context(\u001b[38;5;241m*\u001b[39m\u001b[38;5;241m*\u001b[39m\u001b[38;5;28mself\u001b[39m\u001b[38;5;241m.\u001b[39mconfig):\n\u001b[1;32m--> 117\u001b[0m         \u001b[38;5;28;01mreturn\u001b[39;00m \u001b[38;5;28;43mself\u001b[39;49m\u001b[38;5;241;43m.\u001b[39;49m\u001b[43mfunction\u001b[49m\u001b[43m(\u001b[49m\u001b[38;5;241;43m*\u001b[39;49m\u001b[43margs\u001b[49m\u001b[43m,\u001b[49m\u001b[43m \u001b[49m\u001b[38;5;241;43m*\u001b[39;49m\u001b[38;5;241;43m*\u001b[39;49m\u001b[43mkwargs\u001b[49m\u001b[43m)\u001b[49m\n",
      "File \u001b[1;32mc:\\users\\yehonatan\\pycharmproject\\ds\\lib\\site-packages\\sklearn\\model_selection\\_validation.py:674\u001b[0m, in \u001b[0;36m_fit_and_score\u001b[1;34m(estimator, X, y, scorer, train, test, verbose, parameters, fit_params, return_train_score, return_parameters, return_n_test_samples, return_times, return_estimator, split_progress, candidate_progress, error_score)\u001b[0m\n\u001b[0;32m    671\u001b[0m     \u001b[38;5;28;01mfor\u001b[39;00m k, v \u001b[38;5;129;01min\u001b[39;00m parameters\u001b[38;5;241m.\u001b[39mitems():\n\u001b[0;32m    672\u001b[0m         cloned_parameters[k] \u001b[38;5;241m=\u001b[39m clone(v, safe\u001b[38;5;241m=\u001b[39m\u001b[38;5;28;01mFalse\u001b[39;00m)\n\u001b[1;32m--> 674\u001b[0m     estimator \u001b[38;5;241m=\u001b[39m \u001b[43mestimator\u001b[49m\u001b[38;5;241;43m.\u001b[39;49m\u001b[43mset_params\u001b[49m\u001b[43m(\u001b[49m\u001b[38;5;241;43m*\u001b[39;49m\u001b[38;5;241;43m*\u001b[39;49m\u001b[43mcloned_parameters\u001b[49m\u001b[43m)\u001b[49m\n\u001b[0;32m    676\u001b[0m start_time \u001b[38;5;241m=\u001b[39m time\u001b[38;5;241m.\u001b[39mtime()\n\u001b[0;32m    678\u001b[0m X_train, y_train \u001b[38;5;241m=\u001b[39m _safe_split(estimator, X, y, train)\n",
      "File \u001b[1;32mc:\\users\\yehonatan\\pycharmproject\\ds\\lib\\site-packages\\sklearn\\pipeline.py:188\u001b[0m, in \u001b[0;36mPipeline.set_params\u001b[1;34m(self, **kwargs)\u001b[0m\n\u001b[0;32m    169\u001b[0m \u001b[38;5;28;01mdef\u001b[39;00m \u001b[38;5;21mset_params\u001b[39m(\u001b[38;5;28mself\u001b[39m, \u001b[38;5;241m*\u001b[39m\u001b[38;5;241m*\u001b[39mkwargs):\n\u001b[0;32m    170\u001b[0m     \u001b[38;5;124;03m\"\"\"Set the parameters of this estimator.\u001b[39;00m\n\u001b[0;32m    171\u001b[0m \n\u001b[0;32m    172\u001b[0m \u001b[38;5;124;03m    Valid parameter keys can be listed with ``get_params()``. Note that\u001b[39;00m\n\u001b[1;32m   (...)\u001b[0m\n\u001b[0;32m    186\u001b[0m \u001b[38;5;124;03m        Pipeline class instance.\u001b[39;00m\n\u001b[0;32m    187\u001b[0m \u001b[38;5;124;03m    \"\"\"\u001b[39;00m\n\u001b[1;32m--> 188\u001b[0m     \u001b[38;5;28;43mself\u001b[39;49m\u001b[38;5;241;43m.\u001b[39;49m\u001b[43m_set_params\u001b[49m\u001b[43m(\u001b[49m\u001b[38;5;124;43m\"\u001b[39;49m\u001b[38;5;124;43msteps\u001b[39;49m\u001b[38;5;124;43m\"\u001b[39;49m\u001b[43m,\u001b[49m\u001b[43m \u001b[49m\u001b[38;5;241;43m*\u001b[39;49m\u001b[38;5;241;43m*\u001b[39;49m\u001b[43mkwargs\u001b[49m\u001b[43m)\u001b[49m\n\u001b[0;32m    189\u001b[0m     \u001b[38;5;28;01mreturn\u001b[39;00m \u001b[38;5;28mself\u001b[39m\n",
      "File \u001b[1;32mc:\\users\\yehonatan\\pycharmproject\\ds\\lib\\site-packages\\sklearn\\utils\\metaestimators.py:72\u001b[0m, in \u001b[0;36m_BaseComposition._set_params\u001b[1;34m(self, attr, **params)\u001b[0m\n\u001b[0;32m     69\u001b[0m                 \u001b[38;5;28mself\u001b[39m\u001b[38;5;241m.\u001b[39m_replace_estimator(attr, name, params\u001b[38;5;241m.\u001b[39mpop(name))\n\u001b[0;32m     71\u001b[0m \u001b[38;5;66;03m# 3. Step parameters and other initialisation arguments\u001b[39;00m\n\u001b[1;32m---> 72\u001b[0m \u001b[38;5;28;43msuper\u001b[39;49m\u001b[43m(\u001b[49m\u001b[43m)\u001b[49m\u001b[38;5;241;43m.\u001b[39;49m\u001b[43mset_params\u001b[49m\u001b[43m(\u001b[49m\u001b[38;5;241;43m*\u001b[39;49m\u001b[38;5;241;43m*\u001b[39;49m\u001b[43mparams\u001b[49m\u001b[43m)\u001b[49m\n\u001b[0;32m     73\u001b[0m \u001b[38;5;28;01mreturn\u001b[39;00m \u001b[38;5;28mself\u001b[39m\n",
      "File \u001b[1;32mc:\\users\\yehonatan\\pycharmproject\\ds\\lib\\site-packages\\sklearn\\base.py:246\u001b[0m, in \u001b[0;36mBaseEstimator.set_params\u001b[1;34m(self, **params)\u001b[0m\n\u001b[0;32m    244\u001b[0m \u001b[38;5;28;01mif\u001b[39;00m key \u001b[38;5;129;01mnot\u001b[39;00m \u001b[38;5;129;01min\u001b[39;00m valid_params:\n\u001b[0;32m    245\u001b[0m     local_valid_params \u001b[38;5;241m=\u001b[39m \u001b[38;5;28mself\u001b[39m\u001b[38;5;241m.\u001b[39m_get_param_names()\n\u001b[1;32m--> 246\u001b[0m     \u001b[38;5;28;01mraise\u001b[39;00m \u001b[38;5;167;01mValueError\u001b[39;00m(\n\u001b[0;32m    247\u001b[0m         \u001b[38;5;124mf\u001b[39m\u001b[38;5;124m\"\u001b[39m\u001b[38;5;124mInvalid parameter \u001b[39m\u001b[38;5;132;01m{\u001b[39;00mkey\u001b[38;5;132;01m!r}\u001b[39;00m\u001b[38;5;124m for estimator \u001b[39m\u001b[38;5;132;01m{\u001b[39;00m\u001b[38;5;28mself\u001b[39m\u001b[38;5;132;01m}\u001b[39;00m\u001b[38;5;124m. \u001b[39m\u001b[38;5;124m\"\u001b[39m\n\u001b[0;32m    248\u001b[0m         \u001b[38;5;124mf\u001b[39m\u001b[38;5;124m\"\u001b[39m\u001b[38;5;124mValid parameters are: \u001b[39m\u001b[38;5;132;01m{\u001b[39;00mlocal_valid_params\u001b[38;5;132;01m!r}\u001b[39;00m\u001b[38;5;124m.\u001b[39m\u001b[38;5;124m\"\u001b[39m\n\u001b[0;32m    249\u001b[0m     )\n\u001b[0;32m    251\u001b[0m \u001b[38;5;28;01mif\u001b[39;00m delim:\n\u001b[0;32m    252\u001b[0m     nested_params[key][sub_key] \u001b[38;5;241m=\u001b[39m value\n",
      "\u001b[1;31mValueError\u001b[0m: Invalid parameter 'gamma' for estimator Pipeline(steps=[('columntransformer',\n                 ColumnTransformer(transformers=[('one-hot-encoder',\n                                                  OneHotEncoder(handle_unknown='ignore'),\n                                                  ['pclass', 'sex', 'parch',\n                                                   'cabin', 'embarked']),\n                                                 ('standard_scaler',\n                                                  StandardScaler(),\n                                                  ['age', 'fare'])])),\n                ('svc', SVC(random_state=9))]). Valid parameters are: ['memory', 'steps', 'verbose']."
     ]
    }
   ],
   "source": [
    "grid_search.fit(x_train, y_train)\n",
    "print('best parameters : ', grid_search.best_params_)\n",
    "print('best score for the parameters :', np.round(grid_search.best_score_,3))"
   ]
  },
  {
   "cell_type": "code",
   "execution_count": 21,
   "id": "549af6f9",
   "metadata": {},
   "outputs": [
    {
     "name": "stdout",
     "output_type": "stream",
     "text": [
      "[[501  47]\n",
      " [119 223]]\n",
      "              precision    recall  f1-score   support\n",
      "\n",
      "         0.0       0.81      0.91      0.86       548\n",
      "         1.0       0.83      0.65      0.73       342\n",
      "\n",
      "    accuracy                           0.81       890\n",
      "   macro avg       0.82      0.78      0.79       890\n",
      "weighted avg       0.81      0.81      0.81       890\n",
      "\n"
     ]
    }
   ],
   "source": [
    "y_pred = cross_val_predict(model, x_train, y_train, cv=3)\n",
    "cnf_mx = confusion_matrix(y_train, y_pred)\n",
    "print(cnf_mx)\n",
    "print(classification_report(y_train, y_pred))  "
   ]
  },
  {
   "cell_type": "code",
   "execution_count": 22,
   "id": "137128e4",
   "metadata": {},
   "outputs": [
    {
     "data": {
      "text/plain": [
       "(-2.0, 2.0)"
      ]
     },
     "execution_count": 22,
     "metadata": {},
     "output_type": "execute_result"
    },
    {
     "data": {
      "image/png": "[encoded data removed]",
      "text/plain": [
       "<Figure size 640x480 with 1 Axes>"
      ]
     },
     "metadata": {},
     "output_type": "display_data"
    }
   ],
   "source": [
    "y_pred = cross_val_predict(model, x_train, y_train, cv=3, method = 'decision_function')\n",
    "precisions, recalls, thresholds_2 = precision_recall_curve(y_train, y_pred)\n",
    "plt.plot(thresholds_2, precisions[:-1], 'b--', label='Precision')\n",
    "plt.plot(thresholds_2, recalls[:-1], 'g-', label='Recall')\n",
    "plt.xlabel('Threshold')\n",
    "plt.legend(loc=('lower left'))\n",
    "plt.xlim([-2,2])"
   ]
  },
  {
   "cell_type": "code",
   "execution_count": 23,
   "id": "45b1f63d",
   "metadata": {},
   "outputs": [
    {
     "data": {
      "text/plain": [
       "Text(0, 0.5, 'Precision')"
      ]
     },
     "execution_count": 23,
     "metadata": {},
     "output_type": "execute_result"
    },
    {
     "data": {
      "image/png": "[encoded data removed]",
      "text/plain": [
       "<Figure size 640x480 with 1 Axes>"
      ]
     },
     "metadata": {},
     "output_type": "display_data"
    }
   ],
   "source": [
    "plt.plot(recalls[:-1], precisions[:-1], 'b--')\n",
    "plt.xlabel('Recall')\n",
    "plt.ylabel('Precision')\n"
   ]
  },
  {
   "cell_type": "code",
   "execution_count": 24,
   "id": "551c5e33",
   "metadata": {},
   "outputs": [
    {
     "data": {
      "image/png": "[encoded data removed]",
      "text/plain": [
       "<Figure size 640x480 with 1 Axes>"
      ]
     },
     "metadata": {},
     "output_type": "display_data"
    }
   ],
   "source": [
    "fpr, tpr, thresholds_1 = roc_curve(y_train, y_pred)\n",
    "roc_auc = auc(fpr, tpr)\n",
    "display = RocCurveDisplay(fpr=fpr, tpr=tpr, roc_auc=roc_auc)\n",
    "display.plot()\n",
    "plt.show()\n",
    "                                 "
   ]
  },
  {
   "cell_type": "markdown",
   "id": "6445bcab",
   "metadata": {},
   "source": [
    "# test"
   ]
  },
  {
   "cell_type": "code",
   "execution_count": 21,
   "id": "da16b39e",
   "metadata": {},
   "outputs": [],
   "source": [
    "y_test_pred = model.predict(x_test)\n",
    "y_test_pred = y_test_pred.astype(int)"
   ]
  },
  {
   "cell_type": "code",
   "execution_count": 22,
   "id": "5af55a22",
   "metadata": {},
   "outputs": [],
   "source": [
    "\n",
    "submission_df = pd.DataFrame({'Passengerid': passenger_id[891:], 'Survived': y_test_pred})\n",
    "submission_df.to_csv('titanic_pred_16_retry.csv', index = False)\n"
   ]
  },
  {
   "cell_type": "code",
   "execution_count": null,
   "id": "e0e353f7",
   "metadata": {},
   "outputs": [],
   "source": []
  }
 ],
 "metadata": {
  "kernelspec": {
   "display_name": "Python 3 (ipykernel)",
   "language": "python",
   "name": "python3"
  },
  "language_info": {
   "codemirror_mode": {
    "name": "ipython",
    "version": 3
   },
   "file_extension": ".py",
   "mimetype": "text/x-python",
   "name": "python",
   "nbconvert_exporter": "python",
   "pygments_lexer": "ipython3",
   "version": "3.8.10"
  }
 },
 "nbformat": 4,
 "nbformat_minor": 5
}
