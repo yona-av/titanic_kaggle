{
 "cells": [
  {
   "cell_type": "code",
   "execution_count": 2,
   "id": "c2b02b55",
   "metadata": {},
   "outputs": [],
   "source": [
    "# import packages \n",
    "import numpy as np \n",
    "import pandas as pd\n",
    "import matplotlib.pyplot as plt\n",
    "import os \n",
    "import sys\n",
    "import seaborn as sns\n",
    "import scipy as sp\n",
    "import scipy.stats as stats\n",
    "from scipy.stats import norm\n",
    "%matplotlib inline\n",
    "\n",
    "# import pre-processing modules \n",
    "from scipy import stats\n",
    "from sklearn.model_selection import train_test_split\n",
    "from sklearn.preprocessing import StandardScaler\n",
    "from sklearn.feature_selection import SelectFromModel \n",
    "\n",
    "# import classifiers\n",
    "from sklearn.ensemble import RandomForestClassifier\n",
    "from sklearn.linear_model import LogisticRegression\n",
    "from sklearn.linear_model import SGDClassifier\n",
    "from sklearn.svm import SVC\n",
    "\n",
    "# import evaluation modules\n",
    "from sklearn.model_selection import GridSearchCV\n",
    "from sklearn.model_selection import cross_val_score\n",
    "from sklearn.metrics import accuracy_score\n",
    "from sklearn.metrics import precision_recall_fscore_support\n",
    "from sklearn.metrics import classification_report"
   ]
  },
  {
   "cell_type": "code",
   "execution_count": 3,
   "id": "921e1a11",
   "metadata": {},
   "outputs": [],
   "source": [
    "test_set = pd.read_csv(r\"C:/Users/Yehonatan/PycharmProject/DS/projects/titanic/ignore/test.csv\")\n",
    "train_set = pd.read_csv(r\"C:/Users/Yehonatan/PycharmProject/DS/projects/titanic/ignore/train.csv\")\n",
    "df_original = pd.concat([train_set,test_set], axis=0, ignore_index=True )\n"
   ]
  },
  {
   "cell_type": "code",
   "execution_count": 4,
   "id": "f7a8111a",
   "metadata": {},
   "outputs": [],
   "source": [
    "df_train = (train_set.copy()).rename(columns=str.lower)\n",
    "df_test = (test_set.copy()).rename(columns=str.lower)\n",
    "df = (df_original.copy()).rename(columns=str.lower)\n",
    "\n",
    "\n",
    "#df\n",
    "#df_test.info()"
   ]
  },
  {
   "cell_type": "markdown",
   "id": "938e6418",
   "metadata": {},
   "source": [
    "# functions"
   ]
  },
  {
   "cell_type": "code",
   "execution_count": 5,
   "id": "78d592d1",
   "metadata": {},
   "outputs": [],
   "source": [
    "# for now I only need title , later ill add the family names index functionality\n",
    "def parce_name(df):\n",
    "        # find index by names \n",
    "    names = list(df['name'])\n",
    "    fam_name = [(item.split(',')[0]) for item in names]\n",
    "    temp = [(item.split(',')[1]) for item in names]\n",
    "    title = [(item.split('.')[0])for item in temp]\n",
    "    return title, fam_name"
   ]
  },
  {
   "cell_type": "markdown",
   "id": "f9236f32",
   "metadata": {},
   "source": [
    "# age nans"
   ]
  },
  {
   "cell_type": "code",
   "execution_count": 6,
   "id": "aac74520",
   "metadata": {},
   "outputs": [],
   "source": [
    "# work on df nan and then concat with original df_train and sort by ID\n",
    "\n",
    "age_nan = df_train[df_train['age'].isna()]\n",
    "#age_nan.info()\n",
    "age_nan = age_nan.sort_values(by=['sex'],ascending=True)\n",
    "age_nan = age_nan.sort_values(by=['sibsp'],ascending=False).reset_index(drop=True)\n",
    "\n",
    "# assign the masters the average age under 12 . becasue older than 12 are mrs.\n",
    "title, fam_nam = parce_name(age_nan)\n",
    "master_index = []\n",
    "for i in range(len(age_nan)):\n",
    "    if title[i] == ' Master':\n",
    "        master_index.append(i)\n",
    "\n",
    "df_young = df_train[df_train[\"age\"] < 12 ]\n",
    "child_mean = df_young['age'].mean()\n",
    "       \n",
    "for i in master_index:\n",
    "    age_nan.at[i,'age'] = child_mean \n",
    "    \n",
    "# age nan with no siblings and spuses . so determine average age by gender . \n",
    "\n",
    "\n",
    "\n",
    "\n",
    "\n",
    "\n",
    "\n",
    "\n",
    "\n"
   ]
  },
  {
   "cell_type": "code",
   "execution_count": 7,
   "id": "dc6015cd",
   "metadata": {},
   "outputs": [
    {
     "data": {
      "text/html": [
       "<div>\n",
       "<style scoped>\n",
       "    .dataframe tbody tr th:only-of-type {\n",
       "        vertical-align: middle;\n",
       "    }\n",
       "\n",
       "    .dataframe tbody tr th {\n",
       "        vertical-align: top;\n",
       "    }\n",
       "\n",
       "    .dataframe thead th {\n",
       "        text-align: right;\n",
       "    }\n",
       "</style>\n",
       "<table border=\"1\" class=\"dataframe\">\n",
       "  <thead>\n",
       "    <tr style=\"text-align: right;\">\n",
       "      <th></th>\n",
       "      <th>passengerid</th>\n",
       "      <th>survived</th>\n",
       "      <th>pclass</th>\n",
       "      <th>name</th>\n",
       "      <th>sex</th>\n",
       "      <th>age</th>\n",
       "      <th>sibsp</th>\n",
       "      <th>parch</th>\n",
       "      <th>ticket</th>\n",
       "      <th>fare</th>\n",
       "      <th>cabin</th>\n",
       "      <th>embarked</th>\n",
       "    </tr>\n",
       "  </thead>\n",
       "  <tbody>\n",
       "    <tr>\n",
       "      <th>5</th>\n",
       "      <td>6</td>\n",
       "      <td>0.0</td>\n",
       "      <td>3</td>\n",
       "      <td>Moran, Mr. James</td>\n",
       "      <td>male</td>\n",
       "      <td>NaN</td>\n",
       "      <td>0</td>\n",
       "      <td>0</td>\n",
       "      <td>330877</td>\n",
       "      <td>8.4583</td>\n",
       "      <td>NaN</td>\n",
       "      <td>Q</td>\n",
       "    </tr>\n",
       "    <tr>\n",
       "      <th>17</th>\n",
       "      <td>18</td>\n",
       "      <td>1.0</td>\n",
       "      <td>2</td>\n",
       "      <td>Williams, Mr. Charles Eugene</td>\n",
       "      <td>male</td>\n",
       "      <td>NaN</td>\n",
       "      <td>0</td>\n",
       "      <td>0</td>\n",
       "      <td>244373</td>\n",
       "      <td>13.0000</td>\n",
       "      <td>NaN</td>\n",
       "      <td>S</td>\n",
       "    </tr>\n",
       "    <tr>\n",
       "      <th>19</th>\n",
       "      <td>20</td>\n",
       "      <td>1.0</td>\n",
       "      <td>3</td>\n",
       "      <td>Masselmani, Mrs. Fatima</td>\n",
       "      <td>female</td>\n",
       "      <td>NaN</td>\n",
       "      <td>0</td>\n",
       "      <td>0</td>\n",
       "      <td>2649</td>\n",
       "      <td>7.2250</td>\n",
       "      <td>NaN</td>\n",
       "      <td>C</td>\n",
       "    </tr>\n",
       "    <tr>\n",
       "      <th>26</th>\n",
       "      <td>27</td>\n",
       "      <td>0.0</td>\n",
       "      <td>3</td>\n",
       "      <td>Emir, Mr. Farred Chehab</td>\n",
       "      <td>male</td>\n",
       "      <td>NaN</td>\n",
       "      <td>0</td>\n",
       "      <td>0</td>\n",
       "      <td>2631</td>\n",
       "      <td>7.2250</td>\n",
       "      <td>NaN</td>\n",
       "      <td>C</td>\n",
       "    </tr>\n",
       "    <tr>\n",
       "      <th>28</th>\n",
       "      <td>29</td>\n",
       "      <td>1.0</td>\n",
       "      <td>3</td>\n",
       "      <td>O'Dwyer, Miss. Ellen \"Nellie\"</td>\n",
       "      <td>female</td>\n",
       "      <td>NaN</td>\n",
       "      <td>0</td>\n",
       "      <td>0</td>\n",
       "      <td>330959</td>\n",
       "      <td>7.8792</td>\n",
       "      <td>NaN</td>\n",
       "      <td>Q</td>\n",
       "    </tr>\n",
       "    <tr>\n",
       "      <th>...</th>\n",
       "      <td>...</td>\n",
       "      <td>...</td>\n",
       "      <td>...</td>\n",
       "      <td>...</td>\n",
       "      <td>...</td>\n",
       "      <td>...</td>\n",
       "      <td>...</td>\n",
       "      <td>...</td>\n",
       "      <td>...</td>\n",
       "      <td>...</td>\n",
       "      <td>...</td>\n",
       "      <td>...</td>\n",
       "    </tr>\n",
       "    <tr>\n",
       "      <th>1299</th>\n",
       "      <td>1300</td>\n",
       "      <td>NaN</td>\n",
       "      <td>3</td>\n",
       "      <td>Riordan, Miss. Johanna Hannah\"\"</td>\n",
       "      <td>female</td>\n",
       "      <td>NaN</td>\n",
       "      <td>0</td>\n",
       "      <td>0</td>\n",
       "      <td>334915</td>\n",
       "      <td>7.7208</td>\n",
       "      <td>NaN</td>\n",
       "      <td>Q</td>\n",
       "    </tr>\n",
       "    <tr>\n",
       "      <th>1301</th>\n",
       "      <td>1302</td>\n",
       "      <td>NaN</td>\n",
       "      <td>3</td>\n",
       "      <td>Naughton, Miss. Hannah</td>\n",
       "      <td>female</td>\n",
       "      <td>NaN</td>\n",
       "      <td>0</td>\n",
       "      <td>0</td>\n",
       "      <td>365237</td>\n",
       "      <td>7.7500</td>\n",
       "      <td>NaN</td>\n",
       "      <td>Q</td>\n",
       "    </tr>\n",
       "    <tr>\n",
       "      <th>1304</th>\n",
       "      <td>1305</td>\n",
       "      <td>NaN</td>\n",
       "      <td>3</td>\n",
       "      <td>Spector, Mr. Woolf</td>\n",
       "      <td>male</td>\n",
       "      <td>NaN</td>\n",
       "      <td>0</td>\n",
       "      <td>0</td>\n",
       "      <td>A.5. 3236</td>\n",
       "      <td>8.0500</td>\n",
       "      <td>NaN</td>\n",
       "      <td>S</td>\n",
       "    </tr>\n",
       "    <tr>\n",
       "      <th>1307</th>\n",
       "      <td>1308</td>\n",
       "      <td>NaN</td>\n",
       "      <td>3</td>\n",
       "      <td>Ware, Mr. Frederick</td>\n",
       "      <td>male</td>\n",
       "      <td>NaN</td>\n",
       "      <td>0</td>\n",
       "      <td>0</td>\n",
       "      <td>359309</td>\n",
       "      <td>8.0500</td>\n",
       "      <td>NaN</td>\n",
       "      <td>S</td>\n",
       "    </tr>\n",
       "    <tr>\n",
       "      <th>1308</th>\n",
       "      <td>1309</td>\n",
       "      <td>NaN</td>\n",
       "      <td>3</td>\n",
       "      <td>Peter, Master. Michael J</td>\n",
       "      <td>male</td>\n",
       "      <td>NaN</td>\n",
       "      <td>1</td>\n",
       "      <td>1</td>\n",
       "      <td>2668</td>\n",
       "      <td>22.3583</td>\n",
       "      <td>NaN</td>\n",
       "      <td>C</td>\n",
       "    </tr>\n",
       "  </tbody>\n",
       "</table>\n",
       "<p>245 rows × 12 columns</p>\n",
       "</div>"
      ],
      "text/plain": [
       "      passengerid  survived  pclass                             name     sex  \\\n",
       "5               6       0.0       3                 Moran, Mr. James    male   \n",
       "17             18       1.0       2     Williams, Mr. Charles Eugene    male   \n",
       "19             20       1.0       3          Masselmani, Mrs. Fatima  female   \n",
       "26             27       0.0       3          Emir, Mr. Farred Chehab    male   \n",
       "28             29       1.0       3    O'Dwyer, Miss. Ellen \"Nellie\"  female   \n",
       "...           ...       ...     ...                              ...     ...   \n",
       "1299         1300       NaN       3  Riordan, Miss. Johanna Hannah\"\"  female   \n",
       "1301         1302       NaN       3           Naughton, Miss. Hannah  female   \n",
       "1304         1305       NaN       3               Spector, Mr. Woolf    male   \n",
       "1307         1308       NaN       3              Ware, Mr. Frederick    male   \n",
       "1308         1309       NaN       3         Peter, Master. Michael J    male   \n",
       "\n",
       "      age  sibsp  parch     ticket     fare cabin embarked  \n",
       "5     NaN      0      0     330877   8.4583   NaN        Q  \n",
       "17    NaN      0      0     244373  13.0000   NaN        S  \n",
       "19    NaN      0      0       2649   7.2250   NaN        C  \n",
       "26    NaN      0      0       2631   7.2250   NaN        C  \n",
       "28    NaN      0      0     330959   7.8792   NaN        Q  \n",
       "...   ...    ...    ...        ...      ...   ...      ...  \n",
       "1299  NaN      0      0     334915   7.7208   NaN        Q  \n",
       "1301  NaN      0      0     365237   7.7500   NaN        Q  \n",
       "1304  NaN      0      0  A.5. 3236   8.0500   NaN        S  \n",
       "1307  NaN      0      0     359309   8.0500   NaN        S  \n",
       "1308  NaN      1      1       2668  22.3583   NaN        C  \n",
       "\n",
       "[245 rows x 12 columns]"
      ]
     },
     "execution_count": 7,
     "metadata": {},
     "output_type": "execute_result"
    }
   ],
   "source": [
    "# age nan with no siblings and spouses . so determine average age by gender . \n",
    "l_p_t = age_nan[age_nan['sibsp'] == 0]\n",
    "len(l_p_t)\n",
    "lone_pass = l_p_t[l_p_t['parch'] == 0] # passengers who travel alone and cant determine their age by relatives\n",
    "lone_pass\n",
    "\n",
    "\n",
    "# calc mean by gender\n",
    "df_male = df[df['sex'] == 'male']\n",
    "df_female = df[df['sex'] == 'female']\n",
    "male_mean = df_male['age'].mean()\n",
    "female_mean = df_female['age'].mean()\n",
    "\n",
    "lone_pass_male = lone_pass[lone_pass['sex'] == 'male']\n",
    "lone_pass_female = lone_pass[lone_pass['sex'] == 'female']\n",
    "l_p_m_index = (lone_pass_male.index).to_numpy()\n",
    "l_p_f_index = (lone_pass_female.index).to_numpy()\n",
    "\n",
    "for m in l_p_m_index:\n",
    "    df.at[m,'age'] = male_mean\n",
    "\n",
    "for f in l_p_f_index:\n",
    "    df.at[i,'age'] = female_mean\n",
    "    \n",
    "age_nan = df[df['age'].isna()] # update the age_nan\n",
    "age_nan"
   ]
  },
  {
   "cell_type": "code",
   "execution_count": 8,
   "id": "be2e87de",
   "metadata": {},
   "outputs": [],
   "source": [
    "#pd.set_option('display.max_rows', len(age_nan))\n",
    "#print(age_nan)\n",
    "#pd.reset_option('display.max_rows')\n",
    "#age_nan.head(60)\n",
    "\n"
   ]
  },
  {
   "cell_type": "code",
   "execution_count": 9,
   "id": "7e305d0c",
   "metadata": {},
   "outputs": [],
   "source": [
    "## look at the passengers with sibsp or parch"
   ]
  },
  {
   "cell_type": "code",
   "execution_count": 10,
   "id": "6d386e19",
   "metadata": {},
   "outputs": [
    {
     "name": "stdout",
     "output_type": "stream",
     "text": [
      "2.0573258374678716e-10\n"
     ]
    }
   ],
   "source": [
    "# find male and female age distribution\n",
    "df_male = (df[df['sex'] == 'male'])\n",
    "df_female = (df[df['sex'] == 'female'])\n",
    "\n",
    "age_male = df_male[\"age\"].to_numpy()\n",
    "age_female = df_female[\"age\"].to_numpy()\n",
    "#age_male\n",
    "#age_female\n",
    "age_male = age_male[~np.isnan(age_male)]\n",
    "age_female = age_female[~np.isnan(age_female)]\n",
    "\n",
    "w,p = stats.shapiro(age_male)\n",
    "#w,p = stats.kstest(age_male, 'norm')\n",
    "print(p)\n",
    "\n",
    "# the result from the test is that it is not a normal distribution"
   ]
  },
  {
   "cell_type": "code",
   "execution_count": null,
   "id": "7e6d914c",
   "metadata": {},
   "outputs": [],
   "source": []
  },
  {
   "cell_type": "code",
   "execution_count": 11,
   "id": "91b0d330",
   "metadata": {},
   "outputs": [
    {
     "data": {
      "text/plain": [
       "<AxesSubplot: xlabel='sex', ylabel='count'>"
      ]
     },
     "execution_count": 11,
     "metadata": {},
     "output_type": "execute_result"
    },
    {
     "data": {
      "image/png": "[encoded data removed]",
      "text/plain": [
       "<Figure size 640x480 with 1 Axes>"
      ]
     },
     "metadata": {},
     "output_type": "display_data"
    }
   ],
   "source": [
    "sns.countplot(data=age_nan, x=\"sex\", hue=\"survived\")"
   ]
  },
  {
   "cell_type": "code",
   "execution_count": 12,
   "id": "c1a66153",
   "metadata": {},
   "outputs": [
    {
     "data": {
      "text/plain": [
       "<AxesSubplot: xlabel='sibsp', ylabel='count'>"
      ]
     },
     "execution_count": 12,
     "metadata": {},
     "output_type": "execute_result"
    },
    {
     "data": {
      "image/png": "[encoded data removed]",
      "text/plain": [
       "<Figure size 640x480 with 1 Axes>"
      ]
     },
     "metadata": {},
     "output_type": "display_data"
    }
   ],
   "source": [
    "sns.countplot(data=age_nan, x=\"sibsp\", hue=\"survived\")"
   ]
  },
  {
   "cell_type": "code",
   "execution_count": 13,
   "id": "3cdffc5d",
   "metadata": {},
   "outputs": [
    {
     "name": "stdout",
     "output_type": "stream",
     "text": [
      "[' Mr', ' Mr', ' Mrs', ' Mr', ' Miss', ' Mr', ' Mrs', ' Miss', ' Mr', ' Mr', ' Master', ' Mr', ' Mr', ' Miss', ' Mrs', ' Mr', ' Mr', ' Miss', ' Mr', ' Mr', ' Mrs', ' Mr', ' Miss', ' Mr', ' Mr', ' Mr', ' Miss', ' Miss', ' Miss', ' Miss', ' Mr', ' Mrs', ' Mr', ' Miss', ' Mr', ' Miss', ' Mr', ' Mr', ' Mr', ' Mr', ' Miss', ' Mr', ' Miss', ' Mr', ' Miss', ' Mr', ' Miss', ' Mrs', ' Mr', ' Mrs', ' Mr', ' Mr', ' Miss', ' Miss', ' Mr', ' Mrs', ' Miss', ' Mrs', ' Mr', ' Mr', ' Miss', ' Mr', ' Mr', ' Mr', ' Mrs', ' Mr', ' Mr', ' Mr', ' Mrs', ' Mr', ' Mr', ' Mr', ' Mrs', ' Mr', ' Mr', ' Mr', ' Mr', ' Mr', ' Mr', ' Mr', ' Miss', ' Mr', ' Mr', ' Mr', ' Miss', ' Mr', ' Mr', ' Mr', ' Mr', ' Mr', ' Mr', ' Mr', ' Mrs', ' Mr', ' Mr', ' Mr', ' Mr', ' Mr', ' Mr', ' Miss', ' Mr', ' Miss', ' Mrs', ' Mr', ' Mr', ' Miss', ' Miss', ' Mr', ' Mr', ' Mr', ' Mr', ' Miss', ' Mr', ' Mr', ' Mr', ' Mr', ' Mr', ' Mr', ' Mr', ' Miss', ' Mr', ' Mr', ' Mrs', ' Mr', ' Miss', ' Mr', ' Miss', ' Master', ' Mr', ' Mr', ' Miss', ' Mr', ' Mr', ' Mr', ' Mr', ' Mr', ' Dr', ' Mr', ' Mr', ' Mr', ' Mr', ' Mr', ' Mr', ' Miss', ' Mr', ' Mr', ' Mr', ' Mr', ' Mr', ' Mr', ' Mr', ' Mr', ' Mr', ' Mrs', ' Mr', ' Miss', ' Mr', ' Mr', ' Miss', ' Mr', ' Mrs', ' Mr', ' Mrs', ' Miss', ' Mr', ' Mr', ' Mr', ' Mr', ' Mr', ' Mrs', ' Mr', ' Mr', ' Mr', ' Mr', ' Ms', ' Mr', ' Mr', ' Mr', ' Mr', ' Mr', ' Miss', ' Mr', ' Mr', ' Mr', ' Miss', ' Mrs', ' Mr', ' Mr', ' Mr', ' Mr', ' Miss', ' Mr', ' Mrs', ' Mr', ' Mr', ' Mr', ' Miss', ' Mr', ' Mrs', ' Miss', ' Mr', ' Mr', ' Miss', ' Mr', ' Mrs', ' Miss', ' Mr', ' Mr', ' Master', ' Mrs', ' Mr', ' Mr', ' Mr', ' Mr', ' Mr', ' Miss', ' Mr', ' Miss', ' Mr', ' Miss', ' Mr', ' Mr', ' Mr', ' Mr', ' Mr', ' Mr', ' Mr', ' Miss', ' Mr', ' Mr', ' Master', ' Mr', ' Master', ' Mr', ' Mr', ' Mrs', ' Mr', ' Mr', ' Mrs', ' Mr', ' Miss', ' Miss', ' Mr', ' Mr', ' Master']\n"
     ]
    }
   ],
   "source": [
    "masters, fam_nam = parce_name(age_nan)\n",
    "print(masters)\n",
    "\n",
    "#master_nan = df_train[df_train[\"name\"] == 'Master']\n",
    "#master_nan"
   ]
  },
  {
   "cell_type": "code",
   "execution_count": 14,
   "id": "4e726e7f",
   "metadata": {},
   "outputs": [
    {
     "name": "stdout",
     "output_type": "stream",
     "text": [
      "passengerid                                804\n",
      "survived                                   1.0\n",
      "pclass                                       3\n",
      "name           Thomas, Master. Assad Alexander\n",
      "sex                                       male\n",
      "age                                       0.42\n",
      "sibsp                                        0\n",
      "parch                                        1\n",
      "ticket                                    2625\n",
      "fare                                    8.5167\n",
      "cabin                                      NaN\n",
      "embarked                                     C\n",
      "Name: 803, dtype: object\n",
      "passengerid                                          996\n",
      "survived                                             NaN\n",
      "pclass                                                 3\n",
      "name           Thomas, Mrs. Alexander (Thamine Thelma\")\"\n",
      "sex                                               female\n",
      "age                                                 16.0\n",
      "sibsp                                                  1\n",
      "parch                                                  1\n",
      "ticket                                              2625\n",
      "fare                                              8.5167\n",
      "cabin                                                NaN\n",
      "embarked                                               C\n",
      "Name: 995, dtype: object\n",
      "passengerid                1008\n",
      "survived                    NaN\n",
      "pclass                        3\n",
      "name           Thomas, Mr. John\n",
      "sex                        male\n",
      "age                         NaN\n",
      "sibsp                         0\n",
      "parch                         0\n",
      "ticket                     2681\n",
      "fare                     6.4375\n",
      "cabin                       NaN\n",
      "embarked                      C\n",
      "Name: 1007, dtype: object\n",
      "passengerid                     1025\n",
      "survived                         NaN\n",
      "pclass                             3\n",
      "name           Thomas, Mr. Charles P\n",
      "sex                             male\n",
      "age                              NaN\n",
      "sibsp                              1\n",
      "parch                              0\n",
      "ticket                          2621\n",
      "fare                          6.4375\n",
      "cabin                            NaN\n",
      "embarked                           C\n",
      "Name: 1024, dtype: object\n",
      "passengerid                   1224\n",
      "survived                       NaN\n",
      "pclass                           3\n",
      "name           Thomas, Mr. Tannous\n",
      "sex                           male\n",
      "age                            NaN\n",
      "sibsp                            0\n",
      "parch                            0\n",
      "ticket                        2684\n",
      "fare                         7.225\n",
      "cabin                          NaN\n",
      "embarked                         C\n",
      "Name: 1223, dtype: object\n",
      "passengerid                                                187\n",
      "survived                                                   1.0\n",
      "pclass                                                       3\n",
      "name           O'Brien, Mrs. Thomas (Johanna \"Hannah\" Godfrey)\n",
      "sex                                                     female\n",
      "age                                                        NaN\n",
      "sibsp                                                        1\n",
      "parch                                                        0\n",
      "ticket                                                  370365\n",
      "fare                                                      15.5\n",
      "cabin                                                      NaN\n",
      "embarked                                                     Q\n",
      "Name: 186, dtype: object\n",
      "passengerid                    365\n",
      "survived                       0.0\n",
      "pclass                           3\n",
      "name           O'Brien, Mr. Thomas\n",
      "sex                           male\n",
      "age                            NaN\n",
      "sibsp                            1\n",
      "parch                            0\n",
      "ticket                      370365\n",
      "fare                          15.5\n",
      "cabin                          NaN\n",
      "embarked                         Q\n",
      "Name: 364, dtype: object\n",
      "passengerid                     553\n",
      "survived                        0.0\n",
      "pclass                            3\n",
      "name           O'Brien, Mr. Timothy\n",
      "sex                            male\n",
      "age                             NaN\n",
      "sibsp                             0\n",
      "parch                             0\n",
      "ticket                       330979\n",
      "fare                         7.8292\n",
      "cabin                           NaN\n",
      "embarked                          Q\n",
      "Name: 552, dtype: object\n",
      "passengerid                                                32\n",
      "survived                                                  1.0\n",
      "pclass                                                      1\n",
      "name           Spencer, Mrs. William Augustus (Marie Eugenie)\n",
      "sex                                                    female\n",
      "age                                                       NaN\n",
      "sibsp                                                       1\n",
      "parch                                                       0\n",
      "ticket                                               PC 17569\n",
      "fare                                                 146.5208\n",
      "cabin                                                     B78\n",
      "embarked                                                    C\n",
      "Name: 31, dtype: object\n",
      "passengerid                             1208\n",
      "survived                                 NaN\n",
      "pclass                                     1\n",
      "name           Spencer, Mr. William Augustus\n",
      "sex                                     male\n",
      "age                                     57.0\n",
      "sibsp                                      1\n",
      "parch                                      0\n",
      "ticket                              PC 17569\n",
      "fare                                146.5208\n",
      "cabin                                    B78\n",
      "embarked                                   C\n",
      "Name: 1207, dtype: object\n",
      "passengerid                     112\n",
      "survived                        0.0\n",
      "pclass                            3\n",
      "name           Zabour, Miss. Hileni\n",
      "sex                          female\n",
      "age                       30.585228\n",
      "sibsp                             1\n",
      "parch                             0\n",
      "ticket                         2665\n",
      "fare                        14.4542\n",
      "cabin                           NaN\n",
      "embarked                          C\n",
      "Name: 111, dtype: object\n",
      "passengerid                      241\n",
      "survived                         0.0\n",
      "pclass                             3\n",
      "name           Zabour, Miss. Thamine\n",
      "sex                           female\n",
      "age                              NaN\n",
      "sibsp                              1\n",
      "parch                              0\n",
      "ticket                          2665\n",
      "fare                         14.4542\n",
      "cabin                            NaN\n",
      "embarked                           C\n",
      "Name: 240, dtype: object\n",
      "passengerid                   6\n",
      "survived                    0.0\n",
      "pclass                        3\n",
      "name           Moran, Mr. James\n",
      "sex                        male\n",
      "age                         NaN\n",
      "sibsp                         0\n",
      "parch                         0\n",
      "ticket                   330877\n",
      "fare                     8.4583\n",
      "cabin                       NaN\n",
      "embarked                      Q\n",
      "Name: 5, dtype: object\n",
      "passengerid                    110\n",
      "survived                       1.0\n",
      "pclass                           3\n",
      "name           Moran, Miss. Bertha\n",
      "sex                         female\n",
      "age                      30.585228\n",
      "sibsp                            1\n",
      "parch                            0\n",
      "ticket                      371110\n",
      "fare                         24.15\n",
      "cabin                          NaN\n",
      "embarked                         Q\n",
      "Name: 109, dtype: object\n",
      "passengerid                    769\n",
      "survived                       0.0\n",
      "pclass                           3\n",
      "name           Moran, Mr. Daniel J\n",
      "sex                           male\n",
      "age                            NaN\n",
      "sibsp                            1\n",
      "parch                            0\n",
      "ticket                      371110\n",
      "fare                         24.15\n",
      "cabin                          NaN\n",
      "embarked                         Q\n",
      "Name: 768, dtype: object\n",
      "passengerid                              177\n",
      "survived                                 0.0\n",
      "pclass                                     3\n",
      "name           Lefebre, Master. Henry Forbes\n",
      "sex                                     male\n",
      "age                                30.585228\n",
      "sibsp                                      3\n",
      "parch                                      1\n",
      "ticket                                  4133\n",
      "fare                                 25.4667\n",
      "cabin                                    NaN\n",
      "embarked                                   S\n",
      "Name: 176, dtype: object\n",
      "passengerid                        230\n",
      "survived                           0.0\n",
      "pclass                               3\n",
      "name           Lefebre, Miss. Mathilde\n",
      "sex                             female\n",
      "age                                NaN\n",
      "sibsp                                3\n",
      "parch                                1\n",
      "ticket                            4133\n",
      "fare                           25.4667\n",
      "cabin                              NaN\n",
      "embarked                             S\n",
      "Name: 229, dtype: object\n",
      "passengerid                   410\n",
      "survived                      0.0\n",
      "pclass                          3\n",
      "name           Lefebre, Miss. Ida\n",
      "sex                        female\n",
      "age                           NaN\n",
      "sibsp                           3\n",
      "parch                           1\n",
      "ticket                       4133\n",
      "fare                      25.4667\n",
      "cabin                         NaN\n",
      "embarked                        S\n",
      "Name: 409, dtype: object\n",
      "passengerid                       486\n",
      "survived                          0.0\n",
      "pclass                              3\n",
      "name           Lefebre, Miss. Jeannie\n",
      "sex                            female\n",
      "age                               NaN\n",
      "sibsp                               3\n",
      "parch                               1\n",
      "ticket                           4133\n",
      "fare                          25.4667\n",
      "cabin                             NaN\n",
      "embarked                            S\n",
      "Name: 485, dtype: object\n",
      "passengerid                             1024\n",
      "survived                                 NaN\n",
      "pclass                                     3\n",
      "name           Lefebre, Mrs. Frank (Frances)\n",
      "sex                                   female\n",
      "age                                      NaN\n",
      "sibsp                                      0\n",
      "parch                                      4\n",
      "ticket                                  4133\n",
      "fare                                 25.4667\n",
      "cabin                                    NaN\n",
      "embarked                                   S\n",
      "Name: 1023, dtype: object\n",
      "passengerid                           160\n",
      "survived                              0.0\n",
      "pclass                                  3\n",
      "name           Sage, Master. Thomas Henry\n",
      "sex                                  male\n",
      "age                             30.585228\n",
      "sibsp                                   8\n",
      "parch                                   2\n",
      "ticket                           CA. 2343\n",
      "fare                                69.55\n",
      "cabin                                 NaN\n",
      "embarked                                S\n",
      "Name: 159, dtype: object\n",
      "passengerid                             181\n",
      "survived                                0.0\n",
      "pclass                                    3\n",
      "name           Sage, Miss. Constance Gladys\n",
      "sex                                  female\n",
      "age                                     NaN\n",
      "sibsp                                     8\n",
      "parch                                     2\n",
      "ticket                             CA. 2343\n",
      "fare                                  69.55\n",
      "cabin                                   NaN\n",
      "embarked                                  S\n",
      "Name: 180, dtype: object\n",
      "passengerid                    202\n",
      "survived                       0.0\n",
      "pclass                           3\n",
      "name           Sage, Mr. Frederick\n",
      "sex                           male\n",
      "age                            NaN\n",
      "sibsp                            8\n",
      "parch                            2\n",
      "ticket                    CA. 2343\n",
      "fare                         69.55\n",
      "cabin                          NaN\n",
      "embarked                         S\n",
      "Name: 201, dtype: object\n",
      "passengerid                         325\n",
      "survived                            0.0\n",
      "pclass                                3\n",
      "name           Sage, Mr. George John Jr\n",
      "sex                                male\n",
      "age                                 NaN\n",
      "sibsp                                 8\n",
      "parch                                 2\n",
      "ticket                         CA. 2343\n",
      "fare                              69.55\n",
      "cabin                               NaN\n",
      "embarked                              S\n",
      "Name: 324, dtype: object\n",
      "passengerid                        793\n",
      "survived                           0.0\n",
      "pclass                               3\n",
      "name           Sage, Miss. Stella Anna\n",
      "sex                             female\n",
      "age                                NaN\n",
      "sibsp                                8\n",
      "parch                                2\n",
      "ticket                        CA. 2343\n",
      "fare                             69.55\n",
      "cabin                              NaN\n",
      "embarked                             S\n",
      "Name: 792, dtype: object\n",
      "passengerid                         847\n",
      "survived                            0.0\n",
      "pclass                                3\n",
      "name           Sage, Mr. Douglas Bullen\n",
      "sex                                male\n",
      "age                                 NaN\n",
      "sibsp                                 8\n",
      "parch                                 2\n",
      "ticket                         CA. 2343\n",
      "fare                              69.55\n",
      "cabin                               NaN\n",
      "embarked                              S\n",
      "Name: 846, dtype: object\n",
      "passengerid                                  864\n",
      "survived                                     0.0\n",
      "pclass                                         3\n",
      "name           Sage, Miss. Dorothy Edith \"Dolly\"\n",
      "sex                                       female\n",
      "age                                          NaN\n",
      "sibsp                                          8\n",
      "parch                                          2\n",
      "ticket                                  CA. 2343\n",
      "fare                                       69.55\n",
      "cabin                                        NaN\n",
      "embarked                                       S\n",
      "Name: 863, dtype: object\n",
      "passengerid               1080\n",
      "survived                   NaN\n",
      "pclass                       3\n",
      "name           Sage, Miss. Ada\n",
      "sex                     female\n",
      "age                        NaN\n",
      "sibsp                        8\n",
      "parch                        2\n",
      "ticket                CA. 2343\n",
      "fare                     69.55\n",
      "cabin                      NaN\n",
      "embarked                     S\n",
      "Name: 1079, dtype: object\n",
      "passengerid                     1234\n",
      "survived                         NaN\n",
      "pclass                             3\n",
      "name           Sage, Mr. John George\n",
      "sex                             male\n",
      "age                              NaN\n",
      "sibsp                              1\n",
      "parch                              9\n",
      "ticket                      CA. 2343\n",
      "fare                           69.55\n",
      "cabin                            NaN\n",
      "embarked                           S\n",
      "Name: 1233, dtype: object\n",
      "passengerid                           1252\n",
      "survived                               NaN\n",
      "pclass                                   3\n",
      "name           Sage, Master. William Henry\n",
      "sex                                   male\n",
      "age                                   14.5\n",
      "sibsp                                    8\n",
      "parch                                    2\n",
      "ticket                            CA. 2343\n",
      "fare                                 69.55\n",
      "cabin                                  NaN\n",
      "embarked                                 S\n",
      "Name: 1251, dtype: object\n",
      "passengerid                              1257\n",
      "survived                                  NaN\n",
      "pclass                                      3\n",
      "name           Sage, Mrs. John (Annie Bullen)\n",
      "sex                                    female\n",
      "age                                       NaN\n",
      "sibsp                                       1\n",
      "parch                                       9\n",
      "ticket                               CA. 2343\n",
      "fare                                    69.55\n",
      "cabin                                     NaN\n",
      "embarked                                    S\n",
      "Name: 1256, dtype: object\n"
     ]
    }
   ],
   "source": [
    "print(df.iloc[803,:]) #laubfer\n",
    "print(df.iloc[995,:])\n",
    "print(df.iloc[1007,:])\n",
    "print(df.iloc[1024,:])\n",
    "print(df.iloc[1223,:])\n",
    "\n",
    "\n",
    "\n",
    "\n",
    "803\n",
    "995\n",
    "1007\n",
    "1024\n",
    "1223\n",
    "\n",
    "print(df.iloc[186,:])# O'brien\n",
    "print(df.iloc[364,:])\n",
    "print(df.iloc[552,:])\n",
    "\n",
    "print(df.iloc[31,:])# zabour - two sisters \n",
    "print(df.iloc[1207,:])\n",
    "\n",
    "\n",
    "\n",
    "print(df.iloc[111,:])# zabour - two sisters \n",
    "print(df.iloc[240,:])\n",
    "\n",
    "\n",
    "\n",
    "print(df.iloc[5,:]) # moran two brothers and another one dont relate to \n",
    "print(df.iloc[109,:])\n",
    "print(df.iloc[768,:])\n",
    "\n",
    "\n",
    "\n",
    "print(df.iloc[176,:]) #laubfer\n",
    "print(df.iloc[229,:])\n",
    "print(df.iloc[409,:])\n",
    "print(df.iloc[485,:])\n",
    "print(df.iloc[1023,:])\n",
    "\n",
    "\n",
    "\n",
    "print(df.iloc[159,:]) # Sage \n",
    "print(df.iloc[180,:])\n",
    "print(df.iloc[201,:])\n",
    "print(df.iloc[324,:])\n",
    "print(df.iloc[792,:])\n",
    "print(df.iloc[846,:])\n",
    "print(df.iloc[863,:])\n",
    "print(df.iloc[1079,:])\n",
    "print(df.iloc[1233,:])\n",
    "print(df.iloc[1251,:])\n",
    "print(df.iloc[1256,:])\n",
    "\n",
    "\n",
    "\n",
    "#print(df.iloc[339,:]) # Johnsnton\n",
    "#print(df.iloc[172,:])\n",
    "#print(df.iloc[302,:])\n",
    "#print(df.iloc[597,:])\n",
    "#print(df.iloc[719,:])\n",
    "#print(df.iloc[869,:])\n",
    "\n",
    "\n",
    "\n",
    "#print(df.iloc[7,:])\n",
    "#print(df.iloc[24,:])\n",
    "#print(df.iloc[374,:])\n",
    "#print(df.iloc[567,:])\n",
    "#print(df.iloc[1280,:])\n"
   ]
  },
  {
   "cell_type": "code",
   "execution_count": 15,
   "id": "07091fbc",
   "metadata": {},
   "outputs": [],
   "source": [
    "#johnston = df_train[df_train[\"ticket\"] == '1601']\n",
    "#johnston"
   ]
  },
  {
   "cell_type": "code",
   "execution_count": 16,
   "id": "8c0268a3",
   "metadata": {},
   "outputs": [
    {
     "name": "stdout",
     "output_type": "stream",
     "text": [
      "passengerid                             340\n",
      "survived                                0.0\n",
      "pclass                                    1\n",
      "name           Blackwell, Mr. Stephen Weart\n",
      "sex                                    male\n",
      "age                                    45.0\n",
      "sibsp                                     0\n",
      "parch                                     0\n",
      "ticket                               113784\n",
      "fare                                   35.5\n",
      "cabin                                     T\n",
      "embarked                                  S\n",
      "Name: 339, dtype: object\n",
      "passengerid                             173\n",
      "survived                                1.0\n",
      "pclass                                    3\n",
      "name           Johnson, Miss. Eleanor Ileen\n",
      "sex                                  female\n",
      "age                               30.585228\n",
      "sibsp                                     1\n",
      "parch                                     1\n",
      "ticket                               347742\n",
      "fare                                11.1333\n",
      "cabin                                   NaN\n",
      "embarked                                  S\n",
      "Name: 172, dtype: object\n",
      "passengerid                                303\n",
      "survived                                   0.0\n",
      "pclass                                       3\n",
      "name           Johnson, Mr. William Cahoone Jr\n",
      "sex                                       male\n",
      "age                                       19.0\n",
      "sibsp                                        0\n",
      "parch                                        0\n",
      "ticket                                    LINE\n",
      "fare                                       0.0\n",
      "cabin                                      NaN\n",
      "embarked                                     S\n",
      "Name: 302, dtype: object\n",
      "passengerid                    598\n",
      "survived                       0.0\n",
      "pclass                           3\n",
      "name           Johnson, Mr. Alfred\n",
      "sex                           male\n",
      "age                           49.0\n",
      "sibsp                            0\n",
      "parch                            0\n",
      "ticket                        LINE\n",
      "fare                           0.0\n",
      "cabin                          NaN\n",
      "embarked                         S\n",
      "Name: 597, dtype: object\n",
      "passengerid                             720\n",
      "survived                                0.0\n",
      "pclass                                    3\n",
      "name           Johnson, Mr. Malkolm Joackim\n",
      "sex                                    male\n",
      "age                                    33.0\n",
      "sibsp                                     0\n",
      "parch                                     0\n",
      "ticket                               347062\n",
      "fare                                  7.775\n",
      "cabin                                   NaN\n",
      "embarked                                  S\n",
      "Name: 719, dtype: object\n",
      "passengerid                                870\n",
      "survived                                   1.0\n",
      "pclass                                       3\n",
      "name           Johnson, Master. Harold Theodor\n",
      "sex                                       male\n",
      "age                                        4.0\n",
      "sibsp                                        1\n",
      "parch                                        1\n",
      "ticket                                  347742\n",
      "fare                                   11.1333\n",
      "cabin                                      NaN\n",
      "embarked                                     S\n",
      "Name: 869, dtype: object\n"
     ]
    }
   ],
   "source": [
    "print(df.iloc[339,:]) # Johnsnton\n",
    "print(df.iloc[172,:])\n",
    "print(df.iloc[302,:])\n",
    "print(df.iloc[597,:])\n",
    "print(df.iloc[719,:])\n",
    "print(df.iloc[869,:])"
   ]
  },
  {
   "cell_type": "code",
   "execution_count": 17,
   "id": "adbbbda9",
   "metadata": {},
   "outputs": [
    {
     "name": "stdout",
     "output_type": "stream",
     "text": [
      "803\n",
      "995\n",
      "1007\n",
      "1024\n",
      "1223\n"
     ]
    }
   ],
   "source": [
    "# find index by names \n",
    "names = list(df['name'])\n",
    "fam_name = [(item.split(',')[0]) for item in names]\n",
    "for i in range(len(fam_name)):\n",
    "    if fam_name[i] == \"Thomas\":\n",
    "        print(i)    "
   ]
  },
  {
   "cell_type": "code",
   "execution_count": 18,
   "id": "fe257d0d",
   "metadata": {},
   "outputs": [],
   "source": [
    "#df_cabin = df_train.sort_values(by=['cabin'],ascending=True)\n",
    "#df_cabin.head(204)"
   ]
  },
  {
   "cell_type": "code",
   "execution_count": 19,
   "id": "37a64914",
   "metadata": {},
   "outputs": [],
   "source": [
    "#df_live = df_train[df_train[\"survived\"] == 1]\n",
    "#df_live.head(10)"
   ]
  },
  {
   "cell_type": "code",
   "execution_count": null,
   "id": "86c08d0f",
   "metadata": {},
   "outputs": [],
   "source": [
    "\n"
   ]
  },
  {
   "cell_type": "code",
   "execution_count": 20,
   "id": "81e728ed",
   "metadata": {},
   "outputs": [],
   "source": [
    "#df_male = df_train[df_train['sex'] == 'male']\n",
    "df_young = df_train[df_train[\"age\"] < 12 ]\n",
    "child_mean = df_young['age'].mean()\n",
    "\n",
    "#df_young.sort_values(by=['age'],ascending=True)\n"
   ]
  },
  {
   "cell_type": "code",
   "execution_count": 21,
   "id": "391eb00a",
   "metadata": {},
   "outputs": [],
   "source": [
    "#sns.barplot(data=df_train, x=\"survived\", y=\"pclass\",  errorbar=\"sd\")\n",
    " #sns.barplot(x=\"pclass\", y=\"age\", hue=\"survived\", data=df_train)"
   ]
  },
  {
   "cell_type": "markdown",
   "id": "c2a1c8c2",
   "metadata": {},
   "source": [
    "## class plot"
   ]
  },
  {
   "cell_type": "code",
   "execution_count": 22,
   "id": "c1cef466",
   "metadata": {},
   "outputs": [
    {
     "data": {
      "text/plain": [
       "<AxesSubplot: xlabel='survived', ylabel='count'>"
      ]
     },
     "execution_count": 22,
     "metadata": {},
     "output_type": "execute_result"
    },
    {
     "data": {
      "image/png": "[encoded data removed]",
      "text/plain": [
       "<Figure size 640x480 with 1 Axes>"
      ]
     },
     "metadata": {},
     "output_type": "display_data"
    }
   ],
   "source": [
    "sns.countplot(data=df_train, x=\"survived\")"
   ]
  },
  {
   "cell_type": "markdown",
   "id": "41d835b4",
   "metadata": {},
   "source": [
    "## fare plot"
   ]
  },
  {
   "cell_type": "code",
   "execution_count": 181,
   "id": "03ff3c52",
   "metadata": {},
   "outputs": [
    {
     "data": {
      "text/plain": [
       "<AxesSubplot: xlabel='survived', ylabel='count'>"
      ]
     },
     "execution_count": 181,
     "metadata": {},
     "output_type": "execute_result"
    },
    {
     "data": {
      "image/png": "[encoded data removed]",
      "text/plain": [
       "<Figure size 640x480 with 1 Axes>"
      ]
     },
     "metadata": {},
     "output_type": "display_data"
    }
   ],
   "source": [
    "# I want to look who survived for fare greater than 100 \n",
    "fare_100 = df_train[df_train[\"fare\"] < 100]\n",
    "sns.countplot(data=fare_100, x=\"survived\")\n"
   ]
  },
  {
   "cell_type": "code",
   "execution_count": 5,
   "id": "699eee5e",
   "metadata": {},
   "outputs": [
    {
     "data": {
      "text/plain": [
       "<AxesSubplot: xlabel='age', ylabel='Count'>"
      ]
     },
     "execution_count": 5,
     "metadata": {},
     "output_type": "execute_result"
    },
    {
     "data": {
      "image/png": "[encoded data removed]",
      "text/plain": [
       "<Figure size 640x480 with 1 Axes>"
      ]
     },
     "metadata": {},
     "output_type": "display_data"
    }
   ],
   "source": [
    "sns.histplot(data=df, x=\"age\", binwidth=3, hue='survived')"
   ]
  },
  {
   "cell_type": "markdown",
   "id": "6f13c332",
   "metadata": {},
   "source": [
    "## age plot"
   ]
  },
  {
   "cell_type": "code",
   "execution_count": 6,
   "id": "f34d0d10",
   "metadata": {},
   "outputs": [
    {
     "data": {
      "text/plain": [
       "<AxesSubplot: xlabel='age', ylabel='Count'>"
      ]
     },
     "execution_count": 6,
     "metadata": {},
     "output_type": "execute_result"
    },
    {
     "data": {
      "image/png": "[encoded data removed]",
      "text/plain": [
       "<Figure size 640x480 with 1 Axes>"
      ]
     },
     "metadata": {},
     "output_type": "display_data"
    }
   ],
   "source": [
    "sns.histplot(data = df_train , x=\"age\", binwidth=1 ,hue='sex')"
   ]
  },
  {
   "cell_type": "code",
   "execution_count": 347,
   "id": "39c2679f",
   "metadata": {},
   "outputs": [
    {
     "data": {
      "text/plain": [
       "<AxesSubplot: xlabel='survived', ylabel='age'>"
      ]
     },
     "execution_count": 347,
     "metadata": {},
     "output_type": "execute_result"
    },
    {
     "data": {
      "image/png": "[encoded data removed]",
      "text/plain": [
       "<Figure size 640x480 with 1 Axes>"
      ]
     },
     "metadata": {},
     "output_type": "display_data"
    }
   ],
   "source": [
    "sns.barplot(data=df, x='survived', y='age', errorbar=\"sd\")"
   ]
  },
  {
   "cell_type": "markdown",
   "id": "effa1136",
   "metadata": {},
   "source": [
    "## sex plot "
   ]
  },
  {
   "cell_type": "code",
   "execution_count": 202,
   "id": "2f8e8bce",
   "metadata": {},
   "outputs": [
    {
     "data": {
      "text/plain": [
       "<AxesSubplot: xlabel='sex', ylabel='count'>"
      ]
     },
     "execution_count": 202,
     "metadata": {},
     "output_type": "execute_result"
    },
    {
     "data": {
      "image/png": "[encoded data removed]",
      "text/plain": [
       "<Figure size 640x480 with 1 Axes>"
      ]
     },
     "metadata": {},
     "output_type": "display_data"
    }
   ],
   "source": [
    "sns.countplot(data=df_train, x=\"sex\", hue='survived')"
   ]
  },
  {
   "cell_type": "markdown",
   "id": "6c5ec86e",
   "metadata": {},
   "source": [
    "## embarkation "
   ]
  },
  {
   "cell_type": "code",
   "execution_count": 255,
   "id": "0dc0c5ae",
   "metadata": {},
   "outputs": [
    {
     "data": {
      "text/plain": [
       "<AxesSubplot: xlabel='embarked', ylabel='count'>"
      ]
     },
     "execution_count": 255,
     "metadata": {},
     "output_type": "execute_result"
    },
    {
     "data": {
      "image/png": "[encoded data removed]",
      "text/plain": [
       "<Figure size 640x480 with 1 Axes>"
      ]
     },
     "metadata": {},
     "output_type": "display_data"
    }
   ],
   "source": [
    "sns.countplot(data=df_train, x=\"embarked\", hue='survived')"
   ]
  },
  {
   "cell_type": "code",
   "execution_count": 50,
   "id": "39cd8fb5",
   "metadata": {},
   "outputs": [
    {
     "data": {
      "text/plain": [
       "<AxesSubplot: xlabel='pclass', ylabel='count'>"
      ]
     },
     "execution_count": 50,
     "metadata": {},
     "output_type": "execute_result"
    },
    {
     "data": {
      "image/png": "[encoded data removed]",
      "text/plain": [
       "<Figure size 640x480 with 1 Axes>"
      ]
     },
     "metadata": {},
     "output_type": "display_data"
    }
   ],
   "source": [
    "sns.countplot(data=df, x=\"pclass\")"
   ]
  },
  {
   "cell_type": "code",
   "execution_count": null,
   "id": "a925abe9",
   "metadata": {},
   "outputs": [],
   "source": []
  }
 ],
 "metadata": {
  "kernelspec": {
   "display_name": "Python 3 (ipykernel)",
   "language": "python",
   "name": "python3"
  },
  "language_info": {
   "codemirror_mode": {
    "name": "ipython",
    "version": 3
   },
   "file_extension": ".py",
   "mimetype": "text/x-python",
   "name": "python",
   "nbconvert_exporter": "python",
   "pygments_lexer": "ipython3",
   "version": "3.8.10"
  }
 },
 "nbformat": 4,
 "nbformat_minor": 5
}
