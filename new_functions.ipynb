{
 "cells": [
  {
   "cell_type": "code",
   "execution_count": null,
   "id": "717ea357",
   "metadata": {},
   "outputs": [],
   "source": [
    "# check accuracy score using feature precintile selection\n",
    "\n",
    "score_means = list()\n",
    "score_stds = list()\n",
    "percentiles = (10, 20, 30 ,40, 50, 60, 70, 80, 90, 100)\n",
    "\n",
    "for percentile in percentiles:\n",
    "    model.set_params(selectpercentile__percentile=percentile)\n",
    "    model = model.fit(x_train, y_train)\n",
    "    this_scores = cross_val_score(model, x_train, y_train)\n",
    "    score_means.append(this_scores.mean())\n",
    "    score_stds.append(this_scores.std())\n",
    "\n",
    "plt.errorbar(percentiles, score_means, np.array(score_stds))\n",
    "plt.title(\"Accuracy as percentile of features selected\")\n",
    "plt.xticks(np.linspace(0, 100, 11, endpoint=True))\n",
    "plt.xlabel(\"Features Percentile\")\n",
    "plt.ylabel(\"Accuracy Score\")\n",
    "plt.axis(\"tight\")\n",
    "plt.show()"
   ]
  },
  {
   "cell_type": "code",
   "execution_count": 4,
   "id": "a1e6b160",
   "metadata": {},
   "outputs": [],
   "source": [
    "def count_plot(df, feature, hue):\n",
    "    \n",
    "    if hue != None :\n",
    "        ax = sns.countplot(x=feature, hue=hue, data=df)\n",
    "        for container in ax.containers:\n",
    "            ax.bar_label(container)\n",
    "\n",
    "    else :\n",
    "        g = sns.catplot(x=feature, data=df, kind='count')\n",
    "        for ax in g.axes.flat:\n",
    "            ax.bar_label(ax.containers[0])\n",
    "    \n"
   ]
  },
  {
   "cell_type": "code",
   "execution_count": 9,
   "id": "a0bc1c3b",
   "metadata": {},
   "outputs": [],
   "source": [
    "def find_best_threshold(y_train, y_train_proba, category):\n",
    "    fpr, tpr, thresholds = roc_curve(y_train, y_train_proba)\n",
    "    if category == 'accuracy' :\n",
    "        accuracy_thr = []\n",
    "        for threshold in thresholds :\n",
    "            y_train_pred = np.where(y_train_proba > threshold ,1,0)\n",
    "            accuracy_thr.append(accuracy_score(y_train, y_train_pred))\n",
    "\n",
    "        ix = np.argmax(accuracy_thr)\n",
    "        best_threshold = thresholds[ix]\n",
    "        best_accuracy = accuracy_thr[ix]\n",
    "        return best_threshold, best_accuracy \n",
    "    \n",
    "    elif category == 'accuracy' :\n",
    "        # calculate the g-mean for each threshold\n",
    "        gmeans = sqrt(tpr * (1-fpr))\n",
    "        ix = argmax(gmeans)\n",
    "        best_threshold = thresholds[ix]\n",
    "        best_gmeans = gmeans[ix]\n",
    "        return best_threshold, best_gmeans"
   ]
  },
  {
   "cell_type": "code",
   "execution_count": null,
   "id": "3508dd8b",
   "metadata": {},
   "outputs": [],
   "source": []
  }
 ],
 "metadata": {
  "kernelspec": {
   "display_name": "Python 3 (ipykernel)",
   "language": "python",
   "name": "python3"
  },
  "language_info": {
   "codemirror_mode": {
    "name": "ipython",
    "version": 3
   },
   "file_extension": ".py",
   "mimetype": "text/x-python",
   "name": "python",
   "nbconvert_exporter": "python",
   "pygments_lexer": "ipython3",
   "version": "3.8.10"
  }
 },
 "nbformat": 4,
 "nbformat_minor": 5
}
