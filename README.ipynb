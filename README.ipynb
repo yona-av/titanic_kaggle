{
 "cells": [
  {
   "cell_type": "markdown",
   "id": "aca932a3",
   "metadata": {},
   "source": [
    "# Titanic Kaggle Competition"
   ]
  },
  {
   "cell_type": "markdown",
   "id": "44fd1e54",
   "metadata": {},
   "source": [
    "This is an undescriptive overview of the process that I followed to get a prediction of the passengers who survived the Titanic disaster using Kaggel's titanic dataset.\n",
    "More on the logic and the reasoning of the steps could be found in the [EDA notebook](https://github.com/yona-av/titanic_kaggle/blob/main/EDA_notebook.ipynb) and the [Project Code](https://github.com/yona-av/titanic_kaggle/blob/main/project_code.ipynb)."
   ]
  },
  {
   "cell_type": "markdown",
   "id": "cf63be1d",
   "metadata": {},
   "source": [
    "## EDA \n",
    "- Recognized missing values in the data set .\n",
    "- Explored survival chances based on sex, age, fare, class, embarkation and familly size.\n"
   ]
  },
  {
   "cell_type": "markdown",
   "id": "4b965a87",
   "metadata": {},
   "source": [
    "## Data processing \n",
    "- Filled Nan values in the needed columns.\n",
    "- Eliminated features that doesn't have a statistical significance.\n",
    "- Encoded the data by it's type, Categorical and Continous.\n",
    "\n"
   ]
  },
  {
   "cell_type": "markdown",
   "id": "1192176f",
   "metadata": {},
   "source": [
    "## ML model\n",
    "- Tried few models to give a prediction : SVC, SGD, Logistic Regression, Random Forest, KNN and XGBoost.\n",
    "- Did fine tuning of hyperparametres on SVC, the classifier that gave the best prediction accuracy on kaggle 0.8.\n",
    "- Retrained the model without the hyperparametres tuning after it gave a worse result 0.79.\n"
   ]
  }
 ],
 "metadata": {
  "kernelspec": {
   "display_name": "Python 3 (ipykernel)",
   "language": "python",
   "name": "python3"
  },
  "language_info": {
   "codemirror_mode": {
    "name": "ipython",
    "version": 3
   },
   "file_extension": ".py",
   "mimetype": "text/x-python",
   "name": "python",
   "nbconvert_exporter": "python",
   "pygments_lexer": "ipython3",
   "version": "3.8.10"
  }
 },
 "nbformat": 4,
 "nbformat_minor": 5
}
