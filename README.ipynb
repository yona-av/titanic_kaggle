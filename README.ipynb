{
 "cells": [
  {
   "cell_type": "markdown",
   "id": "294e7f24",
   "metadata": {},
   "source": [
    "# Titanic Kaggle Competition"
   ]
  },
  {
   "cell_type": "markdown",
   "id": "12556b4b",
   "metadata": {},
   "source": [
    "This is an overview of the process that I followed to get a prediction of the survived passengers of the titanic dataset.\n",
    "More on the logic and the reasoning of the steps could be found in the [EDA notebook]() and the [project code](https://github.com/yona-av/titanic_kaggle/blob/main/project_code.ipynb) "
   ]
  }
 ],
 "metadata": {
  "kernelspec": {
   "display_name": "Python 3 (ipykernel)",
   "language": "python",
   "name": "python3"
  },
  "language_info": {
   "codemirror_mode": {
    "name": "ipython",
    "version": 3
   },
   "file_extension": ".py",
   "mimetype": "text/x-python",
   "name": "python",
   "nbconvert_exporter": "python",
   "pygments_lexer": "ipython3",
   "version": "3.8.10"
  }
 },
 "nbformat": 4,
 "nbformat_minor": 5
}
