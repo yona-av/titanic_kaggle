{
 "cells": [
  {
   "cell_type": "code",
   "execution_count": 1,
   "id": "c2b02b55",
   "metadata": {},
   "outputs": [],
   "source": [
    "# import packages \n",
    "import numpy as np \n",
    "import pandas as pd\n",
    "import matplotlib.pyplot as plt\n",
    "import os \n",
    "import sys\n",
    "import seaborn as sns\n",
    "import scipy as sp\n",
    "%matplotlib inline\n",
    "\n",
    "# import pre-processing modules \n",
    "from scipy import stats\n",
    "from sklearn.model_selection import train_test_split\n",
    "from sklearn.preprocessing import StandardScaler\n",
    "from sklearn.feature_selection import SelectFromModel \n",
    "\n",
    "# import classifiers\n",
    "from sklearn.ensemble import RandomForestClassifier\n",
    "from sklearn.linear_model import LogisticRegression\n",
    "from sklearn.linear_model import SGDClassifier\n",
    "from sklearn.svm import SVC\n",
    "\n",
    "# import evaluation modules\n",
    "from sklearn.model_selection import GridSearchCV\n",
    "from sklearn.model_selection import cross_val_score\n",
    "from sklearn.metrics import accuracy_score\n",
    "from sklearn.metrics import precision_recall_fscore_support\n",
    "from sklearn.metrics import classification_report"
   ]
  },
  {
   "cell_type": "code",
   "execution_count": 70,
   "id": "921e1a11",
   "metadata": {},
   "outputs": [],
   "source": [
    "test_set = pd.read_csv(r\"C:/Users/Yehonatan/PycharmProject/DS/projects/titanic/test.csv\")\n",
    "train_set = pd.read_csv(r\"C:/Users/Yehonatan/PycharmProject/DS/projects/titanic/train.csv\")\n",
    "df_original = pd.concat([train_set,test_set], axis=0)\n"
   ]
  },
  {
   "cell_type": "code",
   "execution_count": 71,
   "id": "f7a8111a",
   "metadata": {},
   "outputs": [],
   "source": [
    "df_train = train_set.copy()\n",
    "df_test = test_set.copy()\n",
    "df = df_original.copy()\n",
    "\n",
    "#df_train.info()\n",
    "#df_test.info()"
   ]
  },
  {
   "cell_type": "code",
   "execution_count": 92,
   "id": "4e726e7f",
   "metadata": {},
   "outputs": [
    {
     "name": "stdout",
     "output_type": "stream",
     "text": [
      "0     0.0\n",
      "1     1.0\n",
      "2     1.0\n",
      "3     1.0\n",
      "4     0.0\n",
      "5     0.0\n",
      "6     0.0\n",
      "7     0.0\n",
      "8     1.0\n",
      "9     1.0\n",
      "10    1.0\n",
      "11    1.0\n",
      "12    0.0\n",
      "13    0.0\n",
      "14    0.0\n",
      "15    1.0\n",
      "16    0.0\n",
      "17    1.0\n",
      "18    0.0\n",
      "19    1.0\n",
      "Name: Survived, dtype: float64\n",
      "PassengerId                           5\n",
      "Survived                            0.0\n",
      "Pclass                                3\n",
      "Name           Allen, Mr. William Henry\n",
      "Sex                                male\n",
      "Age                                35.0\n",
      "SibSp                                 0\n",
      "Parch                                 0\n",
      "Ticket                           373450\n",
      "Fare                               8.05\n",
      "Cabin                               NaN\n",
      "Embarked                              S\n",
      "Name: 4, dtype: object\n",
      "PassengerId                            138\n",
      "Survived                               0.0\n",
      "Pclass                                   1\n",
      "Name           Futrelle, Mr. Jacques Heath\n",
      "Sex                                   male\n",
      "Age                                   37.0\n",
      "SibSp                                    1\n",
      "Parch                                    0\n",
      "Ticket                              113803\n",
      "Fare                                  53.1\n",
      "Cabin                                 C123\n",
      "Embarked                                 S\n",
      "Name: 137, dtype: object\n"
     ]
    },
    {
     "name": "stderr",
     "output_type": "stream",
     "text": [
      "C:\\Users\\Yehonatan\\AppData\\Local\\Temp\\ipykernel_8820\\3000921373.py:1: FutureWarning: The behavior of `series[i:j]` with an integer-dtype index is deprecated. In a future version, this will be treated as *label-based* indexing, consistent with e.g. `series[i]` lookups. To retain the old behavior, use `series.iloc[i:j]`. To get the future behavior, use `series.loc[i:j]`.\n",
      "  print(df['Survived'][:20] )\n"
     ]
    }
   ],
   "source": [
    "\n",
    "print(df['Survived'][:20] )\n",
    "print(df.iloc[4,:])\n",
    "print(df.iloc[137,:])\n",
    "\n",
    "\n",
    "\n",
    "\n",
    "#print(df.iloc[7,:])\n",
    "#print(df.iloc[24,:])\n",
    "#print(df.iloc[374,:])\n",
    "#print(df.iloc[567,:])\n",
    "#print(df.iloc[1280,:])\n"
   ]
  },
  {
   "cell_type": "code",
   "execution_count": 90,
   "id": "adbbbda9",
   "metadata": {},
   "outputs": [
    {
     "name": "stdout",
     "output_type": "stream",
     "text": [
      "3\n",
      "137\n"
     ]
    }
   ],
   "source": [
    "names = list(df['Name'])\n",
    "#print(names)\n",
    "fam_name = [(item.split(',')[0]) for item in names]\n",
    "#print(fam_name)\n",
    "for i in range(len(fam_name)):\n",
    "    if fam_name[i] == 'Futrelle':\n",
    "        print(i)\n",
    "    \n"
   ]
  },
  {
   "cell_type": "code",
   "execution_count": null,
   "id": "fe257d0d",
   "metadata": {},
   "outputs": [],
   "source": []
  }
 ],
 "metadata": {
  "kernelspec": {
   "display_name": "Python 3 (ipykernel)",
   "language": "python",
   "name": "python3"
  },
  "language_info": {
   "codemirror_mode": {
    "name": "ipython",
    "version": 3
   },
   "file_extension": ".py",
   "mimetype": "text/x-python",
   "name": "python",
   "nbconvert_exporter": "python",
   "pygments_lexer": "ipython3",
   "version": "3.8.10"
  }
 },
 "nbformat": 4,
 "nbformat_minor": 5
}
