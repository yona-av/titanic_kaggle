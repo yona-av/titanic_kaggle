{
 "cells": [
  {
   "cell_type": "code",
   "execution_count": 54,
   "id": "04730771",
   "metadata": {},
   "outputs": [],
   "source": [
    "# import packages \n",
    "import numpy as np \n",
    "import pandas as pd\n",
    "import matplotlib.pyplot as plt\n",
    "import os \n",
    "import sys\n",
    "import seaborn as sns\n",
    "import scipy as sp\n",
    "import scipy.stats as stats\n",
    "from scipy.stats import norm\n",
    "import xgboost\n",
    "import re\n",
    "%matplotlib inline\n",
    "\n",
    "\n",
    "# import pre-processing modules \n",
    "from scipy import stats\n",
    "from sklearn.model_selection import train_test_split\n",
    "from sklearn.preprocessing import StandardScaler\n",
    "from sklearn.feature_selection import SelectFromModel \n",
    "from sklearn.compose import make_column_selector as selector\n",
    "from sklearn.preprocessing import OneHotEncoder, StandardScaler\n",
    "from sklearn.compose import ColumnTransformer\n",
    "from sklearn.pipeline import make_pipeline\n",
    "\n",
    "\n",
    "# import classifiers\n",
    "# scale robust\n",
    "from sklearn.ensemble import RandomForestClassifier\n",
    "from sklearn.linear_model import LogisticRegression\n",
    "from sklearn.naive_bayes import GaussianNB\n",
    "from sklearn.ensemble import AdaBoostClassifier\n",
    "from sklearn.ensemble import GradientBoostingClassifier\n",
    "from xgboost import XGBClassifier\n",
    "\n",
    "# scale sensitive\n",
    "from sklearn.linear_model import SGDClassifier\n",
    "from sklearn.svm import SVC\n",
    "from sklearn.neighbors import KNeighborsClassifier\n",
    "from sklearn.svm import LinearSVC\n",
    "\n",
    "# import evaluation modules\n",
    "from sklearn.model_selection import GridSearchCV\n",
    "from sklearn.model_selection import cross_val_score, cross_val_predict\n",
    "from sklearn.metrics import accuracy_score, confusion_matrix, precision_recall_fscore_support, classification_report\n",
    "from sklearn.metrics import  RocCurveDisplay, roc_auc_score, auc, roc_curve, PrecisionRecallDisplay, precision_recall_curve"
   ]
  },
  {
   "cell_type": "code",
   "execution_count": 55,
   "id": "d38ac8c8",
   "metadata": {},
   "outputs": [],
   "source": [
    "test_set = pd.read_csv(r\"C:/Users/Yehonatan/PycharmProject/DS/projects/titanic/ignore/test.csv\")\n",
    "train_set = pd.read_csv(r\"C:/Users/Yehonatan/PycharmProject/DS/projects/titanic/ignore/train.csv\")\n",
    "\n",
    "df_original = pd.concat([train_set,test_set], axis=0, ignore_index=True )\n",
    "df_train = (train_set.copy()).rename(columns=str.lower)\n",
    "df_test = (test_set.copy()).rename(columns=str.lower)\n",
    "\n",
    "df = (df_original.copy()).rename(columns=str.lower)\n"
   ]
  },
  {
   "cell_type": "code",
   "execution_count": 56,
   "id": "de9059f6",
   "metadata": {},
   "outputs": [],
   "source": [
    "# parse title and fam name from df \n",
    "def parse_name(df):\n",
    "    last_name = df['name'].apply(lambda x : x.split(', ')[0])\n",
    "    temp = df['name'].apply(lambda x : x.split(', ')[1])\n",
    "    title = temp.apply(lambda x : x.split('.')[0])\n",
    "    return title, last_name\n",
    "\n",
    "def cat_to_numeric(df):\n",
    "    cat_columns = df.select_dtypes(['object']).columns\n",
    "    df[cat_columns] = df[cat_columns].apply(lambda x: pd.factorize(x)[0])\n",
    "    return df \n",
    "\n",
    "def pvalue_filter(target_df, features_df, alpha): # returns a list of columns that are possible drop, p_val > alpha, corr, pval\n",
    "    features_columns_names = list(features_df)\n",
    "    target_column_name = list(target_df)\n",
    "    features_np = features_df.to_numpy()\n",
    "    target_np = target_df.to_numpy()\n",
    "    drop_index = []\n",
    "    p_val_list =[]\n",
    "    corr_list = []\n",
    "    \n",
    "    for i in range(len(features_columns_names)):\n",
    "        corr, p_val = sp.stats.pearsonr(features_np[:,i], target_np)\n",
    "        corr_list.append(round(corr,3))\n",
    "        if p_val > alpha:           # accept the null hypothesis, no statisitcal significance  \n",
    "            drop_index.append(i)\n",
    "            p_val_list.append(p_val)\n",
    "            \n",
    "    drop_col = [features_columns_names[i] for i in drop_index]\n",
    "    return drop_col, corr_list, p_val_list\n",
    "\n",
    "    \n",
    "def random_age(df,category):\n",
    "    df = df \n",
    "    df_children = df[df[\"age\"] < 15]\n",
    "    \n",
    "    if category == 'boys':\n",
    "        \n",
    "        df_children_boys = df_children[df_children['sex'] == 'male']\n",
    "        mean_boys = round(df_children_boys['age'].mean(),2)\n",
    "        std_boys = round(df_children_boys['age'].std(),2)\n",
    "        low_boys = mean_boys - std_boys\n",
    "        high_boys  =  mean_boys + std_boys\n",
    "        random_age_boys = np.random.uniform(low_boys, high_boys, size=1)\n",
    "        return  random_age_boys\n",
    "    \n",
    "    elif category == 'girls':\n",
    "        \n",
    "        df_children_girls = df_children[df_children['sex'] == 'female']\n",
    "        mean_girls = round(df_children_girls['age'].mean(),2)\n",
    "        std_girls = round(df_children_girls['age'].std(),2)\n",
    "        low_girls = mean_girls - std_girls\n",
    "        high_girls  =  mean_girls + std_girls\n",
    "        random_age_girls = np.random.uniform(low_girls, high_girls, size=1)\n",
    "        return random_age_girls\n",
    "    \n",
    "    elif category == 'male':\n",
    "        \n",
    "        df_male = df[df['sex'] == 'male']\n",
    "        mean_male = round(df_male['age'].mean(),2)\n",
    "        std_male = round(df_male['age'].std(),2)\n",
    "        low_male = mean_male - std_male\n",
    "        high_male =  mean_male + std_male\n",
    "        random_age_male = np.random.uniform(low_male, high_male, size=1)\n",
    "        return  random_age_male\n",
    "    \n",
    "    elif category == 'female':\n",
    "        \n",
    "        df_female = df[df['sex'] == 'female']\n",
    "        mean_female = round(df_female['age'].mean(),2)\n",
    "        std_female = round(df_female['age'].std(),2)\n",
    "        low_female = mean_female - std_female\n",
    "        high_female =  mean_female + std_female\n",
    "        random_age_female = np.random.uniform(low_female, high_female, size=1)\n",
    "        return  random_age_female\n",
    "    \n",
    "    if category == 'children':\n",
    "    \n",
    "        mean_children = round(df_children['age'].mean(),2)\n",
    "        std_children = round(df_children['age'].std(),2)\n",
    "        low_children = mean_children - std_children\n",
    "        high_children  =  mean_children + std_children\n",
    "        random_age_children = np.random.uniform(low_children, high_children, size=1)\n",
    "        return random_age_children\n",
    "    \n",
    "    if category == 'lone_passenger':\n",
    "        \n",
    "        one_comp = df[df['parch'] == 0] \n",
    "        one_comp = one_comp[one_comp['sibsp'] == 1]\n",
    "        one_comp_mean = one_comp['age'].mean()\n",
    "        one_comp_std = one_comp['age'].std()\n",
    "        low_lp = one_comp_mean - one_comp_std\n",
    "        high_lp  =  one_comp_mean + one_comp_std\n",
    "        random_age_lp = np.random.uniform(low_lp, high_lp, size=1)\n",
    "        return random_age_lp\n",
    "    \n",
    "\n",
    "    "
   ]
  },
  {
   "cell_type": "code",
   "execution_count": 57,
   "id": "ef288aee",
   "metadata": {},
   "outputs": [
    {
     "name": "stdout",
     "output_type": "stream",
     "text": [
      "df  age nans 263\n"
     ]
    }
   ],
   "source": [
    "# work on df nan and then concat with original df_train and sort by ID\n",
    "age_nan = df[df['age'].isna()]\n",
    "#age_nan.info()\n",
    "#age_nan = age_nan.sort_values(by=['sex'],ascending=True)\n",
    "#age_nan = age_nan.sort_values(by=['sibsp'],ascending=False).reset_index(drop=True)\n",
    "print('df  age nans',df['age'].isna().sum())\n",
    "\n"
   ]
  },
  {
   "cell_type": "markdown",
   "id": "bd6b8464",
   "metadata": {},
   "source": [
    "## deal with age nans"
   ]
  },
  {
   "cell_type": "code",
   "execution_count": 58,
   "id": "acc5daee",
   "metadata": {},
   "outputs": [
    {
     "name": "stdout",
     "output_type": "stream",
     "text": [
      "df  age nans1 255\n",
      "df  age nans2 56\n",
      "df  age nans3 29\n"
     ]
    }
   ],
   "source": [
    "###### Deal with masters  ############################################\n",
    "title, last_name = parse_name(age_nan)\n",
    "title = title[title == 'Master']\n",
    "master_index = title.index.to_numpy()\n",
    "\n",
    "for i in master_index:\n",
    "    df.at[i,'age'] = random_age(df, 'boys') \n",
    "\n",
    "age_nan = df[df['age'].isna()] # update the age_nan\n",
    "print('df  age nans1',df['age'].isna().sum())\n",
    "\n",
    "####### DEAL  with lone passengers ############################################\n",
    "\n",
    "l_p_t = age_nan[age_nan['sibsp'] == 0]\n",
    "lone_pass = l_p_t[l_p_t['parch'] == 0] # passengers who travel alone and cant determine their age by relatives\n",
    "\n",
    "lone_pass_male = lone_pass[lone_pass['sex'] == 'male']\n",
    "lone_pass_female = lone_pass[lone_pass['sex'] == 'female']\n",
    "\n",
    "l_p_m_index = (lone_pass_male.index).to_numpy()\n",
    "l_p_f_index = (lone_pass_female.index).to_numpy()\n",
    "\n",
    "for m in l_p_m_index:\n",
    "    df.at[m,'age'] = random_age(df, 'male') \n",
    "    \n",
    "for f in l_p_f_index:\n",
    "    df.at[f,'age'] = random_age(df, 'female') \n",
    "\n",
    "age_nan = df[df['age'].isna()] # update the age_nan\n",
    "print('df  age nans2',df['age'].isna().sum())\n",
    "\n",
    "\n",
    "########## ONE companion ############################################################\n",
    "# one companion in nan df # assign the age of the companion tot the nan \n",
    "one_comp_nan = age_nan[age_nan['parch'] == 0] \n",
    "one_comp_nan = one_comp_nan[one_comp_nan['sibsp'] == 1]\n",
    "title_ocn, last_name_ocn = parse_name(one_comp_nan)\n",
    "ocn_index = (title_ocn.index).to_numpy()\n",
    "\n",
    "\n",
    "one_comp = df[df['parch'] == 0] # one companion in general df may contain istself. but some companions are both nan in age\n",
    "one_comp = one_comp[one_comp['sibsp'] == 1]\n",
    "#one_comp = one_comp[~one_comp['age'].isna()]\n",
    "title_oc, last_name_oc = parse_name(one_comp)\n",
    "oc_index = (title_oc.index).to_numpy()\n",
    "\n",
    "for l in range(len(one_comp_nan)):\n",
    "    for i in range(len(one_comp)):\n",
    "        \n",
    "        if (list(last_name_ocn)[l] == list(last_name_oc)[i] and ocn_index[l] != oc_index[i]): #ensures same last name and not same person\n",
    "            \n",
    "            if df.at[oc_index[i],'age'] != float('nan'): #if the companion has an age\n",
    "                df.at[ocn_index[l],'age'] =  df.at[oc_index[i],'age'] \n",
    "            \n",
    "            if list(title_ocn)[l] == 'Mrs' : # she and her husbnad are adults and get the adult random age\n",
    "                df.at[ocn_index[l],'age'] = random_age(df, 'female') \n",
    "                df.at[oc_index[i],'age'] = random_age(df, 'male') \n",
    "            \n",
    "            # she is a miss and I assume that travels with a sibling so get girls random age\n",
    "             \n",
    "            if list(title_ocn)[l] == 'Miss': \n",
    "                df.at[ocn_index[l],'age'] = random_age(df, 'lone_passenger') \n",
    "                df.at[oc_index[i],'age'] = random_age(df, 'lone_passenger') \n",
    "            \n",
    "            if list(title_ocn)[l] == 'Mr' and list(title_oc)[i] != 'Mrs':\n",
    "                df.at[ocn_index[l],'age'] = random_age(df, 'lone_passenger') \n",
    "                df.at[oc_index[i],'age'] = random_age(df, 'lone_passenger')  \n",
    "\n",
    "\n",
    "age_nan = df[df['age'].isna()] # update the age_nan\n",
    "print('df  age nans3',df['age'].isna().sum())\n",
    "\n",
    "# notice there are only two famillies with 3 siblings travelling together I assume they are all young <15.\n",
    "three_siblings = age_nan[age_nan['parch'] == 0] \n",
    "three_siblings = three_siblings[three_siblings['sibsp'] == 2]\n",
    "index_temp = three_siblings.index.to_numpy()\n",
    "for i in index_temp:\n",
    "    df.at[i,'age'] = random_age(df, 'children') \n",
    "\n",
    "age_nan = df[df['age'].isna()] # update the age_nan\n",
    "\n",
    "########### Hand fill age nans #######################################################\n",
    "\n",
    "\n",
    "# hand fill, thought it will be quicker than thinking about an algo  \n",
    "#parents\n",
    "df.at[1233, 'age'] = random_age(df, 'male') \n",
    "df.at[1256, 'age'] = random_age(df, 'female') \n",
    "#kids\n",
    "sages = df[df['ticket'] == 'CA. 2343']\n",
    "sages = sages[sages['age'].isna()]\n",
    "\n",
    "index_temp = sages.index.to_numpy()\n",
    "for i in index_temp:\n",
    "    df.at[i,'age'] = random_age(df, 'children')\n",
    "age_nan = df[df['age'].isna()] # update the age_nan\n",
    "\n",
    "df.at[1023, 'age'] = random_age(df, 'female')\n",
    "lebfre = df[df['ticket'] == '4133']\n",
    "lebfre = lebfre[lebfre['age'].isna()]\n",
    "index_temp = lebfre.index.to_numpy()\n",
    "\n",
    "for i in index_temp:\n",
    "    df.at[i,'age'] = random_age(df, 'children')\n",
    "age_nan = df[df['age'].isna()] # update the age_nan\n",
    "\n",
    "#jhonston\n",
    "#parents\n",
    "df.at[783, 'age'] = random_age(df, 'male')\n",
    "df.at[924, 'age'] = random_age(df, 'female')\n",
    "df.at[888,'age'] = random_age(df, 'children')\n",
    "age_nan = df[df['age'].isna()] # update the age_nan\n",
    "\n",
    "df.at[1024, 'age'] = random_age(df, 'male') # has no sibsp as I looked\n",
    "df.at[128, 'age'] = random_age(df, 'children')\n",
    "df.at[593, 'age'] = random_age(df, 'children')\n",
    "#index = [166,533,593,1116,140]\n",
    "df.at[166, 'age'] = random_age(df, 'female')\n",
    "df.at[533, 'age'] = random_age(df, 'female')\n",
    "df.at[593, 'age'] = random_age(df, 'female')\n",
    "df.at[1116, 'age'] = random_age(df, 'female')\n",
    "df.at[140, 'age'] = random_age(df, 'female')\n",
    "age_nan = df[df['age'].isna()] # update the age_nan\n"
   ]
  },
  {
   "cell_type": "code",
   "execution_count": 59,
   "id": "a4223954",
   "metadata": {},
   "outputs": [
    {
     "name": "stdout",
     "output_type": "stream",
     "text": [
      "df  cabin nans 1014\n",
      "df cabin nans updated 998\n",
      "df cabin nans updated 981\n",
      "df cabin nans updated 0\n"
     ]
    }
   ],
   "source": [
    "# deal with cabin nan by comparing the ticket number \n",
    "# small number of nans but I know for certain that they get the correct cabin\n",
    "df['relatives'] = df['parch'] + df['sibsp'] # for later use \n",
    "\n",
    "cabin = df[~df['cabin'].isna()]\n",
    "cabin_nan =  df[df['cabin'].isna()]\n",
    "print('df  cabin nans',df['cabin'].isna().sum())\n",
    "\n",
    "for t in range(len(cabin['ticket'])):\n",
    "    for n in range(len(cabin_nan['ticket'])):\n",
    "        if cabin['ticket'].iloc[t] == cabin_nan['ticket'].iloc[n] :\n",
    "           \n",
    "            index = cabin['passengerid'].iloc[t] - 1    \n",
    "            index_nan = cabin_nan['passengerid'].iloc[n] - 1 \n",
    "            if index != index_nan:\n",
    "\n",
    "                # update the value of cabin_nan in the df\n",
    "                df.at[index_nan,'cabin'] = df.at[index,'cabin']\n",
    "\n",
    "\n",
    "\n",
    "cabin_nan =  df[df['cabin'].isna()] # update cabin_nan\n",
    "print('df cabin nans updated',len(cabin_nan))    \n",
    "\n",
    "\n",
    "# handle single men and single women in seconde and thied class \n",
    "\n",
    "s_t_class_cabin = cabin[cabin['pclass'] != 1] \n",
    "single_temp = s_t_class_cabin[s_t_class_cabin['sibsp'] == 0]\n",
    "single_cabin = single_temp[single_temp['parch'] == 0]\n",
    "\n",
    "s_t_class_cabin_female = single_cabin[single_cabin['sex'] == 'female'] # single 2 3 class female\n",
    "\n",
    "s_t_class_cabin_nan = cabin_nan[cabin_nan['pclass'] != 1]\n",
    "single_temp = s_t_class_cabin_nan[s_t_class_cabin_nan['sibsp'] == 0]\n",
    "single_cabin_nan = single_temp[single_temp['parch'] == 0]\n",
    "\n",
    "\n",
    "s_t_class_cabin_nan_female = single_cabin_nan[single_cabin_nan['sex'] == 'female']\n",
    "\n",
    "# deal with female. compare fare  \n",
    "#why separated - coz generlizing the cabin nan in male might be different   \n",
    "\n",
    "for t in range(len(s_t_class_cabin_female)):\n",
    "    for n in range(len(s_t_class_cabin_nan_female)):\n",
    "        if s_t_class_cabin_female['fare'].iloc[t] == s_t_class_cabin_nan_female['fare'].iloc[n] :\n",
    "            \n",
    "            pclass_cabin = s_t_class_cabin_female['pclass'].iloc[t]              \n",
    "            pclass_cabin_nan = s_t_class_cabin_nan_female['pclass'].iloc[n]\n",
    "            index = s_t_class_cabin_female['passengerid'].iloc[t] - 1    \n",
    "            index_nan = s_t_class_cabin_nan_female['passengerid'].iloc[n] - 1 \n",
    "            \n",
    "            if index != index_nan and pclass_cabin == pclass_cabin_nan : # make sure the deduction about cabin doesnt cross pclass\n",
    "\n",
    "                df.at[index_nan,'cabin'] = df.at[index,'cabin'] # update the value of cabin_nan in the df\n",
    "\n",
    "cabin_nan =  df[df['cabin'].isna()] \n",
    "print('df cabin nans updated',len(cabin_nan))    \n",
    "\n",
    "# deal with the rest by single and non single \n",
    "\n",
    "for p in range(len(cabin_nan)):\n",
    "    \n",
    "    if cabin_nan['relatives'].iloc[p] != 0: # non singles\n",
    "        #print('nonsingle')\n",
    "        # third class\n",
    "        if cabin_nan['pclass'].iloc[p] == 3 and cabin_nan['sex'].iloc[p] == 'male':\n",
    "            index = cabin_nan['passengerid'].iloc[p] - 1\n",
    "            prob = np.random.randint(low=1, high=101, size=1, dtype=int)[0]\n",
    "            if prob <= 17:\n",
    "                df.at[index,'cabin'] = 'l'\n",
    "            elif prob > 17:\n",
    "                    df.at[index,'cabin'] = 'm'\n",
    "\n",
    "        if cabin_nan['pclass'].iloc[p] == 3 and cabin_nan['sex'].iloc[p] == 'female':\n",
    "            index = cabin_nan['passengerid'].iloc[p] - 1\n",
    "            prob = np.random.randint(low=1, high=101, size=1, dtype=int)[0]\n",
    "            if prob < 40:\n",
    "                df.at[index,'cabin'] = 'l'\n",
    "            elif prob >= 40:\n",
    "                    df.at[index,'cabin'] = 'm'\n",
    "\n",
    "        # second class\n",
    "        if cabin_nan['pclass'].iloc[p] == 2 and cabin_nan['sex'].iloc[p] == 'male':\n",
    "            index = cabin_nan['passengerid'].iloc[p] - 1\n",
    "            prob = np.random.randint(low=1, high=101, size=1, dtype=int)[0]\n",
    "            if prob <= 22:\n",
    "                df.at[index,'cabin'] = 'l'\n",
    "            elif prob > 22:\n",
    "                    df.at[index,'cabin'] = 'm'\n",
    "\n",
    "        if cabin_nan['pclass'].iloc[p] == 2 and cabin_nan['sex'].iloc[p] == 'female':\n",
    "            index = cabin_nan['passengerid'].iloc[p] - 1\n",
    "            prob = np.random.randint(low=1, high=101, size=1, dtype=int)[0]\n",
    "            if prob <= 93:\n",
    "                df.at[index,'cabin'] = 'l'\n",
    "            elif prob > 93:\n",
    "                    df.at[index,'cabin'] = 'm'\n",
    "\n",
    "        # first class\n",
    "        if cabin_nan['pclass'].iloc[p] == 1 and cabin_nan['sex'].iloc[p] == 'male':\n",
    "            index = cabin_nan['passengerid'].iloc[p] - 1\n",
    "            prob = np.random.randint(low=1, high=101, size=1, dtype=int)[0]\n",
    "            if prob <= 25:\n",
    "                df.at[index,'cabin'] = 'l'\n",
    "            elif prob > 25:\n",
    "                    df.at[index,'cabin'] = 'm'\n",
    "\n",
    "        if cabin_nan['pclass'].iloc[p] == 1 and cabin_nan['sex'].iloc[p] == 'female':\n",
    "            index = cabin_nan['passengerid'].iloc[p] - 1\n",
    "            df.at[index,'cabin'] = 'l'\n",
    "            \n",
    "    \n",
    "    elif cabin_nan['relatives'].iloc[p] == 0: # singles\n",
    "        #print('single')\n",
    "        # third class\n",
    "        if cabin_nan['pclass'].iloc[p] == 3 and cabin_nan['sex'].iloc[p] == 'male':\n",
    "            index = cabin_nan['passengerid'].iloc[p] - 1\n",
    "            prob = np.random.randint(low=1, high=101, size=1, dtype=int)[0]\n",
    "            if prob <= 12:\n",
    "                df.at[index,'cabin'] = 'l'\n",
    "            elif prob > 12:\n",
    "                    df.at[index,'cabin'] = 'm'\n",
    "\n",
    "        if cabin_nan['pclass'].iloc[p] == 3 and cabin_nan['sex'].iloc[p] == 'female':\n",
    "            index = cabin_nan['passengerid'].iloc[p] - 1\n",
    "            prob = np.random.randint(low=1, high=101, size=1, dtype=int)[0]\n",
    "            if prob <= 60:\n",
    "                df.at[index,'cabin'] = 'l'\n",
    "            elif prob > 60:\n",
    "                    df.at[index,'cabin'] = 'm'\n",
    "\n",
    "        # second class\n",
    "        if cabin_nan['pclass'].iloc[p] == 2 and cabin_nan['sex'].iloc[p] == 'male':\n",
    "            index = cabin_nan['passengerid'].iloc[p] - 1\n",
    "            prob = np.random.randint(low=1, high=101, size=1, dtype=int)[0]\n",
    "            if prob <= 9:\n",
    "                df.at[index,'cabin'] = 'l'\n",
    "            elif prob > 9:\n",
    "                    df.at[index,'cabin'] = 'm'\n",
    "\n",
    "        if cabin_nan['pclass'].iloc[p] == 2 and cabin_nan['sex'].iloc[p] == 'female':\n",
    "            index = cabin_nan['passengerid'].iloc[p] - 1\n",
    "            prob = np.random.randint(low=1, high=101, size=1, dtype=int)[0]\n",
    "            if prob <= 91:\n",
    "                df.at[index,'cabin'] = 'l'\n",
    "            elif prob > 91:\n",
    "                    df.at[index,'cabin'] = 'm'\n",
    "\n",
    "        # first class\n",
    "        if cabin_nan['pclass'].iloc[p] == 1 and cabin_nan['sex'].iloc[p] == 'male':\n",
    "            index = cabin_nan['passengerid'].iloc[p] - 1\n",
    "            prob = np.random.randint(low=1, high=101, size=1, dtype=int)[0]\n",
    "            if prob <= 22:\n",
    "                df.at[index,'cabin'] = 'l'\n",
    "            elif prob > 22:\n",
    "                    df.at[index,'cabin'] = 'm'\n",
    "\n",
    "        if cabin_nan['pclass'].iloc[p] == 1 and cabin_nan['sex'].iloc[p] == 'female':\n",
    "            index = cabin_nan['passengerid'].iloc[p] - 1\n",
    "            df.at[index,'cabin'] = 'l'\n",
    "        \n",
    "        \n",
    "cabin_nan =  df[df['cabin'].isna()] # update cabin_nan\n",
    "print('df cabin nans updated',len(cabin_nan)) "
   ]
  },
  {
   "cell_type": "markdown",
   "id": "8d36061d",
   "metadata": {},
   "source": [
    "## other nans"
   ]
  },
  {
   "cell_type": "code",
   "execution_count": 60,
   "id": "56607182",
   "metadata": {},
   "outputs": [],
   "source": [
    "\n",
    "# fill fare nan as the average of 3 class . \n",
    "\n",
    "t_class = df[df['pclass'] == 3]\n",
    "t_class_mean = t_class['fare'].mean()\n",
    "df.at[1043, 'fare'] = t_class_mean\n",
    "\n",
    "# fill nan embarked to be an class of itself\n",
    "df.at[61, 'embarked'] = 'M'\n",
    "df.at[829, 'embarked'] = 'M'\n",
    "\n"
   ]
  },
  {
   "cell_type": "markdown",
   "id": "6c3c2ad7",
   "metadata": {},
   "source": [
    "# feature engineering "
   ]
  },
  {
   "cell_type": "code",
   "execution_count": 61,
   "id": "5547ccb0",
   "metadata": {},
   "outputs": [],
   "source": [
    "# eliminate low count frequency\n",
    "df['cabin_frequency'] = df.groupby('cabin')['cabin'].transform('count')\n",
    "# all the cabins that have freq less than 3 \n",
    "for i in range(len(df)):\n",
    "    if df['cabin_frequency'].iloc[i] < 3:\n",
    "        new_cabin = list(df['cabin'].iloc[i])[0]\n",
    "        df.at[i,'cabin'] = new_cabin\n"
   ]
  },
  {
   "cell_type": "code",
   "execution_count": 62,
   "id": "f53e4b34",
   "metadata": {},
   "outputs": [],
   "source": [
    "title, last_name = parse_name(df) # parse names and fill name as last name to categorize it \n",
    "df['name'] = last_name \n",
    "# df['cabin'] = df['cabin'].fillna(5) # all the nans in cabin are a caegory 5 \n",
    "df = cat_to_numeric(df)\n",
    "\n",
    "survived = df['survived']\n",
    "passenger_id = df['passengerid'].values\n"
   ]
  },
  {
   "cell_type": "code",
   "execution_count": 63,
   "id": "ec614e6e",
   "metadata": {},
   "outputs": [
    {
     "data": {
      "text/plain": [
       "survived           1.000000\n",
       "sex                0.543351\n",
       "fare               0.257307\n",
       "cabin              0.200899\n",
       "embarked           0.118026\n",
       "parch              0.081629\n",
       "name               0.017314\n",
       "relatives          0.016639\n",
       "passengerid       -0.005007\n",
       "sibsp             -0.035322\n",
       "ticket            -0.047298\n",
       "age               -0.053764\n",
       "pclass            -0.338481\n",
       "cabin_frequency   -0.456148\n",
       "Name: survived, dtype: float64"
      ]
     },
     "execution_count": 63,
     "metadata": {},
     "output_type": "execute_result"
    }
   ],
   "source": [
    "corr_mat = df.corr()\n",
    "corr_mat['survived'].sort_values(ascending=False)"
   ]
  },
  {
   "cell_type": "code",
   "execution_count": 64,
   "id": "29623f24",
   "metadata": {},
   "outputs": [],
   "source": [
    "#df = df.drop(columns=['cabin', 'name', 'ticket']) # for now drop cabin"
   ]
  },
  {
   "cell_type": "code",
   "execution_count": 65,
   "id": "07d2659e",
   "metadata": {},
   "outputs": [],
   "source": [
    "df = df.drop(columns=['survived','passengerid','name', 'sibsp', 'ticket','cabin']) \n",
    "# 'name', 'sibsp', 'ticket' dropped those columns logic in unstandradized models file p value filter  "
   ]
  },
  {
   "cell_type": "markdown",
   "id": "850fcf0e",
   "metadata": {},
   "source": [
    "# scaling"
   ]
  },
  {
   "cell_type": "code",
   "execution_count": 66,
   "id": "c1389909",
   "metadata": {},
   "outputs": [],
   "source": [
    "\n",
    "numerical_columns_selector = selector(dtype_exclude=int)\n",
    "categorical_columns_selector = selector(dtype_include=int)\n",
    "\n",
    "numerical_columns = numerical_columns_selector(df)\n",
    "categorical_columns = categorical_columns_selector(df)"
   ]
  },
  {
   "cell_type": "code",
   "execution_count": 67,
   "id": "bf0d7d53",
   "metadata": {},
   "outputs": [
    {
     "name": "stdout",
     "output_type": "stream",
     "text": [
      "['age', 'fare']\n",
      "['pclass', 'sex', 'parch', 'embarked', 'relatives', 'cabin_frequency']\n"
     ]
    }
   ],
   "source": [
    "print(numerical_columns)\n",
    "print(categorical_columns)"
   ]
  },
  {
   "cell_type": "code",
   "execution_count": 68,
   "id": "2b7fb511",
   "metadata": {},
   "outputs": [],
   "source": [
    "categorical_preprocessor = OneHotEncoder(handle_unknown=\"ignore\")\n",
    "numerical_preprocessor = StandardScaler()"
   ]
  },
  {
   "cell_type": "code",
   "execution_count": 69,
   "id": "7d245683",
   "metadata": {},
   "outputs": [],
   "source": [
    "preprocessor = ColumnTransformer([\n",
    "    ('one-hot-encoder', categorical_preprocessor, categorical_columns),\n",
    "    ('standard_scaler', numerical_preprocessor, numerical_columns)])"
   ]
  },
  {
   "cell_type": "code",
   "execution_count": 70,
   "id": "93f5d896",
   "metadata": {},
   "outputs": [],
   "source": [
    "model = make_pipeline(preprocessor, SVC(kernel='rbf') )"
   ]
  },
  {
   "cell_type": "code",
   "execution_count": 71,
   "id": "31bc9aaa",
   "metadata": {},
   "outputs": [],
   "source": [
    "# divide back into train test sets \n",
    "df_train = df.iloc[:890,:]\n",
    "df_test = df.iloc[891:,:]\n",
    "\n",
    "x_train = df_train\n",
    "y_train = survived.iloc[:890]\n",
    "\n",
    "\n",
    "x_test = df_test\n",
    "y_test = survived.iloc[891:]"
   ]
  },
  {
   "cell_type": "code",
   "execution_count": 72,
   "id": "4af8ddde",
   "metadata": {},
   "outputs": [],
   "source": [
    "model = model.fit(x_train, y_train)\n",
    "y_train_pred = model.predict(x_train)"
   ]
  },
  {
   "cell_type": "markdown",
   "id": "92f3391a",
   "metadata": {},
   "source": [
    "# models"
   ]
  },
  {
   "cell_type": "code",
   "execution_count": 73,
   "id": "7637112d",
   "metadata": {},
   "outputs": [],
   "source": [
    "# # rf\n",
    "# clf = LogisticRegression(random_state=9, max_iter=500, solver = 'newton-cg') \n",
    "# clf = SGDClassifier(max_iter=1000, tol=1e-3)\n",
    "# clf = SVC(kernel='poly')\n",
    "# clf = KNeighborsClassifier()\n",
    "# clf = GradientBoostingClassifier(n_estimators=40, learning_rate=0.2,max_depth=2, random_state=0)\n",
    "# clf = LinearSVC(random_state=0, tol=1e-5)"
   ]
  },
  {
   "cell_type": "code",
   "execution_count": 74,
   "id": "cc8fcef7",
   "metadata": {},
   "outputs": [
    {
     "name": "stdout",
     "output_type": "stream",
     "text": [
      "accuracy : 0.842\n",
      "precision : 0.838\n",
      "recall : 0.728\n",
      "f_score : 0.779\n"
     ]
    }
   ],
   "source": [
    "precision, recall, f_1, support = precision_recall_fscore_support(y_train, y_train_pred, average='binary')\n",
    "accuracy = accuracy_score(y_train, y_train_pred)\n",
    "print('accuracy :', np.round(accuracy,3))\n",
    "print('precision :', np.round(precision,3))\n",
    "print('recall :', np.round(recall,3))\n",
    "print('f_score :', np.round(f_1,3))"
   ]
  },
  {
   "cell_type": "code",
   "execution_count": 75,
   "id": "ee19c12d",
   "metadata": {},
   "outputs": [
    {
     "name": "stdout",
     "output_type": "stream",
     "text": [
      "cv_avg_accuracy : 0.812\n",
      "cv_avg_precision 0.799\n",
      "cv_avg_recall 0.69\n",
      "cv_avg_fscore : 0.738\n"
     ]
    }
   ],
   "source": [
    "cv_5_accuracy = cross_val_score(model, x_train , y_train, cv=5, scoring='accuracy')\n",
    "cv_5_precision = cross_val_score(model, x_train , y_train, cv=5, scoring='precision')\n",
    "cv_5_recall = cross_val_score(model, x_train , y_train, cv=5, scoring='recall')\n",
    "cv_5_f1 = cross_val_score(model, x_train , y_train, cv=5, scoring='f1')\n",
    "\n",
    "print('cv_avg_accuracy :', np.round(cv_5_accuracy.mean(),3))\n",
    "print('cv_avg_precision', np.round(cv_5_precision.mean(),3))\n",
    "print('cv_avg_recall', np.round(cv_5_recall.mean(),3))\n",
    "print('cv_avg_fscore :', np.round(cv_5_f1.mean(),3))"
   ]
  },
  {
   "cell_type": "code",
   "execution_count": 76,
   "id": "549af6f9",
   "metadata": {},
   "outputs": [
    {
     "name": "stdout",
     "output_type": "stream",
     "text": [
      "[[489  59]\n",
      " [ 99 243]]\n",
      "              precision    recall  f1-score   support\n",
      "\n",
      "         0.0       0.83      0.89      0.86       548\n",
      "         1.0       0.80      0.71      0.75       342\n",
      "\n",
      "    accuracy                           0.82       890\n",
      "   macro avg       0.82      0.80      0.81       890\n",
      "weighted avg       0.82      0.82      0.82       890\n",
      "\n"
     ]
    }
   ],
   "source": [
    "y_pred = cross_val_predict(model, x_train, y_train, cv=3)\n",
    "cnf_mx = confusion_matrix(y_train, y_pred)\n",
    "print(cnf_mx)\n",
    "print(classification_report(y_train, y_pred))  "
   ]
  },
  {
   "cell_type": "code",
   "execution_count": 77,
   "id": "137128e4",
   "metadata": {},
   "outputs": [
    {
     "data": {
      "text/plain": [
       "(-2.0, 2.0)"
      ]
     },
     "execution_count": 77,
     "metadata": {},
     "output_type": "execute_result"
    },
    {
     "data": {
      "image/png": "[encoded data removed]",
      "text/plain": [
       "<Figure size 640x480 with 1 Axes>"
      ]
     },
     "metadata": {},
     "output_type": "display_data"
    }
   ],
   "source": [
    "y_pred = cross_val_predict(model, x_train, y_train, cv=3, method = 'decision_function')\n",
    "precisions, recalls, thresholds_2 = precision_recall_curve(y_train, y_pred)\n",
    "plt.plot(thresholds_2, precisions[:-1], 'b--', label='Precision')\n",
    "plt.plot(thresholds_2, recalls[:-1], 'g-', label='Recall')\n",
    "plt.xlabel('Threshold')\n",
    "plt.legend(loc=('lower left'))\n",
    "plt.xlim([-2,2])"
   ]
  },
  {
   "cell_type": "code",
   "execution_count": 78,
   "id": "45b1f63d",
   "metadata": {},
   "outputs": [
    {
     "data": {
      "text/plain": [
       "Text(0, 0.5, 'Precision')"
      ]
     },
     "execution_count": 78,
     "metadata": {},
     "output_type": "execute_result"
    },
    {
     "data": {
      "image/png": "[encoded data removed]",
      "text/plain": [
       "<Figure size 640x480 with 1 Axes>"
      ]
     },
     "metadata": {},
     "output_type": "display_data"
    }
   ],
   "source": [
    "plt.plot(recalls[:-1], precisions[:-1], 'b--')\n",
    "plt.xlabel('Recall')\n",
    "plt.ylabel('Precision')\n"
   ]
  },
  {
   "cell_type": "code",
   "execution_count": 79,
   "id": "551c5e33",
   "metadata": {},
   "outputs": [
    {
     "data": {
      "image/png": "[encoded data removed]",
      "text/plain": [
       "<Figure size 640x480 with 1 Axes>"
      ]
     },
     "metadata": {},
     "output_type": "display_data"
    }
   ],
   "source": [
    "fpr, tpr, thresholds_1 = roc_curve(y_train, y_pred)\n",
    "roc_auc = auc(fpr, tpr)\n",
    "display = RocCurveDisplay(fpr=fpr, tpr=tpr, roc_auc=roc_auc)\n",
    "display.plot()\n",
    "plt.show()\n",
    "                                 "
   ]
  },
  {
   "cell_type": "markdown",
   "id": "6445bcab",
   "metadata": {},
   "source": [
    "# test"
   ]
  },
  {
   "cell_type": "code",
   "execution_count": 80,
   "id": "da16b39e",
   "metadata": {},
   "outputs": [],
   "source": [
    "y_test_pred = model.predict(x_test)\n",
    "y_test_pred = y_test_pred.astype(int)"
   ]
  },
  {
   "cell_type": "code",
   "execution_count": 81,
   "id": "5af55a22",
   "metadata": {},
   "outputs": [],
   "source": [
    "\n",
    "submission_df = pd.DataFrame({'Passengerid': passenger_id[891:], 'Survived': y_test_pred})\n",
    "submission_df.to_csv('titanic_pred_39.csv', index = False)\n"
   ]
  },
  {
   "cell_type": "code",
   "execution_count": null,
   "id": "e0e353f7",
   "metadata": {},
   "outputs": [],
   "source": []
  }
 ],
 "metadata": {
  "kernelspec": {
   "display_name": "Python 3 (ipykernel)",
   "language": "python",
   "name": "python3"
  },
  "language_info": {
   "codemirror_mode": {
    "name": "ipython",
    "version": 3
   },
   "file_extension": ".py",
   "mimetype": "text/x-python",
   "name": "python",
   "nbconvert_exporter": "python",
   "pygments_lexer": "ipython3",
   "version": "3.8.10"
  }
 },
 "nbformat": 4,
 "nbformat_minor": 5
}
