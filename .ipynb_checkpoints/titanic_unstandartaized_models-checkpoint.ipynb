{
 "cells": [
  {
   "cell_type": "code",
   "execution_count": 557,
   "id": "35d4884c",
   "metadata": {},
   "outputs": [],
   "source": [
    "# import packages \n",
    "import numpy as np \n",
    "import pandas as pd\n",
    "import matplotlib.pyplot as plt\n",
    "import os \n",
    "import sys\n",
    "import seaborn as sns\n",
    "import scipy as sp\n",
    "import scipy.stats as stats\n",
    "from scipy.stats import norm\n",
    "import xgboost\n",
    "%matplotlib inline\n",
    "\n",
    "\n",
    "# import pre-processing modules \n",
    "from scipy import stats\n",
    "from sklearn.model_selection import train_test_split\n",
    "from sklearn.preprocessing import OneHotEncoder, StandardScaler\n",
    "from sklearn.feature_selection import SelectFromModel \n",
    "\n",
    "# import classifiers\n",
    "# scale robust\n",
    "from sklearn.ensemble import RandomForestClassifier\n",
    "from sklearn.linear_model import LogisticRegression\n",
    "from sklearn.naive_bayes import GaussianNB\n",
    "from sklearn.ensemble import AdaBoostClassifier\n",
    "from sklearn.ensemble import GradientBoostingClassifier\n",
    "from xgboost import XGBClassifier\n",
    "\n",
    "# scale sensitive\n",
    "from sklearn.linear_model import SGDClassifier\n",
    "from sklearn.svm import SVC\n",
    "\n",
    "# import evaluation modules\n",
    "from sklearn.model_selection import GridSearchCV\n",
    "from sklearn.model_selection import cross_val_score\n",
    "from sklearn.metrics import accuracy_score\n",
    "from sklearn.metrics import precision_recall_fscore_support\n",
    "from sklearn.metrics import classification_report"
   ]
  },
  {
   "cell_type": "code",
   "execution_count": 558,
   "id": "705c72f0",
   "metadata": {},
   "outputs": [],
   "source": [
    "test_set = pd.read_csv(r\"C:/Users/Yehonatan/PycharmProject/DS/projects/titanic/ignore/test.csv\")\n",
    "train_set = pd.read_csv(r\"C:/Users/Yehonatan/PycharmProject/DS/projects/titanic/ignore/train.csv\")\n",
    "df_original = pd.concat([train_set,test_set], axis=0, ignore_index=True )\n",
    "\n",
    "df_train = (train_set.copy()).rename(columns=str.lower)\n",
    "df_test = (test_set.copy()).rename(columns=str.lower)\n",
    "\n",
    "df = (df_original.copy()).rename(columns=str.lower)"
   ]
  },
  {
   "cell_type": "code",
   "execution_count": 559,
   "id": "a3e1e8b4",
   "metadata": {},
   "outputs": [],
   "source": [
    "# parse title and fam name from df \n",
    "def parse_name(df):\n",
    "    last_name = df['name'].apply(lambda x : x.split(', ')[0])\n",
    "    temp = df['name'].apply(lambda x : x.split(', ')[1])\n",
    "    title = temp.apply(lambda x : x.split('.')[0])\n",
    "    return title, last_name\n",
    "\n",
    "def cat_to_numeric(df):\n",
    "    cat_columns = df.select_dtypes(['object']).columns\n",
    "    df[cat_columns] = df[cat_columns].apply(lambda x: pd.factorize(x)[0])\n",
    "    return df \n",
    "\n",
    "def pvalue_filter(target_df, features_df, alpha): # returns a list of columns that are possible drop, p_val > alpha, corr, pval\n",
    "    features_columns_names = list(features_df)\n",
    "    target_column_name = list(target_df)\n",
    "    features_np = features_df.to_numpy()\n",
    "    target_np = target_df.to_numpy()\n",
    "    drop_index = []\n",
    "    p_val_list =[]\n",
    "    corr_list = []\n",
    "    \n",
    "    for i in range(len(features_columns_names)):\n",
    "        corr, p_val = sp.stats.pearsonr(features_np[:,i], target_np)\n",
    "        corr_list.append(round(corr,3))\n",
    "        if p_val > alpha:           # accept the null hypothesis, no statisitcal significance  \n",
    "            drop_index.append(i)\n",
    "            p_val_list.append(p_val)\n",
    "            \n",
    "    drop_col = [features_columns_names[i] for i in drop_index]\n",
    "    return drop_col, corr_list, p_val_list\n",
    "\n",
    "def features_corr_filter(features, corr_cutoff): \n",
    "    corr = features.corr()\n",
    "    columns = np.full((corr.shape[0],), True, dtype=bool) # create boolean filter \n",
    "\n",
    "    for i in range(corr.shape[0]):\n",
    "        for j in range(i+1, corr.shape[0]):\n",
    "            if corr.iloc[i,j] >= corr_cutoff:\n",
    "                columns[j] = False\n",
    "\n",
    "    rejected_columns = x_train.columns[np.invert(columns)]\n",
    "    #print('reject',rejected_columns)\n",
    "    selected_columns = x_train.columns[columns]\n",
    "    #print('selected',selected_columns)\n",
    "    return selected_columns, rejected_columns\n"
   ]
  },
  {
   "cell_type": "code",
   "execution_count": 560,
   "id": "93e4e5d4",
   "metadata": {},
   "outputs": [
    {
     "name": "stdout",
     "output_type": "stream",
     "text": [
      "df  age nans before 263\n",
      "df age nans after 0\n"
     ]
    }
   ],
   "source": [
    "age_nan = df[df['age'].isna()]\n",
    "print('df  age nans before',df['age'].isna().sum())\n",
    "###### Deal with masters  ############################################\n",
    "title, last_name = parse_name(age_nan)\n",
    "title = title[title == 'Master']\n",
    "master_index = title.index.to_numpy()\n",
    "\n",
    "df_young = df[df[\"age\"] < 15 ]\n",
    "child_mean = round(df_young['age'].mean(),2)\n",
    "       \n",
    "for i in master_index:\n",
    "    df.at[i,'age'] = child_mean \n",
    "\n",
    "age_nan = df[df['age'].isna()] # update the age_nan\n",
    "\n",
    "####### DEAL  with lone passengers ############################################\n",
    "\n",
    "l_p_t = age_nan[age_nan['sibsp'] == 0]\n",
    "lone_pass = l_p_t[l_p_t['parch'] == 0] # passengers who travel alone and cant determine their age by relatives\n",
    "#lone_pass\n",
    "\n",
    "# calc mean by gender\n",
    "df_male = df[df['sex'] == 'male']\n",
    "df_female = df[df['sex'] == 'female']\n",
    "male_mean = round(df_male['age'].mean(),2)\n",
    "female_mean = round(df_female['age'].mean(),2)\n",
    "\n",
    "lone_pass_male = lone_pass[lone_pass['sex'] == 'male']\n",
    "lone_pass_female = lone_pass[lone_pass['sex'] == 'female']\n",
    "\n",
    "l_p_m_index = (lone_pass_male.index).to_numpy()\n",
    "l_p_f_index = (lone_pass_female.index).to_numpy()\n",
    "\n",
    "for m in l_p_m_index:\n",
    "    df.at[m,'age'] = male_mean\n",
    "\n",
    "for f in l_p_f_index:\n",
    "    df.at[f,'age'] = female_mean\n",
    "    \n",
    "age_nan = df[df['age'].isna()] # update the age_nan\n",
    "\n",
    "\n",
    "\n",
    "########## ONE companion ############################################################\n",
    "# one companion in nan df # assign the age of the companion tot the nan \n",
    "one_comp_nan = age_nan[age_nan['parch'] == 0] \n",
    "one_comp_nan = one_comp_nan[one_comp_nan['sibsp'] == 1]\n",
    "title_ocn, last_name_ocn = parse_name(one_comp_nan)\n",
    "ocn_index = (title_ocn.index).to_numpy()\n",
    "\n",
    "\n",
    "one_comp = df[df['parch'] == 0] # one companion in general df may contain istself. but some companions are both nan in age\n",
    "one_comp = one_comp[one_comp['sibsp'] == 1]\n",
    "#one_comp = one_comp[~one_comp['age'].isna()]\n",
    "title_oc, last_name_oc = parse_name(one_comp)\n",
    "oc_index = (title_oc.index).to_numpy()\n",
    "\n",
    "for l in range(len(one_comp_nan)):\n",
    "    for i in range(len(one_comp)):\n",
    "        \n",
    "        if (list(last_name_ocn)[l] == list(last_name_oc)[i] and ocn_index[l] != oc_index[i]): #ensures same last name and not same person\n",
    "        \n",
    "            if df.at[oc_index[i],'age'] != float('nan'):\n",
    "                df.at[ocn_index[l],'age'] =  df.at[oc_index[i],'age'] \n",
    "            if list(title_ocn)[l] == 'Mrs' : # she and her husbnad are adults and get the adult average\n",
    "                df.at[ocn_index[l],'age'] = female_mean\n",
    "                df.at[oc_index[i],'age'] = male_mean\n",
    "            if list(title_ocn)[l] == 'Miss': # she is a miss and I assume that travels with a sibling so get young average\n",
    "                df.at[ocn_index[l],'age'] = child_mean\n",
    "                df.at[oc_index[i],'age'] = child_mean\n",
    "            if list(title_ocn)[l] == 'Mr' and list(title_oc)[i] != 'Mrs':\n",
    "                df.at[ocn_index[l],'age'] = child_mean\n",
    "                df.at[oc_index[i],'age'] = child_mean\n",
    "\n",
    "\n",
    "age_nan = df[df['age'].isna()] # update the age_nan\n",
    "\n",
    "# notice there are only two famillies with 3 siblings travelling together I assume they are all young <15.\n",
    "three_siblings = age_nan[age_nan['parch'] == 0] \n",
    "three_siblings = three_siblings[three_siblings['sibsp'] == 2]\n",
    "index_temp = three_siblings.index.to_numpy()\n",
    "for i in index_temp:\n",
    "    df.at[i,'age'] = child_mean\n",
    "\n",
    "age_nan = df[df['age'].isna()] # update the age_nan\n",
    "\n",
    "########### Hand fill age nans #######################################################\n",
    "\n",
    "\n",
    "# hand fill, thought it will be quicker than thinking about an algo  \n",
    "#parents\n",
    "df.at[1233, 'age'] = male_mean\n",
    "df.at[1256, 'age'] = female_mean\n",
    "#kids\n",
    "sages = df[df['ticket'] == 'CA. 2343']\n",
    "sages = sages[sages['age'].isna()]\n",
    "\n",
    "index_temp = sages.index.to_numpy()\n",
    "for i in index_temp:\n",
    "    df.at[i,'age'] = child_mean\n",
    "age_nan = df[df['age'].isna()] # update the age_nan\n",
    "\n",
    "df.at[1023, 'age'] = female_mean\n",
    "lebfre = df[df['ticket'] == '4133']\n",
    "lebfre = lebfre[lebfre['age'].isna()]\n",
    "index_temp = lebfre.index.to_numpy()\n",
    "for i in index_temp:\n",
    "    df.at[i,'age'] = child_mean\n",
    "age_nan = df[df['age'].isna()] # update the age_nan\n",
    "\n",
    "#jhonston\n",
    "#parents\n",
    "df.at[783, 'age'] = male_mean\n",
    "df.at[924, 'age'] = female_mean\n",
    "df.at[888,'age'] = child_mean\n",
    "age_nan = df[df['age'].isna()] # update the age_nan\n",
    "\n",
    "df.at[1024, 'age'] = male_mean # has no sibsp as I looked\n",
    "df.at[128, 'age'] = child_mean\n",
    "df.at[593, 'age'] = child_mean\n",
    "df.at[166, 'age'] = female_mean\n",
    "df.at[533, 'age'] = female_mean\n",
    "df.at[593, 'age'] = female_mean\n",
    "df.at[1116, 'age'] = female_mean\n",
    "df.at[140, 'age'] = female_mean\n",
    "age_nan = df[df['age'].isna()] # update the age_nan\n",
    "\n",
    "print('df age nans after',df['age'].isna().sum())"
   ]
  },
  {
   "cell_type": "markdown",
   "id": "317a4c13",
   "metadata": {},
   "source": [
    "## other nans "
   ]
  },
  {
   "cell_type": "code",
   "execution_count": 561,
   "id": "28a1398b",
   "metadata": {},
   "outputs": [],
   "source": [
    "# fill fare nan as the average of 3 class . \n",
    "\n",
    "t_class = df[df['pclass'] == 3]\n",
    "t_class_mean = t_class['fare'].mean()\n",
    "df.at[1043, 'fare'] = t_class_mean\n",
    "df['cabin'] = df['cabin'].fillna(5)\n",
    "\n",
    "# fill nan embarked to be an class of itself\n",
    "df.at[61, 'embarked'] = 'M'\n",
    "df.at[829, 'embarked'] = 'M'"
   ]
  },
  {
   "cell_type": "code",
   "execution_count": 562,
   "id": "6d8a5415",
   "metadata": {},
   "outputs": [
    {
     "name": "stdout",
     "output_type": "stream",
     "text": [
      "<class 'pandas.core.frame.DataFrame'>\n",
      "RangeIndex: 1309 entries, 0 to 1308\n",
      "Data columns (total 12 columns):\n",
      " #   Column       Non-Null Count  Dtype  \n",
      "---  ------       --------------  -----  \n",
      " 0   passengerid  1309 non-null   int64  \n",
      " 1   survived     891 non-null    float64\n",
      " 2   pclass       1309 non-null   int64  \n",
      " 3   name         1309 non-null   object \n",
      " 4   sex          1309 non-null   object \n",
      " 5   age          1309 non-null   float64\n",
      " 6   sibsp        1309 non-null   int64  \n",
      " 7   parch        1309 non-null   int64  \n",
      " 8   ticket       1309 non-null   object \n",
      " 9   fare         1309 non-null   float64\n",
      " 10  cabin        1309 non-null   object \n",
      " 11  embarked     1309 non-null   object \n",
      "dtypes: float64(3), int64(4), object(5)\n",
      "memory usage: 122.8+ KB\n"
     ]
    }
   ],
   "source": [
    "df.info() "
   ]
  },
  {
   "cell_type": "markdown",
   "id": "4f906095",
   "metadata": {},
   "source": [
    "# categorize "
   ]
  },
  {
   "cell_type": "code",
   "execution_count": 563,
   "id": "062af673",
   "metadata": {},
   "outputs": [],
   "source": [
    "df = cat_to_numeric(df)"
   ]
  },
  {
   "cell_type": "code",
   "execution_count": 564,
   "id": "04810f9b",
   "metadata": {},
   "outputs": [],
   "source": [
    "# divide back into train test sets \n",
    "df_train = df.iloc[:890,:]\n",
    "df_test = df.iloc[891:,:]\n",
    "\n",
    "#df_train.info()\n",
    "#df_test.info()"
   ]
  },
  {
   "cell_type": "markdown",
   "id": "ce905288",
   "metadata": {},
   "source": [
    "## check corr"
   ]
  },
  {
   "cell_type": "code",
   "execution_count": 565,
   "id": "a54d7db7",
   "metadata": {},
   "outputs": [
    {
     "data": {
      "text/plain": [
       "survived       1.000000\n",
       "sex            0.543053\n",
       "cabin          0.270225\n",
       "fare           0.256995\n",
       "embarked       0.120736\n",
       "parch          0.081248\n",
       "passengerid   -0.003479\n",
       "name          -0.003479\n",
       "sibsp         -0.035760\n",
       "ticket        -0.045727\n",
       "age           -0.065915\n",
       "pclass        -0.337996\n",
       "Name: survived, dtype: float64"
      ]
     },
     "execution_count": 565,
     "metadata": {},
     "output_type": "execute_result"
    }
   ],
   "source": [
    "corr_mat = df_train.corr()\n",
    "corr_mat['survived'].sort_values(ascending=False)"
   ]
  },
  {
   "cell_type": "markdown",
   "id": "28418280",
   "metadata": {},
   "source": [
    "# train"
   ]
  },
  {
   "cell_type": "code",
   "execution_count": 566,
   "id": "7b6ae032",
   "metadata": {},
   "outputs": [
    {
     "name": "stdout",
     "output_type": "stream",
     "text": [
      "['name', 'sibsp', 'ticket']\n"
     ]
    }
   ],
   "source": [
    "x_train = df_train.drop(columns = ['survived','passengerid'])\n",
    "y_train = df_train['survived']\n",
    "\n",
    "drop_col, corr_list, p_val_list = pvalue_filter(y_train, x_train, 0.05)\n",
    "x_train = x_train.drop(drop_col, axis=1)\n",
    "print(drop_col)"
   ]
  },
  {
   "cell_type": "code",
   "execution_count": 567,
   "id": "e147ae7b",
   "metadata": {},
   "outputs": [
    {
     "name": "stdout",
     "output_type": "stream",
     "text": [
      "Index(['pclass', 'sex', 'age', 'parch', 'fare', 'cabin', 'embarked'], dtype='object')\n",
      "Index([], dtype='object')\n"
     ]
    }
   ],
   "source": [
    "selected_columns, rejected_columns = features_corr_filter(x_train, 0.9)\n",
    "print(selected_columns)\n",
    "print(rejected_columns)\n",
    "\n",
    "\n",
    "x_train = x_train[selected_columns]\n",
    "x_test = x_test[selected_columns]"
   ]
  },
  {
   "cell_type": "code",
   "execution_count": 568,
   "id": "e6e20ea7",
   "metadata": {},
   "outputs": [],
   "source": [
    "# scaler = StandardScaler()\n",
    "\n",
    "# x_train = scaler.fit_transform(x_train)\n",
    "\n",
    "# x_test = df_test.drop(columns =  ['survived', 'passengerid'])\n",
    "# x_test = scaler.transform(x_test)\n"
   ]
  },
  {
   "cell_type": "code",
   "execution_count": 569,
   "id": "9d081e01",
   "metadata": {},
   "outputs": [],
   "source": [
    "# rf\n",
    "clf = RandomForestClassifier(n_estimators= 200, max_depth=2, random_state=9)\n",
    "clf.fit(x_train, y_train)\n",
    "y_train_pred = clf.predict(x_train)"
   ]
  },
  {
   "cell_type": "code",
   "execution_count": 87,
   "id": "fa64bf05",
   "metadata": {},
   "outputs": [],
   "source": [
    "clf = LogisticRegression(random_state=9, max_iter=500, solver = 'newton-cg') \n",
    "clf.fit(x_train, y_train)\n",
    "y_train_pred = clf.predict(x_train)"
   ]
  },
  {
   "cell_type": "code",
   "execution_count": 91,
   "id": "087800fb",
   "metadata": {},
   "outputs": [],
   "source": [
    "clf = GaussianNB()\n",
    "clf.fit(x_train, y_train)\n",
    "y_train_pred = clf.predict(x_train)"
   ]
  },
  {
   "cell_type": "code",
   "execution_count": 110,
   "id": "69f35b0c",
   "metadata": {},
   "outputs": [],
   "source": [
    "clf = AdaBoostClassifier(n_estimators=70, random_state=0)\n",
    "clf.fit(x_train, y_train)\n",
    "y_train_pred = clf.predict(x_train)"
   ]
  },
  {
   "cell_type": "code",
   "execution_count": 179,
   "id": "243c5ab2",
   "metadata": {},
   "outputs": [],
   "source": [
    "clf = GradientBoostingClassifier(n_estimators=40, learning_rate=0.25,\n",
    "                                 max_depth=2, random_state=0)\n",
    "clf.fit(x_train, y_train)\n",
    "y_train_pred = clf.predict(x_train)"
   ]
  },
  {
   "cell_type": "code",
   "execution_count": 573,
   "id": "edcda3c1",
   "metadata": {},
   "outputs": [],
   "source": [
    "clf =  XGBClassifier(n_estimators=100, max_depth=5 ,learning_rate=0.5, objective='binary:logistic',gamma=3)\n",
    "clf.fit(x_train, y_train)\n",
    "y_train_pred = clf.predict(x_train)"
   ]
  },
  {
   "cell_type": "code",
   "execution_count": 574,
   "id": "ed60a6dd",
   "metadata": {},
   "outputs": [
    {
     "data": {
      "text/html": [
       "<style>#sk-container-id-50 {color: black;background-color: white;}#sk-container-id-50 pre{padding: 0;}#sk-container-id-50 div.sk-toggleable {background-color: white;}#sk-container-id-50 label.sk-toggleable__label {cursor: pointer;display: block;width: 100%;margin-bottom: 0;padding: 0.3em;box-sizing: border-box;text-align: center;}#sk-container-id-50 label.sk-toggleable__label-arrow:before {content: \"▸\";float: left;margin-right: 0.25em;color: #696969;}#sk-container-id-50 label.sk-toggleable__label-arrow:hover:before {color: black;}#sk-container-id-50 div.sk-estimator:hover label.sk-toggleable__label-arrow:before {color: black;}#sk-container-id-50 div.sk-toggleable__content {max-height: 0;max-width: 0;overflow: hidden;text-align: left;background-color: #f0f8ff;}#sk-container-id-50 div.sk-toggleable__content pre {margin: 0.2em;color: black;border-radius: 0.25em;background-color: #f0f8ff;}#sk-container-id-50 input.sk-toggleable__control:checked~div.sk-toggleable__content {max-height: 200px;max-width: 100%;overflow: auto;}#sk-container-id-50 input.sk-toggleable__control:checked~label.sk-toggleable__label-arrow:before {content: \"▾\";}#sk-container-id-50 div.sk-estimator input.sk-toggleable__control:checked~label.sk-toggleable__label {background-color: #d4ebff;}#sk-container-id-50 div.sk-label input.sk-toggleable__control:checked~label.sk-toggleable__label {background-color: #d4ebff;}#sk-container-id-50 input.sk-hidden--visually {border: 0;clip: rect(1px 1px 1px 1px);clip: rect(1px, 1px, 1px, 1px);height: 1px;margin: -1px;overflow: hidden;padding: 0;position: absolute;width: 1px;}#sk-container-id-50 div.sk-estimator {font-family: monospace;background-color: #f0f8ff;border: 1px dotted black;border-radius: 0.25em;box-sizing: border-box;margin-bottom: 0.5em;}#sk-container-id-50 div.sk-estimator:hover {background-color: #d4ebff;}#sk-container-id-50 div.sk-parallel-item::after {content: \"\";width: 100%;border-bottom: 1px solid gray;flex-grow: 1;}#sk-container-id-50 div.sk-label:hover label.sk-toggleable__label {background-color: #d4ebff;}#sk-container-id-50 div.sk-serial::before {content: \"\";position: absolute;border-left: 1px solid gray;box-sizing: border-box;top: 0;bottom: 0;left: 50%;z-index: 0;}#sk-container-id-50 div.sk-serial {display: flex;flex-direction: column;align-items: center;background-color: white;padding-right: 0.2em;padding-left: 0.2em;position: relative;}#sk-container-id-50 div.sk-item {position: relative;z-index: 1;}#sk-container-id-50 div.sk-parallel {display: flex;align-items: stretch;justify-content: center;background-color: white;position: relative;}#sk-container-id-50 div.sk-item::before, #sk-container-id-50 div.sk-parallel-item::before {content: \"\";position: absolute;border-left: 1px solid gray;box-sizing: border-box;top: 0;bottom: 0;left: 50%;z-index: -1;}#sk-container-id-50 div.sk-parallel-item {display: flex;flex-direction: column;z-index: 1;position: relative;background-color: white;}#sk-container-id-50 div.sk-parallel-item:first-child::after {align-self: flex-end;width: 50%;}#sk-container-id-50 div.sk-parallel-item:last-child::after {align-self: flex-start;width: 50%;}#sk-container-id-50 div.sk-parallel-item:only-child::after {width: 0;}#sk-container-id-50 div.sk-dashed-wrapped {border: 1px dashed gray;margin: 0 0.4em 0.5em 0.4em;box-sizing: border-box;padding-bottom: 0.4em;background-color: white;}#sk-container-id-50 div.sk-label label {font-family: monospace;font-weight: bold;display: inline-block;line-height: 1.2em;}#sk-container-id-50 div.sk-label-container {text-align: center;}#sk-container-id-50 div.sk-container {/* jupyter's `normalize.less` sets `[hidden] { display: none; }` but bootstrap.min.css set `[hidden] { display: none !important; }` so we also need the `!important` here to be able to override the default hidden behavior on the sphinx rendered scikit-learn.org. See: https://github.com/scikit-learn/scikit-learn/issues/21755 */display: inline-block !important;position: relative;}#sk-container-id-50 div.sk-text-repr-fallback {display: none;}</style><div id=\"sk-container-id-50\" class=\"sk-top-container\"><div class=\"sk-text-repr-fallback\"><pre>XGBClassifier(base_score=0.5, booster=&#x27;gbtree&#x27;, callbacks=None,\n",
       "              colsample_bylevel=1, colsample_bynode=1, colsample_bytree=1,\n",
       "              early_stopping_rounds=None, enable_categorical=False,\n",
       "              eval_metric=None, feature_types=None, gamma=3, gpu_id=-1,\n",
       "              grow_policy=&#x27;depthwise&#x27;, importance_type=None,\n",
       "              interaction_constraints=&#x27;&#x27;, learning_rate=0.5, max_bin=256,\n",
       "              max_cat_threshold=64, max_cat_to_onehot=4, max_delta_step=0,\n",
       "              max_depth=5, max_leaves=0, min_child_weight=1, missing=nan,\n",
       "              monotone_constraints=&#x27;()&#x27;, n_estimators=100, n_jobs=0,\n",
       "              num_parallel_tree=1, predictor=&#x27;auto&#x27;, random_state=0, ...)</pre><b>In a Jupyter environment, please rerun this cell to show the HTML representation or trust the notebook. <br />On GitHub, the HTML representation is unable to render, please try loading this page with nbviewer.org.</b></div><div class=\"sk-container\" hidden><div class=\"sk-item\"><div class=\"sk-estimator sk-toggleable\"><input class=\"sk-toggleable__control sk-hidden--visually\" id=\"sk-estimator-id-50\" type=\"checkbox\" checked><label for=\"sk-estimator-id-50\" class=\"sk-toggleable__label sk-toggleable__label-arrow\">XGBClassifier</label><div class=\"sk-toggleable__content\"><pre>XGBClassifier(base_score=0.5, booster=&#x27;gbtree&#x27;, callbacks=None,\n",
       "              colsample_bylevel=1, colsample_bynode=1, colsample_bytree=1,\n",
       "              early_stopping_rounds=None, enable_categorical=False,\n",
       "              eval_metric=None, feature_types=None, gamma=3, gpu_id=-1,\n",
       "              grow_policy=&#x27;depthwise&#x27;, importance_type=None,\n",
       "              interaction_constraints=&#x27;&#x27;, learning_rate=0.5, max_bin=256,\n",
       "              max_cat_threshold=64, max_cat_to_onehot=4, max_delta_step=0,\n",
       "              max_depth=5, max_leaves=0, min_child_weight=1, missing=nan,\n",
       "              monotone_constraints=&#x27;()&#x27;, n_estimators=100, n_jobs=0,\n",
       "              num_parallel_tree=1, predictor=&#x27;auto&#x27;, random_state=0, ...)</pre></div></div></div></div></div>"
      ],
      "text/plain": [
       "XGBClassifier(base_score=0.5, booster='gbtree', callbacks=None,\n",
       "              colsample_bylevel=1, colsample_bynode=1, colsample_bytree=1,\n",
       "              early_stopping_rounds=None, enable_categorical=False,\n",
       "              eval_metric=None, feature_types=None, gamma=3, gpu_id=-1,\n",
       "              grow_policy='depthwise', importance_type=None,\n",
       "              interaction_constraints='', learning_rate=0.5, max_bin=256,\n",
       "              max_cat_threshold=64, max_cat_to_onehot=4, max_delta_step=0,\n",
       "              max_depth=5, max_leaves=0, min_child_weight=1, missing=nan,\n",
       "              monotone_constraints='()', n_estimators=100, n_jobs=0,\n",
       "              num_parallel_tree=1, predictor='auto', random_state=0, ...)"
      ]
     },
     "execution_count": 574,
     "metadata": {},
     "output_type": "execute_result"
    }
   ],
   "source": [
    "clf"
   ]
  },
  {
   "cell_type": "code",
   "execution_count": 575,
   "id": "dfe55dd6",
   "metadata": {},
   "outputs": [
    {
     "name": "stdout",
     "output_type": "stream",
     "text": [
      "accuracy : 0.863\n",
      "precision : 0.887\n",
      "recall : 0.737\n",
      "f_score : 0.805\n"
     ]
    }
   ],
   "source": [
    "precision, recall, f_1, support = precision_recall_fscore_support(y_train, y_train_pred, average='binary')\n",
    "accuracy = accuracy_score(y_train, y_train_pred)\n",
    "print('accuracy :', np.round(accuracy,3))\n",
    "print('precision :', np.round(precision,3))\n",
    "print('recall :', np.round(recall,3))\n",
    "print('f_score :', np.round(f_1,3))"
   ]
  },
  {
   "cell_type": "code",
   "execution_count": 576,
   "id": "fff2e227",
   "metadata": {},
   "outputs": [
    {
     "name": "stdout",
     "output_type": "stream",
     "text": [
      "cv_avg_accuracy : 0.826\n",
      "cv_avg_precision 0.804\n",
      "cv_avg_recall 0.722\n",
      "cv_avg_fscore : 0.759\n"
     ]
    }
   ],
   "source": [
    "cv_5_accuracy = cross_val_score(clf, x_train , y_train, cv=5, scoring='accuracy')\n",
    "cv_5_precision = cross_val_score(clf, x_train , y_train, cv=5, scoring='precision')\n",
    "cv_5_recall = cross_val_score(clf, x_train , y_train, cv=5, scoring='recall')\n",
    "cv_5_f1 = cross_val_score(clf, x_train , y_train, cv=5, scoring='f1')\n",
    "\n",
    "print('cv_avg_accuracy :', np.round(cv_5_accuracy.mean(),3))\n",
    "print('cv_avg_precision', np.round(cv_5_precision.mean(),3))\n",
    "print('cv_avg_recall', np.round(cv_5_recall.mean(),3))\n",
    "print('cv_avg_fscore :', np.round(cv_5_f1.mean(),3))"
   ]
  },
  {
   "cell_type": "code",
   "execution_count": 577,
   "id": "f07ccffe",
   "metadata": {},
   "outputs": [
    {
     "data": {
      "text/plain": [
       "<AxesSubplot: title={'center': 'Feature importance'}, xlabel='F score', ylabel='Features'>"
      ]
     },
     "execution_count": 577,
     "metadata": {},
     "output_type": "execute_result"
    },
    {
     "data": {
      "image/png": "[encoded data removed]",
      "text/plain": [
       "<Figure size 640x480 with 1 Axes>"
      ]
     },
     "metadata": {},
     "output_type": "display_data"
    }
   ],
   "source": [
    "xgboost.plot_importance(clf,ax=plt.gca())"
   ]
  },
  {
   "cell_type": "markdown",
   "id": "5e3b7d10",
   "metadata": {},
   "source": [
    "# Test"
   ]
  },
  {
   "cell_type": "code",
   "execution_count": 578,
   "id": "db9136c9",
   "metadata": {},
   "outputs": [],
   "source": [
    "y_test_pred = clf.predict(x_test)\n",
    "y_test_pred = y_test_pred.astype(int)"
   ]
  },
  {
   "cell_type": "code",
   "execution_count": 579,
   "id": "2ba66829",
   "metadata": {},
   "outputs": [],
   "source": [
    "passenger_id = df_test['passengerid'].values\n",
    "submission_df = pd.DataFrame({'Passengerid': passenger_id, 'Survived': y_test_pred})\n",
    "submission_df.to_csv('titanic_pred_10.csv', index = False)\n"
   ]
  },
  {
   "cell_type": "code",
   "execution_count": null,
   "id": "f29ce459",
   "metadata": {},
   "outputs": [],
   "source": []
  },
  {
   "cell_type": "code",
   "execution_count": null,
   "id": "571dcc7c",
   "metadata": {},
   "outputs": [],
   "source": []
  }
 ],
 "metadata": {
  "kernelspec": {
   "display_name": "Python 3 (ipykernel)",
   "language": "python",
   "name": "python3"
  },
  "language_info": {
   "codemirror_mode": {
    "name": "ipython",
    "version": 3
   },
   "file_extension": ".py",
   "mimetype": "text/x-python",
   "name": "python",
   "nbconvert_exporter": "python",
   "pygments_lexer": "ipython3",
   "version": "3.8.10"
  }
 },
 "nbformat": 4,
 "nbformat_minor": 5
}
